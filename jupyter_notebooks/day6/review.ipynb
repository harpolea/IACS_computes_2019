{
 "cells": [
  {
   "cell_type": "markdown",
   "metadata": {},
   "source": [
    "# Day 5 Review\n",
    "\n",
    "On day 5, we looked at dictionaries, errors & exceptions and advanced functions."
   ]
  },
  {
   "cell_type": "markdown",
   "metadata": {},
   "source": [
    "## Dictionaries"
   ]
  },
  {
   "cell_type": "code",
   "execution_count": 1,
   "metadata": {},
   "outputs": [
    {
     "name": "stdout",
     "output_type": "stream",
     "text": [
      "{}\n",
      "{}\n"
     ]
    }
   ],
   "source": [
    "# Define an empty dictionary \n",
    "empty_dict = dict()\n",
    "# Can also do it this way\n",
    "another_empty_dict = {}\n",
    "print(empty_dict)\n",
    "print(another_empty_dict)"
   ]
  },
  {
   "cell_type": "code",
   "execution_count": 2,
   "metadata": {},
   "outputs": [
    {
     "data": {
      "text/plain": [
       "{'Gryffindor': 'red',\n",
       " 'Ravenclaw': 'blue',\n",
       " 'Slytherin': 'green',\n",
       " 'Hufflepuff': 'yellow'}"
      ]
     },
     "execution_count": 2,
     "metadata": {},
     "output_type": "execute_result"
    }
   ],
   "source": [
    "# Define a dictionary from a list of keys and values\n",
    "house_dict = {'Gryffindor': 'red',\n",
    "              'Ravenclaw': 'blue',\n",
    "              'Slytherin': 'green',\n",
    "              'Hufflepuff': 'yellow'}\n",
    "house_dict"
   ]
  },
  {
   "cell_type": "code",
   "execution_count": 3,
   "metadata": {},
   "outputs": [
    {
     "data": {
      "text/plain": [
       "'red'"
      ]
     },
     "execution_count": 3,
     "metadata": {},
     "output_type": "execute_result"
    }
   ],
   "source": [
    "# access an element\n",
    "house_dict['Gryffindor']"
   ]
  },
  {
   "cell_type": "code",
   "execution_count": 4,
   "metadata": {},
   "outputs": [
    {
     "data": {
      "text/plain": [
       "{'Gryffindor': 'red',\n",
       " 'Ravenclaw': 'blue',\n",
       " 'Slytherin': 'green',\n",
       " 'Hufflepuff': 'yellow',\n",
       " 'Thunderbird': 'purple'}"
      ]
     },
     "execution_count": 4,
     "metadata": {},
     "output_type": "execute_result"
    }
   ],
   "source": [
    "# add an element\n",
    "house_dict['Thunderbird'] = 'purple'\n",
    "house_dict"
   ]
  },
  {
   "cell_type": "code",
   "execution_count": 5,
   "metadata": {},
   "outputs": [
    {
     "name": "stdout",
     "output_type": "stream",
     "text": [
      "Gryffindor\n",
      "Ravenclaw\n",
      "Slytherin\n",
      "Hufflepuff\n",
      "Thunderbird\n"
     ]
    }
   ],
   "source": [
    "# iterate over keys\n",
    "for k in house_dict.keys():\n",
    "    print(k)"
   ]
  },
  {
   "cell_type": "code",
   "execution_count": 6,
   "metadata": {},
   "outputs": [
    {
     "name": "stdout",
     "output_type": "stream",
     "text": [
      "red\n",
      "blue\n",
      "green\n",
      "yellow\n",
      "purple\n"
     ]
    }
   ],
   "source": [
    "# iterate over values\n",
    "for v in house_dict.values():\n",
    "    print(v)"
   ]
  },
  {
   "cell_type": "code",
   "execution_count": 7,
   "metadata": {},
   "outputs": [
    {
     "name": "stdout",
     "output_type": "stream",
     "text": [
      "Gryffindor red\n",
      "Ravenclaw blue\n",
      "Slytherin green\n",
      "Hufflepuff yellow\n",
      "Thunderbird purple\n"
     ]
    }
   ],
   "source": [
    "# iterate over items\n",
    "for k, v in house_dict.items():\n",
    "    print(k, v)"
   ]
  },
  {
   "cell_type": "code",
   "execution_count": 8,
   "metadata": {},
   "outputs": [
    {
     "name": "stdout",
     "output_type": "stream",
     "text": [
      "True\n",
      "False\n",
      "True\n"
     ]
    }
   ],
   "source": [
    "# test if something is in a dictionary\n",
    "print('Gryffindor' in house_dict)\n",
    "print('red' in house_dict) # note this checks the keys, not the values!\n",
    "print('green' in house_dict.values())"
   ]
  },
  {
   "cell_type": "markdown",
   "metadata": {},
   "source": [
    "## Errors & exceptions"
   ]
  },
  {
   "cell_type": "code",
   "execution_count": 9,
   "metadata": {},
   "outputs": [],
   "source": [
    "# use an assert statement to check before things go wrong \n",
    "import math\n",
    "\n",
    "def sqrt(n):\n",
    "    assert n >=0, 'n must be greater than 0!' # make sure to provide a helpful message!\n",
    "    \n",
    "    return math.sqrt(n)"
   ]
  },
  {
   "cell_type": "code",
   "execution_count": 10,
   "metadata": {},
   "outputs": [
    {
     "data": {
      "text/plain": [
       "2.0"
      ]
     },
     "execution_count": 10,
     "metadata": {},
     "output_type": "execute_result"
    }
   ],
   "source": [
    "sqrt(4)"
   ]
  },
  {
   "cell_type": "code",
   "execution_count": 11,
   "metadata": {},
   "outputs": [
    {
     "ename": "AssertionError",
     "evalue": "n must be greater than 0!",
     "output_type": "error",
     "traceback": [
      "\u001b[0;31m---------------------------------------------------------------------------\u001b[0m",
      "\u001b[0;31mAssertionError\u001b[0m                            Traceback (most recent call last)",
      "\u001b[0;32m<ipython-input-11-8be5c01c52c0>\u001b[0m in \u001b[0;36m<module>\u001b[0;34m\u001b[0m\n\u001b[0;32m----> 1\u001b[0;31m \u001b[0msqrt\u001b[0m\u001b[0;34m(\u001b[0m\u001b[0;34m-\u001b[0m\u001b[0;36m3\u001b[0m\u001b[0;34m)\u001b[0m\u001b[0;34m\u001b[0m\u001b[0;34m\u001b[0m\u001b[0m\n\u001b[0m",
      "\u001b[0;32m<ipython-input-9-3bf80b3516d1>\u001b[0m in \u001b[0;36msqrt\u001b[0;34m(n)\u001b[0m\n\u001b[1;32m      3\u001b[0m \u001b[0;34m\u001b[0m\u001b[0m\n\u001b[1;32m      4\u001b[0m \u001b[0;32mdef\u001b[0m \u001b[0msqrt\u001b[0m\u001b[0;34m(\u001b[0m\u001b[0mn\u001b[0m\u001b[0;34m)\u001b[0m\u001b[0;34m:\u001b[0m\u001b[0;34m\u001b[0m\u001b[0;34m\u001b[0m\u001b[0m\n\u001b[0;32m----> 5\u001b[0;31m     \u001b[0;32massert\u001b[0m \u001b[0mn\u001b[0m \u001b[0;34m>=\u001b[0m\u001b[0;36m0\u001b[0m\u001b[0;34m,\u001b[0m \u001b[0;34m'n must be greater than 0!'\u001b[0m \u001b[0;31m# make sure to provide a helpful message!\u001b[0m\u001b[0;34m\u001b[0m\u001b[0;34m\u001b[0m\u001b[0m\n\u001b[0m\u001b[1;32m      6\u001b[0m \u001b[0;34m\u001b[0m\u001b[0m\n\u001b[1;32m      7\u001b[0m     \u001b[0;32mreturn\u001b[0m \u001b[0mmath\u001b[0m\u001b[0;34m.\u001b[0m\u001b[0msqrt\u001b[0m\u001b[0;34m(\u001b[0m\u001b[0mn\u001b[0m\u001b[0;34m)\u001b[0m\u001b[0;34m\u001b[0m\u001b[0;34m\u001b[0m\u001b[0m\n",
      "\u001b[0;31mAssertionError\u001b[0m: n must be greater than 0!"
     ]
    }
   ],
   "source": [
    "sqrt(-3)"
   ]
  },
  {
   "cell_type": "code",
   "execution_count": 12,
   "metadata": {},
   "outputs": [],
   "source": [
    "# use a try block to smoothly handle when things go wrong\n",
    "\n",
    "def sqrt_or_zero(n):\n",
    "    try:\n",
    "        return math.sqrt(n)\n",
    "    except ValueError: # if math.sqrt is given a negative number, it will raise this\n",
    "        return 0"
   ]
  },
  {
   "cell_type": "code",
   "execution_count": 13,
   "metadata": {},
   "outputs": [
    {
     "data": {
      "text/plain": [
       "29.068883707497267"
      ]
     },
     "execution_count": 13,
     "metadata": {},
     "output_type": "execute_result"
    }
   ],
   "source": [
    "sqrt_or_zero(845)"
   ]
  },
  {
   "cell_type": "code",
   "execution_count": 14,
   "metadata": {},
   "outputs": [
    {
     "data": {
      "text/plain": [
       "0"
      ]
     },
     "execution_count": 14,
     "metadata": {},
     "output_type": "execute_result"
    }
   ],
   "source": [
    "sqrt_or_zero(-12.2356)"
   ]
  },
  {
   "cell_type": "markdown",
   "metadata": {},
   "source": [
    "## Advanced functions"
   ]
  },
  {
   "cell_type": "markdown",
   "metadata": {},
   "source": [
    "This silly example shows that you should always remember about **scope** within your code and be particularly careful with naming conflicts."
   ]
  },
  {
   "cell_type": "code",
   "execution_count": 15,
   "metadata": {},
   "outputs": [
    {
     "name": "stdout",
     "output_type": "stream",
     "text": [
      "At the start, b is 23\n",
      "b is 17\n",
      "and now b is 0\n",
      "and now b is 1\n",
      "and now b is 2\n",
      "and now b is 3\n",
      "b in the nest is 5\n",
      "b is now 3\n",
      "at the end of the function b is 6\n",
      "and finally b is 23\n"
     ]
    }
   ],
   "source": [
    "b = 23\n",
    "\n",
    "print('At the start, b is {}'.format(b))\n",
    "\n",
    "# the b that this function takes as an argument is not the same as the variable \n",
    "# b which I just defined, but its own private variable that shall exist within \n",
    "# the body of the function\n",
    "def all_the_bs(b):\n",
    "    print('b is {}'.format(b))\n",
    "    \n",
    "    # by using b in this for loop, I'm essentially reassigning \n",
    "    # this variable. It now has lost all memory of its value before \n",
    "    # the for loop. \n",
    "    for b in range(4):\n",
    "        print('and now b is {}'.format(b))\n",
    "    \n",
    "    # here I'm defining a function within a function(!)\n",
    "    # the b it takes as its argument is its own private variable\n",
    "    # and is not the same as the variable b used in the outer functon\n",
    "    def nested_b(b):\n",
    "        print('b in the nest is {}'.format(b))\n",
    "    \n",
    "    nested_b(5)\n",
    "    \n",
    "    # this is the value it had at the end of the for loop\n",
    "    print('b is now {}'.format(b))\n",
    "    \n",
    "    b = 6\n",
    "    \n",
    "    # I've now redefined b so it takes this value\n",
    "    print('at the end of the function b is {}'.format(b))\n",
    "    \n",
    "all_the_bs(17)\n",
    "\n",
    "# this is the value of b that I assigned right at the start\n",
    "print('and finally b is {}'.format(b))"
   ]
  },
  {
   "cell_type": "code",
   "execution_count": 16,
   "metadata": {},
   "outputs": [],
   "source": [
    "# if I want to give some inputs default values, I can use keyword arguments\n",
    "def pow(a, n=2):\n",
    "    # calculate a to the power of n\n",
    "    return a**n"
   ]
  },
  {
   "cell_type": "code",
   "execution_count": 17,
   "metadata": {},
   "outputs": [
    {
     "data": {
      "text/plain": [
       "4"
      ]
     },
     "execution_count": 17,
     "metadata": {},
     "output_type": "execute_result"
    }
   ],
   "source": [
    "# this uses the default value of n\n",
    "pow(2)"
   ]
  },
  {
   "cell_type": "code",
   "execution_count": 18,
   "metadata": {},
   "outputs": [
    {
     "data": {
      "text/plain": [
       "4"
      ]
     },
     "execution_count": 18,
     "metadata": {},
     "output_type": "execute_result"
    }
   ],
   "source": [
    "pow(2,2)"
   ]
  },
  {
   "cell_type": "code",
   "execution_count": 19,
   "metadata": {},
   "outputs": [
    {
     "data": {
      "text/plain": [
       "64"
      ]
     },
     "execution_count": 19,
     "metadata": {},
     "output_type": "execute_result"
    }
   ],
   "source": [
    "pow(2,6)"
   ]
  },
  {
   "cell_type": "code",
   "execution_count": 20,
   "metadata": {},
   "outputs": [],
   "source": [
    "# problems can be solved using recursion by calling functions from themselves\n",
    "def am_i_prime(n, divisor=2):\n",
    "    assert type(n) == int, 'This only works for integers!'\n",
    "    if divisor > n/2:\n",
    "        print('I am prime!')\n",
    "        return True\n",
    "    elif n / divisor % 1 == 0:\n",
    "        print('I can be divided by {} so am not prime'.format(divisor))\n",
    "        return False\n",
    "    else:\n",
    "        return am_i_prime(n, divisor+1)"
   ]
  },
  {
   "cell_type": "code",
   "execution_count": null,
   "metadata": {},
   "outputs": [],
   "source": []
  }
 ],
 "metadata": {
  "kernelspec": {
   "display_name": "Python 3",
   "language": "python",
   "name": "python3"
  },
  "language_info": {
   "codemirror_mode": {
    "name": "ipython",
    "version": 3
   },
   "file_extension": ".py",
   "mimetype": "text/x-python",
   "name": "python",
   "nbconvert_exporter": "python",
   "pygments_lexer": "ipython3",
   "version": "3.7.3"
  }
 },
 "nbformat": 4,
 "nbformat_minor": 2
}
