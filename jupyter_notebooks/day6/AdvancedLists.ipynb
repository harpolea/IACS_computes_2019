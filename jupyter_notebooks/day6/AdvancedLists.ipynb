{
 "cells": [
  {
   "cell_type": "markdown",
   "metadata": {},
   "source": [
    "# Advanced Lists"
   ]
  },
  {
   "cell_type": "markdown",
   "metadata": {},
   "source": [
    "Having a built-in list type is one of the many strengths of Python. In this notebook we'll talk about some of the more advanced features of lists."
   ]
  },
  {
   "cell_type": "markdown",
   "metadata": {},
   "source": [
    "## List Comprehension"
   ]
  },
  {
   "cell_type": "markdown",
   "metadata": {},
   "source": [
    "We have seen several different ways of creating lists in Python. Many of these can be found in most modern programming languages. However, Python has its own unique way of quickly creating lists: *list comprehension*."
   ]
  },
  {
   "cell_type": "markdown",
   "metadata": {},
   "source": [
    "Though you don't need to be familiar with mathematical set notation to understand list comprehension, those who are familiar will benefit from the comparison. For this reason, we've included a little bit below. The list we'll be making can be written in set notation as the following:  \n",
    "$$ S = \\{ 2n \\; \\mbox{|} \\; n \\in \\{0,1,2,...,20\\} \\} $$"
   ]
  },
  {
   "cell_type": "markdown",
   "metadata": {},
   "source": [
    "This is read as '2n such that n is in the set of integers from 0 to 20'. Ultimately this is the set of even numbers from 0 to 40. How would we make this list in Python using the tools we already have?"
   ]
  },
  {
   "cell_type": "code",
   "execution_count": 1,
   "metadata": {},
   "outputs": [
    {
     "name": "stdout",
     "output_type": "stream",
     "text": [
      "[0, 2, 4, 6, 8, 10, 12, 14, 16, 18, 20, 22, 24, 26, 28, 30, 32, 34, 36, 38, 40]\n"
     ]
    }
   ],
   "source": [
    "the_list = []\n",
    "\n",
    "# There are many ways to do this, but we've chosen one below.\n",
    "for i in range(41):        # Loop from 0 to 40\n",
    "    if i % 2 == 0:         # if i is even,...\n",
    "        the_list.append(i) # ...append it to our list\n",
    "        \n",
    "print(the_list)"
   ]
  },
  {
   "cell_type": "markdown",
   "metadata": {},
   "source": [
    "List comprehension provides a more succinct way to do this. What took us `4` or `5` lines of code above can actually be done in a single line. Below we create the same list using list comprehension:"
   ]
  },
  {
   "cell_type": "code",
   "execution_count": 2,
   "metadata": {},
   "outputs": [
    {
     "name": "stdout",
     "output_type": "stream",
     "text": [
      "[0, 2, 4, 6, 8, 10, 12, 14, 16, 18, 20, 22, 24, 26, 28, 30, 32, 34, 36, 38, 40]\n"
     ]
    }
   ],
   "source": [
    "the_new_list = []\n",
    "for i in range(21):\n",
    "    the_new_list.append(2*i)\n",
    "print(the_new_list)"
   ]
  },
  {
   "cell_type": "code",
   "execution_count": 3,
   "metadata": {},
   "outputs": [
    {
     "name": "stdout",
     "output_type": "stream",
     "text": [
      "[0, 2, 4, 6, 8, 10, 12, 14, 16, 18, 20, 22, 24, 26, 28, 30, 32, 34, 36, 38, 40]\n"
     ]
    }
   ],
   "source": [
    "the_new_list = [2 * x for x in range(21)] # compare this line to the set notation written above\n",
    "print(the_new_list)"
   ]
  },
  {
   "cell_type": "markdown",
   "metadata": {},
   "source": [
    "The basic syntax of a list comprehension is \n",
    "\n",
    " \\[*`modified_iter_item`* **`for`** *`iter_item`* **`in`** *`iterable`*\\]\n",
    "\n",
    "What will the following codes do?"
   ]
  },
  {
   "cell_type": "code",
   "execution_count": 4,
   "metadata": {},
   "outputs": [
    {
     "name": "stdout",
     "output_type": "stream",
     "text": [
      "['H', 'e', 'l', 'l', 'o', '!']\n"
     ]
    }
   ],
   "source": [
    "print([i for i in \"Hello!\"])"
   ]
  },
  {
   "cell_type": "code",
   "execution_count": 5,
   "metadata": {},
   "outputs": [
    {
     "name": "stdout",
     "output_type": "stream",
     "text": [
      "[5, 10, 12]\n"
     ]
    }
   ],
   "source": [
    "print([len(i) for i in [\"Hello\", \"Hey there!\", \"How are you?\"]])"
   ]
  },
  {
   "cell_type": "code",
   "execution_count": 6,
   "metadata": {},
   "outputs": [
    {
     "name": "stdout",
     "output_type": "stream",
     "text": [
      "[8, 8, 8, 8, 8, 8, 8, 8]\n"
     ]
    }
   ],
   "source": [
    "print([8 for i in range(8)])"
   ]
  },
  {
   "cell_type": "code",
   "execution_count": 7,
   "metadata": {},
   "outputs": [
    {
     "name": "stdout",
     "output_type": "stream",
     "text": [
      "[1, 1, 1, 1, 1, 1, 1, 1]\n"
     ]
    }
   ],
   "source": [
    "print([1 for i in range(8)])"
   ]
  },
  {
   "cell_type": "markdown",
   "metadata": {},
   "source": [
    "What else can we do with list comprehensions? The above could be extended to multiples of any number."
   ]
  },
  {
   "cell_type": "code",
   "execution_count": 8,
   "metadata": {},
   "outputs": [
    {
     "name": "stdout",
     "output_type": "stream",
     "text": [
      "[0, 3, 6, 9, 12, 15, 18, 21, 24, 27, 30, 33, 36, 39, 42, 45, 48, 51, 54, 57, 60]\n"
     ]
    }
   ],
   "source": [
    "print([3 * x for x in range(21)])"
   ]
  },
  {
   "cell_type": "code",
   "execution_count": 9,
   "metadata": {},
   "outputs": [
    {
     "name": "stdout",
     "output_type": "stream",
     "text": [
      "0\n",
      "1\n",
      "2\n",
      "3\n",
      "4\n",
      "5\n",
      "6\n",
      "7\n",
      "8\n",
      "9\n",
      "10\n",
      "11\n",
      "12\n",
      "13\n",
      "14\n",
      "15\n",
      "16\n",
      "17\n",
      "18\n",
      "19\n",
      "20\n"
     ]
    }
   ],
   "source": [
    "for i in range(21):\n",
    "    print(i)"
   ]
  },
  {
   "cell_type": "markdown",
   "metadata": {},
   "source": [
    "We can add an if statement to the end of our list comprehension as a sort of *filter* to further control which values get added to our list. Here we will print the odd members of `range(21)`. First we tell Python to make a list of all integers from 0 to 20, but tell it to only include numbers that satisfy the condition of being odd."
   ]
  },
  {
   "cell_type": "code",
   "execution_count": 10,
   "metadata": {},
   "outputs": [
    {
     "name": "stdout",
     "output_type": "stream",
     "text": [
      "[1, 3, 5, 7, 9, 11, 13, 15, 17, 19]\n"
     ]
    }
   ],
   "source": [
    "print([x for x in range(21) if x % 2 != 0])\n",
    "       # make list            # but only if odd"
   ]
  },
  {
   "cell_type": "markdown",
   "metadata": {},
   "source": [
    "We can do some fairly intricate things by combining the basic commands `for x in` and `if`. For example:"
   ]
  },
  {
   "cell_type": "code",
   "execution_count": 11,
   "metadata": {},
   "outputs": [
    {
     "name": "stdout",
     "output_type": "stream",
     "text": [
      "[0, 143, 286, 429, 572, 715, 858]\n"
     ]
    }
   ],
   "source": [
    "print([x for x in range(1001) if x % 11 == 0 and x % 13 == 0 ])"
   ]
  },
  {
   "cell_type": "markdown",
   "metadata": {},
   "source": [
    "What did this do? We printed all the numbers less than 1001 that are multiples of both 11 and 13."
   ]
  },
  {
   "cell_type": "markdown",
   "metadata": {},
   "source": [
    "Here's another more intricate example that uses a list comprehension to replace nested for loops."
   ]
  },
  {
   "cell_type": "code",
   "execution_count": 12,
   "metadata": {},
   "outputs": [
    {
     "name": "stdout",
     "output_type": "stream",
     "text": [
      "list a: [0, 1, 2, 3, 4, 1, 2, 3, 4, 5, 2, 3, 4, 5, 6, 3, 4, 5, 6, 7, 4, 5, 6, 7, 8]\n",
      "list b: [0, 1, 2, 3, 4, 1, 2, 3, 4, 5, 2, 3, 4, 5, 6, 3, 4, 5, 6, 7, 4, 5, 6, 7, 8]\n",
      "True\n"
     ]
    }
   ],
   "source": [
    "a = [x + y for x in range(5) for y in range(5)]\n",
    "\n",
    "b = []\n",
    "for x in range(5):\n",
    "    for y in range(5):\n",
    "        b.append(x + y)\n",
    "        \n",
    "print(\"list a:\", a)\n",
    "print(\"list b:\", b)\n",
    "print(a == b)"
   ]
  },
  {
   "cell_type": "markdown",
   "metadata": {},
   "source": [
    "In summary, list comprehension is a technique that allows you to quickly make lists on the fly, using fewer temporary variables and fewer lines of code. If the structure isn't intuitive for you now, that's OK. Everything we did using list comprehensions you can also do using regular loops. However for those who code often, list comprehensions can be a neat trick that can in some cases can significanly speed up your code (as they tend to be more computationally efficient).\n",
    "\n",
    "\n",
    "## Practice Problems\n",
    "\n",
    "Create a list of strings that say `n is even`, where `n` is every even number in a given range. For example:\n",
    "* Input: `10`\n",
    "* Output: \\[`0 is even`, `2 is even`, `4 is even`, `6 is even`, `8 is even`, `10 is even`\\]"
   ]
  },
  {
   "cell_type": "code",
   "execution_count": null,
   "metadata": {},
   "outputs": [],
   "source": []
  },
  {
   "cell_type": "markdown",
   "metadata": {},
   "source": [
    "If we list all the natural numbers below 10 that are multiples of 3 or 5, we get \\[3, 5 ,6 , 9\\]. The sum of these multiples is `23`. Using a list comprehension, find the sum of all the multiples of 3 or 5 below 1000. (The problem is from [projecteuler.net](projecteuler.net)). *Hint*: we can find the sum of a list using the function `sum`. "
   ]
  },
  {
   "cell_type": "code",
   "execution_count": null,
   "metadata": {},
   "outputs": [],
   "source": []
  },
  {
   "cell_type": "markdown",
   "metadata": {},
   "source": [
    "Using a list comprehension, create a new list made up of words from word from a given list that either start with a capital letter, or start with `a` and have exactly `5` characters. For example:\n",
    "\n",
    "* Input: \\[`jess`, `Ayla`, `Sanket`, `alena`, `jimmy`\\]\n",
    "* Output: \\[`Ayla`, `Sanket`, `alena`\\]"
   ]
  },
  {
   "cell_type": "code",
   "execution_count": null,
   "metadata": {},
   "outputs": [],
   "source": []
  },
  {
   "cell_type": "code",
   "execution_count": null,
   "metadata": {},
   "outputs": [],
   "source": []
  }
 ],
 "metadata": {
  "kernelspec": {
   "display_name": "Python 3",
   "language": "python",
   "name": "python3"
  },
  "language_info": {
   "codemirror_mode": {
    "name": "ipython",
    "version": 3
   },
   "file_extension": ".py",
   "mimetype": "text/x-python",
   "name": "python",
   "nbconvert_exporter": "python",
   "pygments_lexer": "ipython3",
   "version": "3.7.3"
  }
 },
 "nbformat": 4,
 "nbformat_minor": 2
}
