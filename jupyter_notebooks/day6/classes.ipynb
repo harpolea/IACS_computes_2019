{
 "cells": [
  {
   "cell_type": "markdown",
   "metadata": {},
   "source": [
    "# Classes\n",
    "\n",
    "So far we've been using lots of different *data types* and *data structures*, such as integers, floats, strings, lists, tuples.... But what if we want to represent a collection of data that doesn't  neatly fit into one of these existing data types? For that we can use *classes*. A class is a way of defining our own custom data type that can contain both data and its own functions for operating on that data. \n",
    "\n",
    "Note: classes are a very powerful concept that is key to *object oriented programming*. We're going to just cover the very basics here, but if you're interested in learning more, ask one of the instructors and we can point you in the direction of some further reading!"
   ]
  },
  {
   "cell_type": "markdown",
   "metadata": {},
   "source": [
    "## Let's make a cat\n",
    "\n",
    "For our first class, let's make a class that represents a cat. We'd like this class to contain some information about the cat: its name, its age and its color."
   ]
  },
  {
   "cell_type": "code",
   "execution_count": 1,
   "metadata": {},
   "outputs": [],
   "source": [
    "class Cat(object):\n",
    "    \n",
    "    # constructor\n",
    "    def __init__(self, name, age, color):\n",
    "        # member variables\n",
    "        self.name = name\n",
    "        self.age = age\n",
    "        self.color = color"
   ]
  },
  {
   "cell_type": "markdown",
   "metadata": {},
   "source": [
    "There's a lot to unpack here. \n",
    "\n",
    "First of all, in the first line we define the class using the syntax `class Cat(object)`. This is similar to the `def foo` syntax we use to define functions. By convention, in Python class names begin with a capital letter (to help distinguish them from functions). The `(object)` bit is necessary here but it's beyond what we're going to cover today to explain why (ask an instructor if you're interested!). \n",
    "\n",
    "Next we define a function called `__init__`. This is a special function called the class *constructor*. Every time we make a `Cat` (as we will do shortly!), this function will be called automatically. The first argument of this function is `self`. This is a variable associated with the particular instance of the `Cat` that we create. We access things belonging to this particular instance with a period, `.`, as you can see on the next few lines. Here we define *member variables*. These are variables that *belong* to that particular instance of the `Cat` class. So here, we have said that we would like to create a cat with a particular name, age and color, then in the constructor we assign these values passed into the constructor to member variables.\n",
    "\n",
    "To try and see how all this works a bit more, let's actually make a particular `Cat`. A particular instance of a class is known as an *object*. I'm going to make an object that represents my cat Arya.\n",
    "\n",
    "![arya](arya.jpeg)"
   ]
  },
  {
   "cell_type": "code",
   "execution_count": 2,
   "metadata": {},
   "outputs": [
    {
     "name": "stdout",
     "output_type": "stream",
     "text": [
      "Arya\n",
      "5\n",
      "ginger\n"
     ]
    }
   ],
   "source": [
    "arya = Cat(\"Arya\", 5, \"ginger\")\n",
    "\n",
    "print(arya.name)\n",
    "print(arya.age)\n",
    "print(arya.color)"
   ]
  },
  {
   "cell_type": "markdown",
   "metadata": {},
   "source": [
    "Here I created the object `arya` of class `Cat`. When I created it, I passed the arguments `\"Arya\", 5, \"ginger\"` to its constructor, which then assigned these to the object's member variables. In the lines beneath, I then accessed these member variables. \n",
    "\n",
    "It's also possible to change the value of member variables after they have been defined. For example, let's say it's Arya's birthday and we need to update her age:"
   ]
  },
  {
   "cell_type": "code",
   "execution_count": 3,
   "metadata": {},
   "outputs": [
    {
     "name": "stdout",
     "output_type": "stream",
     "text": [
      "6\n"
     ]
    }
   ],
   "source": [
    "arya.age += 1\n",
    "print(arya.age)"
   ]
  },
  {
   "cell_type": "markdown",
   "metadata": {},
   "source": [
    "Great! Let's create a few more cats and store them in a list:"
   ]
  },
  {
   "cell_type": "code",
   "execution_count": 4,
   "metadata": {},
   "outputs": [],
   "source": [
    "cats = []\n",
    "cats.append(arya)\n",
    "cats.append(Cat(\"Lilly\", 3, \"gray\"))\n",
    "cats.append(Cat(\"Ben\", 11, \"white\"))\n",
    "cats.append(Cat(\"Ser Pounce\", 4, \"gray\"))\n",
    "cats.append(Cat(\"Mrs Norris\", 13, \"gray\"))\n",
    "cats.append(Cat(\"Salem\", 500, \"black\"))\n",
    "cats.append(Cat(\"Choupette\", 7, \"white\"))\n",
    "cats.append(Cat(\"Crookshanks\", 10, \"ginger\"))"
   ]
  },
  {
   "cell_type": "code",
   "execution_count": 5,
   "metadata": {},
   "outputs": [
    {
     "name": "stdout",
     "output_type": "stream",
     "text": [
      "Name: Arya, age: 6, color: ginger\n",
      "Name: Lilly, age: 3, color: gray\n",
      "Name: Ben, age: 11, color: white\n",
      "Name: Ser Pounce, age: 4, color: gray\n",
      "Name: Mrs Norris, age: 13, color: gray\n",
      "Name: Salem, age: 500, color: black\n",
      "Name: Choupette, age: 7, color: white\n",
      "Name: Crookshanks, age: 10, color: ginger\n"
     ]
    }
   ],
   "source": [
    "for cat in cats:\n",
    "    print(\"Name: {}, age: {}, color: {}\".format(cat.name, cat.age, cat.color))"
   ]
  },
  {
   "cell_type": "markdown",
   "metadata": {},
   "source": [
    "Great, so we've made a class that allows us to store some information about cats. Now let's define some *member functions* which allow us to carry out some operations on these objects."
   ]
  },
  {
   "cell_type": "code",
   "execution_count": 6,
   "metadata": {},
   "outputs": [],
   "source": [
    "class Cat(object):\n",
    "    \n",
    "    def __init__(self, name, age, color):\n",
    "        self.name = name\n",
    "        self.age = age\n",
    "        self.color = color\n",
    "    \n",
    "    # define function that makes the Cat meow\n",
    "    def meow(self):\n",
    "        print(\"{} says 'Meow!'\".format(self.name))\n",
    "        \n",
    "    # increase the cat's age by n\n",
    "    def update_age(self, n=1):\n",
    "        self.age += n\n",
    "    \n",
    "    # define string representation\n",
    "    def __str__(self):\n",
    "        return \"Cat {}, age: {}, color: {}\".format(self.name, self.age, self.color)"
   ]
  },
  {
   "cell_type": "markdown",
   "metadata": {},
   "source": [
    "Here we've redefined the `Cat` class the include a few new functions. Notice that the first argument of every function is `self`. In the first function, we've created a function that will cause the cat the meow:"
   ]
  },
  {
   "cell_type": "code",
   "execution_count": 7,
   "metadata": {},
   "outputs": [
    {
     "name": "stdout",
     "output_type": "stream",
     "text": [
      "Arya says 'Meow!'\n"
     ]
    }
   ],
   "source": [
    "arya = Cat(\"Arya\", 5, \"ginger\")\n",
    "arya.meow()"
   ]
  },
  {
   "cell_type": "markdown",
   "metadata": {},
   "source": [
    "In the second function, we've created a function to update the cat's age. If we don't pass in any arguments to this function, it defaults to 1. "
   ]
  },
  {
   "cell_type": "code",
   "execution_count": 8,
   "metadata": {},
   "outputs": [
    {
     "name": "stdout",
     "output_type": "stream",
     "text": [
      "5\n",
      "6\n",
      "9\n"
     ]
    }
   ],
   "source": [
    "print(arya.age)\n",
    "\n",
    "arya.update_age()\n",
    "\n",
    "print(arya.age)\n",
    "\n",
    "arya.update_age(3)\n",
    "\n",
    "print(arya.age)"
   ]
  },
  {
   "cell_type": "markdown",
   "metadata": {},
   "source": [
    "Our last function is a special function (you may have noticed that like `__init__` it is also surrounded by double underscores `__`. In Python, this is a way of indicating certain special function names and helps prevent the user from accidentally overriding with their own functions with the same name. These special methods are called *dunder methods*). It defines the *string representation* of the object. If you try printing once of the `Cat`s using our previous class definition, it should give you something like\n",
    "\n",
    "``` \n",
    "<__main__.Cat object at 0x7fab527717f0>\n",
    "```\n",
    "Useful. By defining our own string representation, we can instead produce something much more human-readable:"
   ]
  },
  {
   "cell_type": "code",
   "execution_count": 9,
   "metadata": {},
   "outputs": [
    {
     "name": "stdout",
     "output_type": "stream",
     "text": [
      "Cat Arya, age: 9, color: ginger\n"
     ]
    }
   ],
   "source": [
    "print(arya)"
   ]
  },
  {
   "cell_type": "markdown",
   "metadata": {},
   "source": [
    "## Classes of classes\n",
    "\n",
    "Classes can also include instances of other classes and data objects. Let's make a class called `Person` that will use our `Cat` class."
   ]
  },
  {
   "cell_type": "code",
   "execution_count": 10,
   "metadata": {},
   "outputs": [],
   "source": [
    "class Person(object):\n",
    "    \n",
    "    def __init__(self, first_name, last_name, cat=None):\n",
    "        \n",
    "        self.first_name = first_name\n",
    "        self.last_name = last_name\n",
    "        self.cat = cat\n",
    "        \n",
    "    def has_cat(self):\n",
    "        \n",
    "        if self.cat is None:\n",
    "            print(\"{} has no cat :(\".format(self.first_name))\n",
    "            return False\n",
    "        else:\n",
    "            return True\n",
    "        \n",
    "    def __str__(self):\n",
    "        \n",
    "        return \"Person {} {}\".format(self.first_name, self.last_name)"
   ]
  },
  {
   "cell_type": "markdown",
   "metadata": {},
   "source": [
    "Before we make some `Person` objects, one quick thing to point out: notice that in the constructor we've used a keyword argument. This is a particularly useful feature for constructors, as it's often the case that many of the objects that we create will have similar attributes. Rather than type out the full list of attributes every time we create a new object, we can use keyword arguments to define the default values of these attributes so that we only have to enter them for the few objects that are different."
   ]
  },
  {
   "cell_type": "code",
   "execution_count": 11,
   "metadata": {},
   "outputs": [
    {
     "name": "stdout",
     "output_type": "stream",
     "text": [
      "Person Hermione Granger\n",
      "Person Harry Potter\n",
      "True\n",
      "Harry has no cat :(\n",
      "False\n"
     ]
    }
   ],
   "source": [
    "hermione = Person(\"Hermione\", \"Granger\", cat=Cat(\"Crookshanks\", 10, \"ginger\"))\n",
    "harry = Person(\"Harry\", \"Potter\")\n",
    "\n",
    "print(hermione)\n",
    "print(harry)\n",
    "\n",
    "print(hermione.has_cat())\n",
    "print(harry.has_cat())"
   ]
  },
  {
   "cell_type": "markdown",
   "metadata": {},
   "source": [
    "## Operators\n",
    "\n",
    "We've seen how we can perform arithmetic on integers, strings and lists, but what if we want to perform arithmetic using our own classes. It doesn't make so much sense to add and multiply cats, so unfortunately we're going to have to move on to another example here to illustrate this.\n",
    "\n",
    "Let's create a class that describes periods of time in hours, minutes and seconds."
   ]
  },
  {
   "cell_type": "code",
   "execution_count": 12,
   "metadata": {},
   "outputs": [],
   "source": [
    "class Time(object):\n",
    "    \"\"\" describes time in hours, minutes and seconds \"\"\"\n",
    "    \n",
    "    def __init__(self, h=0, m=0, s=0):\n",
    "        \n",
    "        self.h = int(h)\n",
    "        self.m = int(m)\n",
    "        self.s = int(s)\n",
    "        \n",
    "        self.redistribute()\n",
    "        \n",
    "    def to_seconds(self):\n",
    "        \"\"\" convert time to seconds \"\"\"\n",
    "        return (self.h * 60 + self.m) * 60 + self.s\n",
    "        \n",
    "        \n",
    "    def redistribute(self):\n",
    "        \"\"\"\n",
    "        This will redistribute the minutes and seconds so that the seconds and minutes are < 60.\n",
    "        \"\"\"\n",
    "        \n",
    "        # calculate divisor and remainder for the seconds\n",
    "        divisor = self.s // 60\n",
    "        remainder = self.s % 60\n",
    "        \n",
    "        self.s = remainder\n",
    "        self.m += divisor \n",
    "        \n",
    "        # calculate divisor and remainder for the minutes\n",
    "        divisor = self.m // 60 \n",
    "        remainder = self.m % 60\n",
    "        \n",
    "        self.m = remainder\n",
    "        self.h += divisor\n",
    "        \n",
    "    def __str__(self):\n",
    "        # note that the funny :02d syntax here will pad out the time with leading zeros\n",
    "        # so that it looks like hh:mm:ss\n",
    "        return \"{:02d}:{:02d}:{:02d}\".format(self.h, self.m, self.s)\n",
    "    \n",
    "    def __repr__(self):\n",
    "        # this is like __str__ in that it provides another representation of our object.\n",
    "        # In the notebook, it's what you'll see if you run a cell that returns the object \n",
    "        # itself (i.e. you don't print it)\n",
    "        return self.__str__()\n",
    "    \n",
    "    def __add__(self, other):\n",
    "        # it only makes sense to add Time to Time\n",
    "        if isinstance(other, Time):\n",
    "            return Time(self.h + other.h, self.m + other.m, self.s + other.s)\n",
    "        else:\n",
    "            raise NotImplementedError(\"We don't know how to add {} to Time\".format(type(other)))\n",
    "            \n",
    "    def __sub__(self, other):\n",
    "        # it only makes sense to subtract Time from Time\n",
    "        if isinstance(other, Time):\n",
    "            return Time(self.h - other.h, self.m - other.m, self.s - other.s)\n",
    "        else:\n",
    "            raise NotImplementedError(\"We don't know how to subtract {} from Time\".format(type(other)))\n",
    "        \n",
    "    def __mul__(self, other):\n",
    "        # it only makes sense to multiply Time by a scalar\n",
    "        if isinstance(other, int) or isinstance(other, float):\n",
    "            return Time(s=int(self.to_seconds() * other))\n",
    "        else:\n",
    "            raise NotImplementedError(\"We don't know how to multiply Time by Time\")\n",
    "            \n",
    "    def __truediv__(self, other):\n",
    "        # it only makes sense to divide Time by a scalar\n",
    "        if isinstance(other, int) or isinstance(other, float):\n",
    "            return Time(s=int(self.to_seconds() / other))\n",
    "        else:\n",
    "            raise NotImplementedError(\"We don't know how to divide Time by Time\")\n",
    "        \n",
    "    "
   ]
  },
  {
   "cell_type": "markdown",
   "metadata": {},
   "source": [
    "Cool. So we've created a class that holds time, and defined a load of arithmetic functions using dunder (<b>d</b>ouble <b>under</b>score) methods. We've also created a couple of utility functions that help with our arithmetic. There's `to_seconds`, which returns the time in seconds (useful for multiplication and division), and there's `redistribute`, which will take any extra factors of 60 minutes and seconds and move them over to the hours and minutes so that the minutes and seconds in the `Time` object are always less than 60. Note that we call this at the end of the constructor so that the minutes and seconds are always redistrubuted every time a `Time` object is created. \n",
    "\n",
    "In our dunder methods, we have some checks to ensure that the `other` object is of the correct type for the operations to make sense. So for addition and subtraction, we check that `other` is another `Time` object, and for multiplication and division, we check that is a scalar (and integer or a float). "
   ]
  },
  {
   "cell_type": "code",
   "execution_count": 13,
   "metadata": {},
   "outputs": [
    {
     "data": {
      "text/plain": [
       "113:56:04"
      ]
     },
     "execution_count": 13,
     "metadata": {},
     "output_type": "execute_result"
    }
   ],
   "source": [
    "time = Time(110, 234, 124)\n",
    "time"
   ]
  },
  {
   "cell_type": "code",
   "execution_count": 14,
   "metadata": {},
   "outputs": [
    {
     "data": {
      "text/plain": [
       "34:35:23"
      ]
     },
     "execution_count": 14,
     "metadata": {},
     "output_type": "execute_result"
    }
   ],
   "source": [
    "time2 = Time(s=124523)\n",
    "time2"
   ]
  },
  {
   "cell_type": "code",
   "execution_count": 15,
   "metadata": {},
   "outputs": [
    {
     "data": {
      "text/plain": [
       "148:31:27"
      ]
     },
     "execution_count": 15,
     "metadata": {},
     "output_type": "execute_result"
    }
   ],
   "source": [
    "time + time2"
   ]
  },
  {
   "cell_type": "code",
   "execution_count": 16,
   "metadata": {},
   "outputs": [
    {
     "data": {
      "text/plain": [
       "79:20:41"
      ]
     },
     "execution_count": 16,
     "metadata": {},
     "output_type": "execute_result"
    }
   ],
   "source": [
    "time - time2"
   ]
  },
  {
   "cell_type": "code",
   "execution_count": 17,
   "metadata": {},
   "outputs": [
    {
     "data": {
      "text/plain": [
       "569:40:20"
      ]
     },
     "execution_count": 17,
     "metadata": {},
     "output_type": "execute_result"
    }
   ],
   "source": [
    "time * 5"
   ]
  },
  {
   "cell_type": "code",
   "execution_count": 18,
   "metadata": {},
   "outputs": [
    {
     "data": {
      "text/plain": [
       "28:29:01"
      ]
     },
     "execution_count": 18,
     "metadata": {},
     "output_type": "execute_result"
    }
   ],
   "source": [
    "time / 4"
   ]
  },
  {
   "cell_type": "markdown",
   "metadata": {},
   "source": [
    "## Practice problems\n",
    "\n",
    "### Let's build a spaceship!\n",
    "\n",
    "You've been appointed the head of a spaceship agency, and need to keep track of your spaceships. To do this, you've decided (perhaps questionably) to use python classes. Design a python class called `Spaceship`. It should have member variables recording its \n",
    "- name,\n",
    "- destination,\n",
    "- list of crew members,\n",
    "- and whether or not it has launched.\n",
    "\n",
    "Provide member functions that \n",
    "\n",
    "- return the number of crew members \n",
    "- and launch the spaceship (or at least change the launched variable from `False` to `True`).\n",
    "\n",
    "Feel free to add any other variables or functions that you think might be useful for you to help manage your spaceships.\n",
    "\n",
    "Don't forget to test out your class by creating a number of spaceships and launching them!"
   ]
  },
  {
   "cell_type": "code",
   "execution_count": null,
   "metadata": {},
   "outputs": [],
   "source": []
  }
 ],
 "metadata": {
  "kernelspec": {
   "display_name": "Python 3",
   "language": "python",
   "name": "python3"
  },
  "language_info": {
   "codemirror_mode": {
    "name": "ipython",
    "version": 3
   },
   "file_extension": ".py",
   "mimetype": "text/x-python",
   "name": "python",
   "nbconvert_exporter": "python",
   "pygments_lexer": "ipython3",
   "version": "3.7.3"
  }
 },
 "nbformat": 4,
 "nbformat_minor": 2
}
