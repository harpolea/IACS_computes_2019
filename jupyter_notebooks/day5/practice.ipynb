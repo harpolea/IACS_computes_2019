{
 "cells": [
  {
   "cell_type": "markdown",
   "metadata": {},
   "source": [
    "# Day 5 practice"
   ]
  },
  {
   "cell_type": "markdown",
   "metadata": {},
   "source": [
    "## Counting Gettysburg\n",
    "\n",
    "Here's some text (the Gettysburg Address). Our goal is to count how many times each word repeats."
   ]
  },
  {
   "cell_type": "code",
   "execution_count": 1,
   "metadata": {},
   "outputs": [],
   "source": [
    "gettysburg_address = \"\"\"\n",
    "Four score and seven years ago our fathers brought forth on this continent, \n",
    "a new nation, conceived in Liberty, and dedicated to the proposition that \n",
    "all men are created equal.\n",
    "\n",
    "Now we are engaged in a great civil war, testing whether that nation, or \n",
    "any nation so conceived and so dedicated, can long endure. We are met on\n",
    "a great battle-field of that war. We have come to dedicate a portion of\n",
    "that field, as a final resting place for those who here gave their lives\n",
    "that that nation might live. It is altogether fitting and proper that we\n",
    "should do this.\n",
    "\n",
    "But, in a larger sense, we can not dedicate -- we can not consecrate -- we\n",
    "can not hallow -- this ground. The brave men, living and dead, who struggled\n",
    "here, have consecrated it, far above our poor power to add or detract.  The\n",
    "world will little note, nor long remember what we say here, but it can never\n",
    "forget what they did here. It is for us the living, rather, to be dedicated\n",
    "here to the unfinished work which they who fought here have thus far so nobly\n",
    "advanced. It is rather for us to be here dedicated to the great task remaining\n",
    "before us -- that from these honored dead we take increased devotion to that\n",
    "cause for which they gave the last full measure of devotion -- that we here\n",
    "highly resolve that these dead shall not have died in vain -- that this\n",
    "nation, under God, shall have a new birth of freedom -- and that government\n",
    "of the people, by the people, for the people, shall not perish from the earth.\n",
    "\"\"\""
   ]
  },
  {
   "cell_type": "markdown",
   "metadata": {},
   "source": [
    "We've already seen the `.split()` method will, by default, split by spaces. Try this to count the number of words:"
   ]
  },
  {
   "cell_type": "code",
   "execution_count": 3,
   "metadata": {},
   "outputs": [
    {
     "data": {
      "text/plain": [
       "278"
      ]
     },
     "execution_count": 3,
     "metadata": {},
     "output_type": "execute_result"
    }
   ],
   "source": [
    "len(gettysburg_address.split())"
   ]
  },
  {
   "cell_type": "markdown",
   "metadata": {},
   "source": [
    "Now, the next problem is that some of these still have punctuation. In particular, we see \".\", \",\", and \"--\".\n",
    "When considering a word, we can get rid of these by using the `replace()` method. Try this here:"
   ]
  },
  {
   "cell_type": "code",
   "execution_count": 5,
   "metadata": {},
   "outputs": [],
   "source": [
    "punctuation = [\".\", \",\", \"--\"]\n",
    "for p in punctuation:\n",
    "    gettysburg_address = gettysburg_address.replace(p, \"\")"
   ]
  },
  {
   "cell_type": "markdown",
   "metadata": {},
   "source": [
    "Another problem is case—we want to count 'but' and 'But' as the same. Use the `lower()` method that can be used to covert this string:"
   ]
  },
  {
   "cell_type": "code",
   "execution_count": 7,
   "metadata": {},
   "outputs": [],
   "source": [
    "gettysburg_address = gettysburg_address.lower()"
   ]
  },
  {
   "cell_type": "code",
   "execution_count": 10,
   "metadata": {},
   "outputs": [
    {
     "data": {
      "text/plain": [
       "'\\nfour score and seven years ago our fathers brought forth on this continent \\na new nation conceived in liberty and dedicated to the proposition that \\nall men are created equal\\n\\nnow we are engaged in a great civil war testing whether that nation or \\nany nation so conceived and so dedicated can long endure we are met on\\na great battle-field of that war we have come to dedicate a portion of\\nthat field as a final resting place for those who here gave their lives\\nthat that nation might live it is altogether fitting and proper that we\\nshould do this\\n\\nbut in a larger sense we can not dedicate  we can not consecrate  we\\ncan not hallow  this ground the brave men living and dead who struggled\\nhere have consecrated it far above our poor power to add or detract  the\\nworld will little note nor long remember what we say here but it can never\\nforget what they did here it is for us the living rather to be dedicated\\nhere to the unfinished work which they who fought here have thus far so nobly\\nadvanced it is rather for us to be here dedicated to the great task remaining\\nbefore us  that from these honored dead we take increased devotion to that\\ncause for which they gave the last full measure of devotion  that we here\\nhighly resolve that these dead shall not have died in vain  that this\\nnation under god shall have a new birth of freedom  and that government\\nof the people by the people for the people shall not perish from the earth\\n'"
      ]
     },
     "execution_count": 10,
     "metadata": {},
     "output_type": "execute_result"
    }
   ],
   "source": [
    "gettysburg_address"
   ]
  },
  {
   "cell_type": "markdown",
   "metadata": {},
   "source": [
    "Create a dictionary that uses the unique words as keys and has as a value the number of times that word appears.\n",
    "Write a loop over the words in the string (using our split version) and do the following:\n",
    "- remove any punctuation\n",
    "- convert to lowercase\n",
    "- test if the word is already a key in the dictionary (using the in operator)\n",
    "    * if the key exists, increment the word count for that key\n",
    "    * otherwise, add it to the dictionary with the appropiate count of 1.\n",
    "    \n",
    "At the end, print out the words and a count of how many times they appear"
   ]
  },
  {
   "cell_type": "code",
   "execution_count": 11,
   "metadata": {},
   "outputs": [
    {
     "name": "stdout",
     "output_type": "stream",
     "text": [
      "{'four': 1, 'score': 1, 'and': 6, 'seven': 1, 'years': 1, 'ago': 1, 'our': 2, 'fathers': 1, 'brought': 1, 'forth': 1, 'on': 2, 'this': 4, 'continent': 1, 'a': 7, 'new': 2, 'nation': 5, 'conceived': 2, 'in': 4, 'liberty': 1, 'dedicated': 4, 'to': 8, 'the': 11, 'proposition': 1, 'that': 13, 'all': 1, 'men': 2, 'are': 3, 'created': 1, 'equal': 1, 'now': 1, 'we': 10, 'engaged': 1, 'great': 3, 'civil': 1, 'war': 2, 'testing': 1, 'whether': 1, 'or': 2, 'any': 1, 'so': 3, 'can': 5, 'long': 2, 'endure': 1, 'met': 1, 'battle-field': 1, 'of': 5, 'have': 5, 'come': 1, 'dedicate': 2, 'portion': 1, 'field': 1, 'as': 1, 'final': 1, 'resting': 1, 'place': 1, 'for': 5, 'those': 1, 'who': 3, 'here': 8, 'gave': 2, 'their': 1, 'lives': 1, 'might': 1, 'live': 1, 'it': 5, 'is': 3, 'altogether': 1, 'fitting': 1, 'proper': 1, 'should': 1, 'do': 1, 'but': 2, 'larger': 1, 'sense': 1, 'not': 5, 'consecrate': 1, 'hallow': 1, 'ground': 1, 'brave': 1, 'living': 2, 'dead': 3, 'struggled': 1, 'consecrated': 1, 'far': 2, 'above': 1, 'poor': 1, 'power': 1, 'add': 1, 'detract': 1, 'world': 1, 'will': 1, 'little': 1, 'note': 1, 'nor': 1, 'remember': 1, 'what': 2, 'say': 1, 'never': 1, 'forget': 1, 'they': 3, 'did': 1, 'us': 3, 'rather': 2, 'be': 2, 'unfinished': 1, 'work': 1, 'which': 2, 'fought': 1, 'thus': 1, 'nobly': 1, 'advanced': 1, 'task': 1, 'remaining': 1, 'before': 1, 'from': 2, 'these': 2, 'honored': 1, 'take': 1, 'increased': 1, 'devotion': 2, 'cause': 1, 'last': 1, 'full': 1, 'measure': 1, 'highly': 1, 'resolve': 1, 'shall': 3, 'died': 1, 'vain': 1, 'under': 1, 'god': 1, 'birth': 1, 'freedom': 1, 'government': 1, 'people': 3, 'by': 1, 'perish': 1, 'earth': 1}\n"
     ]
    }
   ],
   "source": [
    "# Your code here\n",
    "words_dict = {}\n",
    "\n",
    "for word in gettysburg_address.split():\n",
    "    if word in words_dict:\n",
    "        words_dict[word] += 1\n",
    "    else:\n",
    "        words_dict[word] = 1\n",
    "        \n",
    "print(words_dict)"
   ]
  },
  {
   "cell_type": "markdown",
   "metadata": {},
   "source": [
    "We can actually do this a lot more compactly by using another python datatype called a set. A set is a group of items, where each item is unique (e.g., no repetitions).\n",
    "\n",
    "\n",
    "Using the `set()` function, turn the list of words into a set, removing any duplicates:"
   ]
  },
  {
   "cell_type": "code",
   "execution_count": 12,
   "metadata": {},
   "outputs": [
    {
     "data": {
      "text/plain": [
       "{'a',\n",
       " 'above',\n",
       " 'add',\n",
       " 'advanced',\n",
       " 'ago',\n",
       " 'all',\n",
       " 'altogether',\n",
       " 'and',\n",
       " 'any',\n",
       " 'are',\n",
       " 'as',\n",
       " 'battle-field',\n",
       " 'be',\n",
       " 'before',\n",
       " 'birth',\n",
       " 'brave',\n",
       " 'brought',\n",
       " 'but',\n",
       " 'by',\n",
       " 'can',\n",
       " 'cause',\n",
       " 'civil',\n",
       " 'come',\n",
       " 'conceived',\n",
       " 'consecrate',\n",
       " 'consecrated',\n",
       " 'continent',\n",
       " 'created',\n",
       " 'dead',\n",
       " 'dedicate',\n",
       " 'dedicated',\n",
       " 'detract',\n",
       " 'devotion',\n",
       " 'did',\n",
       " 'died',\n",
       " 'do',\n",
       " 'earth',\n",
       " 'endure',\n",
       " 'engaged',\n",
       " 'equal',\n",
       " 'far',\n",
       " 'fathers',\n",
       " 'field',\n",
       " 'final',\n",
       " 'fitting',\n",
       " 'for',\n",
       " 'forget',\n",
       " 'forth',\n",
       " 'fought',\n",
       " 'four',\n",
       " 'freedom',\n",
       " 'from',\n",
       " 'full',\n",
       " 'gave',\n",
       " 'god',\n",
       " 'government',\n",
       " 'great',\n",
       " 'ground',\n",
       " 'hallow',\n",
       " 'have',\n",
       " 'here',\n",
       " 'highly',\n",
       " 'honored',\n",
       " 'in',\n",
       " 'increased',\n",
       " 'is',\n",
       " 'it',\n",
       " 'larger',\n",
       " 'last',\n",
       " 'liberty',\n",
       " 'little',\n",
       " 'live',\n",
       " 'lives',\n",
       " 'living',\n",
       " 'long',\n",
       " 'measure',\n",
       " 'men',\n",
       " 'met',\n",
       " 'might',\n",
       " 'nation',\n",
       " 'never',\n",
       " 'new',\n",
       " 'nobly',\n",
       " 'nor',\n",
       " 'not',\n",
       " 'note',\n",
       " 'now',\n",
       " 'of',\n",
       " 'on',\n",
       " 'or',\n",
       " 'our',\n",
       " 'people',\n",
       " 'perish',\n",
       " 'place',\n",
       " 'poor',\n",
       " 'portion',\n",
       " 'power',\n",
       " 'proper',\n",
       " 'proposition',\n",
       " 'rather',\n",
       " 'remaining',\n",
       " 'remember',\n",
       " 'resolve',\n",
       " 'resting',\n",
       " 'say',\n",
       " 'score',\n",
       " 'sense',\n",
       " 'seven',\n",
       " 'shall',\n",
       " 'should',\n",
       " 'so',\n",
       " 'struggled',\n",
       " 'take',\n",
       " 'task',\n",
       " 'testing',\n",
       " 'that',\n",
       " 'the',\n",
       " 'their',\n",
       " 'these',\n",
       " 'they',\n",
       " 'this',\n",
       " 'those',\n",
       " 'thus',\n",
       " 'to',\n",
       " 'under',\n",
       " 'unfinished',\n",
       " 'us',\n",
       " 'vain',\n",
       " 'war',\n",
       " 'we',\n",
       " 'what',\n",
       " 'whether',\n",
       " 'which',\n",
       " 'who',\n",
       " 'will',\n",
       " 'work',\n",
       " 'world',\n",
       " 'years'}"
      ]
     },
     "execution_count": 12,
     "metadata": {},
     "output_type": "execute_result"
    }
   ],
   "source": [
    "set(gettysburg_address.split())"
   ]
  },
  {
   "cell_type": "markdown",
   "metadata": {},
   "source": [
    "Now loop over the unique words and use the `count` method of a list to find how many there are:"
   ]
  },
  {
   "cell_type": "code",
   "execution_count": 13,
   "metadata": {},
   "outputs": [
    {
     "name": "stdout",
     "output_type": "stream",
     "text": [
      "engaged, 1\n",
      "hallow, 1\n",
      "endure, 1\n",
      "full, 1\n",
      "proper, 1\n",
      "task, 1\n",
      "detract, 1\n",
      "sense, 1\n",
      "from, 2\n",
      "devotion, 2\n",
      "remember, 1\n",
      "nation, 5\n",
      "forth, 1\n",
      "never, 1\n",
      "civil, 1\n",
      "that, 13\n",
      "proposition, 1\n",
      "for, 8\n",
      "equal, 1\n",
      "who, 3\n",
      "honored, 1\n",
      "dedicated, 4\n",
      "struggled, 1\n",
      "field, 2\n",
      "now, 1\n",
      "these, 2\n",
      "fathers, 1\n",
      "unfinished, 1\n",
      "final, 1\n",
      "freedom, 1\n",
      "will, 1\n",
      "earth, 1\n",
      "work, 1\n",
      "the, 22\n",
      "liberty, 1\n",
      "have, 5\n",
      "died, 1\n",
      "gave, 2\n",
      "our, 3\n",
      "a, 102\n",
      "years, 1\n",
      "under, 1\n",
      "before, 1\n",
      "four, 1\n",
      "not, 6\n",
      "living, 2\n",
      "little, 1\n",
      "place, 1\n",
      "score, 1\n",
      "we, 11\n",
      "testing, 1\n",
      "portion, 1\n",
      "brave, 1\n",
      "brought, 1\n",
      "highly, 1\n",
      "did, 1\n",
      "which, 2\n",
      "power, 1\n",
      "great, 3\n",
      "larger, 1\n",
      "live, 2\n",
      "world, 1\n",
      "resolve, 1\n",
      "met, 1\n",
      "whether, 1\n",
      "ago, 1\n",
      "any, 1\n",
      "those, 1\n",
      "to, 9\n",
      "cause, 1\n",
      "nobly, 1\n",
      "remaining, 1\n",
      "conceived, 2\n",
      "increased, 1\n",
      "battle-field, 1\n",
      "might, 1\n",
      "add, 1\n",
      "measure, 1\n",
      "perish, 1\n",
      "dead, 3\n",
      "they, 3\n",
      "it, 8\n",
      "new, 2\n",
      "poor, 1\n",
      "above, 1\n",
      "can, 5\n",
      "advanced, 1\n",
      "be, 5\n",
      "created, 1\n",
      "their, 1\n",
      "note, 1\n",
      "come, 1\n",
      "are, 3\n",
      "and, 6\n",
      "all, 5\n",
      "ground, 1\n",
      "fought, 1\n",
      "as, 5\n",
      "last, 1\n",
      "continent, 1\n",
      "vain, 1\n",
      "seven, 1\n",
      "government, 1\n",
      "people, 3\n",
      "us, 5\n",
      "do, 2\n",
      "nor, 2\n",
      "take, 1\n",
      "what, 2\n",
      "but, 2\n",
      "lives, 1\n",
      "dedicate, 6\n",
      "is, 9\n",
      "far, 2\n",
      "by, 1\n",
      "long, 2\n",
      "say, 1\n",
      "fitting, 1\n",
      "consecrate, 2\n",
      "so, 4\n",
      "forget, 1\n",
      "here, 8\n",
      "of, 5\n",
      "shall, 3\n",
      "on, 19\n",
      "in, 16\n",
      "rather, 2\n",
      "should, 1\n",
      "thus, 1\n",
      "or, 17\n",
      "consecrated, 1\n",
      "resting, 1\n",
      "altogether, 1\n",
      "this, 4\n",
      "men, 3\n",
      "god, 1\n",
      "birth, 1\n",
      "war, 2\n"
     ]
    }
   ],
   "source": [
    "for word in set(gettysburg_address.split()):\n",
    "    num = gettysburg_address.count(word)\n",
    "    \n",
    "    print(f\"{word}, {num}\")"
   ]
  },
  {
   "cell_type": "markdown",
   "metadata": {},
   "source": [
    "## Dictionary sorting \n",
    "\n",
    "The python `sorted` method can be used to sort lists, dictionaries, tuples etc. For example, if we sort a list of words:"
   ]
  },
  {
   "cell_type": "code",
   "execution_count": 14,
   "metadata": {},
   "outputs": [
    {
     "data": {
      "text/plain": [
       "['aadvark', 'buffalo', 'elephant', 'hippo', 'zebra']"
      ]
     },
     "execution_count": 14,
     "metadata": {},
     "output_type": "execute_result"
    }
   ],
   "source": [
    "sorted(['hippo', 'aadvark', 'elephant', 'zebra', 'buffalo'])"
   ]
  },
  {
   "cell_type": "markdown",
   "metadata": {},
   "source": [
    "If we try running `sorted` on a dictionary, then its default behavior is to sort the keys:"
   ]
  },
  {
   "cell_type": "code",
   "execution_count": 15,
   "metadata": {},
   "outputs": [
    {
     "data": {
      "text/plain": [
       "['apple', 'banana', 'grape', 'kiwi', 'watermelon']"
      ]
     },
     "execution_count": 15,
     "metadata": {},
     "output_type": "execute_result"
    }
   ],
   "source": [
    "fruit_dict = {'banana': 0.65, 'apple': 0.3, 'watermelon': 2.1, 'kiwi':0.5, 'grape':0.05}\n",
    "sorted(fruit_dict)"
   ]
  },
  {
   "cell_type": "markdown",
   "metadata": {},
   "source": [
    "What if we want to sort this dictionary instead by the values? We can do this by passing in a function to `sorted` function which takes an item (a key, value tuple) as an argument and returns the value to be used in the comparison. So if we want to sort this list by value, we'd do:"
   ]
  },
  {
   "cell_type": "code",
   "execution_count": 16,
   "metadata": {},
   "outputs": [
    {
     "data": {
      "text/plain": [
       "[('grape', 0.05),\n",
       " ('apple', 0.3),\n",
       " ('kiwi', 0.5),\n",
       " ('banana', 0.65),\n",
       " ('watermelon', 2.1)]"
      ]
     },
     "execution_count": 16,
     "metadata": {},
     "output_type": "execute_result"
    }
   ],
   "source": [
    "def compare(i):\n",
    "    k, v = i\n",
    "    return v\n",
    "\n",
    "sorted(fruit_dict.items(), key=compare)"
   ]
  },
  {
   "cell_type": "markdown",
   "metadata": {},
   "source": [
    "Try this on the dictionary of words you created for the previous exercise to find the 5 most common words. \n",
    "\n",
    "Hint: you can reverse the sorting order so it goes from high to low by passing in the keyword argument `reverse=True` to the `sorted` function."
   ]
  },
  {
   "cell_type": "code",
   "execution_count": 20,
   "metadata": {},
   "outputs": [
    {
     "data": {
      "text/plain": [
       "[('that', 13), ('the', 11), ('we', 10), ('to', 8), ('here', 8)]"
      ]
     },
     "execution_count": 20,
     "metadata": {},
     "output_type": "execute_result"
    }
   ],
   "source": [
    "# Your code here\n",
    "sorted(words_dict.items(), key=compare, reverse=True)[:5]"
   ]
  },
  {
   "cell_type": "markdown",
   "metadata": {},
   "source": [
    "## Houston, we have a problem\n",
    "\n",
    "Below I have a function that takes a city name (a string) and a dictionary of different cities and their populations, and returns a string describing the city."
   ]
  },
  {
   "cell_type": "code",
   "execution_count": 22,
   "metadata": {},
   "outputs": [],
   "source": [
    "def city_pop(city, cities_dict):\n",
    "    return \"{} has a population of {}\".format(city, cities_dict[city])"
   ]
  },
  {
   "cell_type": "markdown",
   "metadata": {},
   "source": [
    "This works fine if the city is in the dictionary, however if it is not we get a `KeyError`:"
   ]
  },
  {
   "cell_type": "code",
   "execution_count": 23,
   "metadata": {},
   "outputs": [],
   "source": [
    "cities = {'London': 8787892, 'New York': 8.623e6, 'Paris': 2.141e6, 'Los Angeles': 4e6}"
   ]
  },
  {
   "cell_type": "code",
   "execution_count": 7,
   "metadata": {},
   "outputs": [
    {
     "data": {
      "text/plain": [
       "'London has a population of 8787892'"
      ]
     },
     "execution_count": 7,
     "metadata": {},
     "output_type": "execute_result"
    }
   ],
   "source": [
    "city_pop('London', cities)"
   ]
  },
  {
   "cell_type": "code",
   "execution_count": 8,
   "metadata": {},
   "outputs": [
    {
     "ename": "KeyError",
     "evalue": "'Houston'",
     "output_type": "error",
     "traceback": [
      "\u001b[0;31m---------------------------------------------------------------------------\u001b[0m",
      "\u001b[0;31mKeyError\u001b[0m                                  Traceback (most recent call last)",
      "\u001b[0;32m<ipython-input-8-9fe6da459e6a>\u001b[0m in \u001b[0;36m<module>\u001b[0;34m\u001b[0m\n\u001b[0;32m----> 1\u001b[0;31m \u001b[0mcity_pop\u001b[0m\u001b[0;34m(\u001b[0m\u001b[0;34m'Houston'\u001b[0m\u001b[0;34m,\u001b[0m \u001b[0mcities\u001b[0m\u001b[0;34m)\u001b[0m\u001b[0;34m\u001b[0m\u001b[0;34m\u001b[0m\u001b[0m\n\u001b[0m",
      "\u001b[0;32m<ipython-input-2-dd117ddc914e>\u001b[0m in \u001b[0;36mcity_pop\u001b[0;34m(city, cities_dict)\u001b[0m\n\u001b[1;32m      1\u001b[0m \u001b[0;32mdef\u001b[0m \u001b[0mcity_pop\u001b[0m\u001b[0;34m(\u001b[0m\u001b[0mcity\u001b[0m\u001b[0;34m,\u001b[0m \u001b[0mcities_dict\u001b[0m\u001b[0;34m)\u001b[0m\u001b[0;34m:\u001b[0m\u001b[0;34m\u001b[0m\u001b[0;34m\u001b[0m\u001b[0m\n\u001b[0;32m----> 2\u001b[0;31m     \u001b[0;32mreturn\u001b[0m \u001b[0;34m\"{} has a population of {}\"\u001b[0m\u001b[0;34m.\u001b[0m\u001b[0mformat\u001b[0m\u001b[0;34m(\u001b[0m\u001b[0mcity\u001b[0m\u001b[0;34m,\u001b[0m \u001b[0mcities_dict\u001b[0m\u001b[0;34m[\u001b[0m\u001b[0mcity\u001b[0m\u001b[0;34m]\u001b[0m\u001b[0;34m)\u001b[0m\u001b[0;34m\u001b[0m\u001b[0;34m\u001b[0m\u001b[0m\n\u001b[0m",
      "\u001b[0;31mKeyError\u001b[0m: 'Houston'"
     ]
    }
   ],
   "source": [
    "city_pop('Houston', cities)"
   ]
  },
  {
   "cell_type": "markdown",
   "metadata": {},
   "source": [
    "Your task is to make a new version of the function `city_pop` that behaves more intelligently than simply raising a `KeyError` if it cannot find the city. Here are a few suggestions for things you could try adding, but feel free to come up with your own improvements:\n",
    "- check that the city is a string (what happens if you tried giving the function a number instead of a real city name?)\n",
    "- if the function cannot find the city in the dictionary, print a (helpful!) message to the user that the city cannot be found\n",
    "- even better: if the city cannot be found, ask the user if they'd like to add a new city to the dictionary. If so, make sure to ask for the population."
   ]
  },
  {
   "cell_type": "code",
   "execution_count": 25,
   "metadata": {},
   "outputs": [],
   "source": [
    "def city_pop(city, cities_dict):\n",
    "    # first check that the city is a string\n",
    "    assert city.isalpha(), \"City must be a string!\"\n",
    "    \n",
    "    try:\n",
    "        return \"{} has a population of {}\".format(city, cities_dict[city])\n",
    "    except KeyError:\n",
    "        print(\"Could not find that city. Would you like to input a new one?\")\n",
    "        y_or_n = input(\"yes (y) or no (n)? \")\n",
    "        if y_or_n == 'y':\n",
    "            new_city = input(\"What is the new city name?\")\n",
    "            new_pop = input(\"What is its population?\")\n",
    "            \n",
    "            # check that the new population is actually a digit\n",
    "            assert new_pop.isdigit(), \"New population must be a number!\"\n",
    "            \n",
    "            cities_dict[new_city] = int(new_pop)\n",
    "            \n",
    "            return\n",
    "        else:\n",
    "            return"
   ]
  },
  {
   "cell_type": "code",
   "execution_count": 28,
   "metadata": {},
   "outputs": [
    {
     "name": "stdout",
     "output_type": "stream",
     "text": [
      "Could not find that city. Would you like to input a new one?\n"
     ]
    },
    {
     "name": "stdin",
     "output_type": "stream",
     "text": [
      "yes (y) or no (n)?  y\n",
      "What is the new city name? Houston\n",
      "What is its population? 2313000\n"
     ]
    }
   ],
   "source": [
    "city_pop('Houston', cities)"
   ]
  },
  {
   "cell_type": "code",
   "execution_count": 29,
   "metadata": {},
   "outputs": [
    {
     "data": {
      "text/plain": [
       "'Houston has a population of 2313000'"
      ]
     },
     "execution_count": 29,
     "metadata": {},
     "output_type": "execute_result"
    }
   ],
   "source": [
    "city_pop('Houston', cities)"
   ]
  },
  {
   "cell_type": "code",
   "execution_count": null,
   "metadata": {},
   "outputs": [],
   "source": []
  }
 ],
 "metadata": {
  "kernelspec": {
   "display_name": "Python 3",
   "language": "python",
   "name": "python3"
  },
  "language_info": {
   "codemirror_mode": {
    "name": "ipython",
    "version": 3
   },
   "file_extension": ".py",
   "mimetype": "text/x-python",
   "name": "python",
   "nbconvert_exporter": "python",
   "pygments_lexer": "ipython3",
   "version": "3.6.7"
  }
 },
 "nbformat": 4,
 "nbformat_minor": 2
}
