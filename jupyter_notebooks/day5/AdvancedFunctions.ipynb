{
 "cells": [
  {
   "cell_type": "markdown",
   "metadata": {},
   "source": [
    "# Advanced Functions"
   ]
  },
  {
   "cell_type": "markdown",
   "metadata": {},
   "source": [
    "This notebook covers a smattering of some of the advanced features of functions. These concepts and tools should help you write more robust and efficient functions."
   ]
  },
  {
   "cell_type": "markdown",
   "metadata": {},
   "source": [
    "## Scope"
   ]
  },
  {
   "cell_type": "markdown",
   "metadata": {},
   "source": [
    "There are some things we need to know about when using functions. Recall the age function we wrote yesterday."
   ]
  },
  {
   "cell_type": "code",
   "execution_count": 1,
   "metadata": {},
   "outputs": [],
   "source": [
    "def age(birth_year, birth_month, birth_day):\n",
    "    today = 17\n",
    "    this_month = 8\n",
    "    this_year = 2019\n",
    "    if (birth_month > this_month) or ((birth_month == this_month) and (birth_day >= today)):\n",
    "        return this_year - birth_year - 1\n",
    "    else:\n",
    "        return this_year - birth_year"
   ]
  },
  {
   "cell_type": "code",
   "execution_count": 2,
   "metadata": {},
   "outputs": [
    {
     "data": {
      "text/plain": [
       "28"
      ]
     },
     "execution_count": 2,
     "metadata": {},
     "output_type": "execute_result"
    }
   ],
   "source": [
    "age(1990,11,1)"
   ]
  },
  {
   "cell_type": "markdown",
   "metadata": {},
   "source": [
    " Note that in our age function, we have 6 variables. Their names are `birth_year`, `birth_month`, `birth_day`, `today`, `this_month`, and `this_year`. What's currently in those variables?"
   ]
  },
  {
   "cell_type": "code",
   "execution_count": 3,
   "metadata": {
    "scrolled": true
   },
   "outputs": [
    {
     "ename": "NameError",
     "evalue": "name 'today' is not defined",
     "output_type": "error",
     "traceback": [
      "\u001b[0;31m---------------------------------------------------------------------------\u001b[0m",
      "\u001b[0;31mNameError\u001b[0m                                 Traceback (most recent call last)",
      "\u001b[0;32m<ipython-input-3-beb90ce425b0>\u001b[0m in \u001b[0;36m<module>\u001b[0;34m\u001b[0m\n\u001b[0;32m----> 1\u001b[0;31m \u001b[0mtoday\u001b[0m\u001b[0;34m\u001b[0m\u001b[0;34m\u001b[0m\u001b[0m\n\u001b[0m",
      "\u001b[0;31mNameError\u001b[0m: name 'today' is not defined"
     ]
    }
   ],
   "source": [
    "today"
   ]
  },
  {
   "cell_type": "markdown",
   "metadata": {},
   "source": [
    "Hmm. It says today is not defined. This is actually what should happen. At this moment in time, the 6 variables inside age() *do not exist* anywhere in the computer. The variables `birth_year`, `birth_month`, and `birth_day` are only created when `age()` is called, and these variables can only be used by `age(`). At the time they are created, they are given the values that we put in the parentheses. The variables `today`, `this_month`, and `this_year` are created *inside* `age()`. Here's the important part: when `age()` has finished executing, all 6 of these variables are destroyed."
   ]
  },
  {
   "cell_type": "markdown",
   "metadata": {},
   "source": [
    "The variables that a function are said to be within the function's *scope*. A variable can only be used if it is *within scope*. "
   ]
  },
  {
   "cell_type": "markdown",
   "metadata": {},
   "source": [
    "Why does python do this? Well one reason is to prevent naming conflicts. Often in programming you will be using functions that other people wrote. What happens if that person used a variable name that you also used? For a silly example, what if another piece of code had a variable called today but needed to call age? That code might look something like this:"
   ]
  },
  {
   "cell_type": "code",
   "execution_count": 4,
   "metadata": {},
   "outputs": [
    {
     "name": "stdout",
     "output_type": "stream",
     "text": [
      "Tuesday\n"
     ]
    }
   ],
   "source": [
    "today = \"Tuesday\"   # Create a variable called today and give it a value\n",
    "age(1986, 9, 20)    # age has a variable called today that it sets to a number\n",
    "print(today)        # What's in today?"
   ]
  },
  {
   "cell_type": "markdown",
   "metadata": {},
   "source": [
    "Without the protective structure of scope, the variable today would have been overwritten by the function age, and our code might not have performed the way we anticipated down the road."
   ]
  },
  {
   "cell_type": "markdown",
   "metadata": {},
   "source": [
    "In Python, functions can also look outside themselves for variables that have been already defined. Let's test this using some variable `a`:"
   ]
  },
  {
   "cell_type": "code",
   "execution_count": 1,
   "metadata": {},
   "outputs": [],
   "source": [
    "a = 7.98"
   ]
  },
  {
   "cell_type": "code",
   "execution_count": 2,
   "metadata": {},
   "outputs": [],
   "source": [
    "def age(birth_year, birth_month, birth_day):\n",
    "    today = 13\n",
    "    this_month = 7\n",
    "    this_year = 2016\n",
    "    print(\"I can see a! It's\", a) #This function can \"see\" a because it has been previously defined.\n",
    "    if (birth_month > this_month) or ((birth_month == this_month) and (birth_day >= today)):\n",
    "        return this_year - birth_year - 1\n",
    "    else:\n",
    "        return this_year - birth_year"
   ]
  },
  {
   "cell_type": "code",
   "execution_count": 3,
   "metadata": {},
   "outputs": [
    {
     "name": "stdout",
     "output_type": "stream",
     "text": [
      "I can see a! It's 7.98\n"
     ]
    },
    {
     "data": {
      "text/plain": [
       "29"
      ]
     },
     "execution_count": 3,
     "metadata": {},
     "output_type": "execute_result"
    }
   ],
   "source": [
    "age(1986, 9, 20)"
   ]
  },
  {
   "cell_type": "markdown",
   "metadata": {},
   "source": [
    "When a function encounters a variable, it first looks within the variables defined within the function to see if it finds a match. If it can find one, it uses that one. If it can't, then it looks outside the function. If we had defined another variable `a` inside `age()`, then `age` would have printed that one instead (try it!)"
   ]
  },
  {
   "cell_type": "markdown",
   "metadata": {},
   "source": [
    "So we've seen that a function can see a variable outside its scope, but what would happen if we tried to do this?"
   ]
  },
  {
   "cell_type": "code",
   "execution_count": 4,
   "metadata": {},
   "outputs": [],
   "source": [
    "def age(birth_year, birth_month, birth_day):\n",
    "    today = 13\n",
    "    this_month = 7\n",
    "    this_year = 2016\n",
    "    a = a + 1 # change the variable a\n",
    "    print(\"I can see a! It's\", a)\n",
    "    if (birth_month > this_month) or ((birth_month == this_month) and (birth_day >= today)):\n",
    "        return this_year - birth_year - 1\n",
    "    else:\n",
    "        return this_year - birth_year"
   ]
  },
  {
   "cell_type": "code",
   "execution_count": 5,
   "metadata": {},
   "outputs": [
    {
     "ename": "UnboundLocalError",
     "evalue": "local variable 'a' referenced before assignment",
     "output_type": "error",
     "traceback": [
      "\u001b[0;31m---------------------------------------------------------------------------\u001b[0m",
      "\u001b[0;31mUnboundLocalError\u001b[0m                         Traceback (most recent call last)",
      "\u001b[0;32m<ipython-input-5-1e44a38b6a62>\u001b[0m in \u001b[0;36m<module>\u001b[0;34m\u001b[0m\n\u001b[0;32m----> 1\u001b[0;31m \u001b[0mage\u001b[0m\u001b[0;34m(\u001b[0m\u001b[0;36m1990\u001b[0m\u001b[0;34m,\u001b[0m \u001b[0;36m11\u001b[0m\u001b[0;34m,\u001b[0m \u001b[0;36m1\u001b[0m\u001b[0;34m)\u001b[0m\u001b[0;34m\u001b[0m\u001b[0;34m\u001b[0m\u001b[0m\n\u001b[0m",
      "\u001b[0;32m<ipython-input-4-ee601757633c>\u001b[0m in \u001b[0;36mage\u001b[0;34m(birth_year, birth_month, birth_day)\u001b[0m\n\u001b[1;32m      3\u001b[0m     \u001b[0mthis_month\u001b[0m \u001b[0;34m=\u001b[0m \u001b[0;36m7\u001b[0m\u001b[0;34m\u001b[0m\u001b[0;34m\u001b[0m\u001b[0m\n\u001b[1;32m      4\u001b[0m     \u001b[0mthis_year\u001b[0m \u001b[0;34m=\u001b[0m \u001b[0;36m2016\u001b[0m\u001b[0;34m\u001b[0m\u001b[0;34m\u001b[0m\u001b[0m\n\u001b[0;32m----> 5\u001b[0;31m     \u001b[0ma\u001b[0m \u001b[0;34m=\u001b[0m \u001b[0ma\u001b[0m \u001b[0;34m+\u001b[0m \u001b[0;36m1\u001b[0m \u001b[0;31m# change the variable a\u001b[0m\u001b[0;34m\u001b[0m\u001b[0;34m\u001b[0m\u001b[0m\n\u001b[0m\u001b[1;32m      6\u001b[0m     \u001b[0mprint\u001b[0m\u001b[0;34m(\u001b[0m\u001b[0;34m\"I can see a! It's\"\u001b[0m\u001b[0;34m,\u001b[0m \u001b[0ma\u001b[0m\u001b[0;34m)\u001b[0m\u001b[0;34m\u001b[0m\u001b[0;34m\u001b[0m\u001b[0m\n\u001b[1;32m      7\u001b[0m     \u001b[0;32mif\u001b[0m \u001b[0;34m(\u001b[0m\u001b[0mbirth_month\u001b[0m \u001b[0;34m>\u001b[0m \u001b[0mthis_month\u001b[0m\u001b[0;34m)\u001b[0m \u001b[0;32mor\u001b[0m \u001b[0;34m(\u001b[0m\u001b[0;34m(\u001b[0m\u001b[0mbirth_month\u001b[0m \u001b[0;34m==\u001b[0m \u001b[0mthis_month\u001b[0m\u001b[0;34m)\u001b[0m \u001b[0;32mand\u001b[0m \u001b[0;34m(\u001b[0m\u001b[0mbirth_day\u001b[0m \u001b[0;34m>=\u001b[0m \u001b[0mtoday\u001b[0m\u001b[0;34m)\u001b[0m\u001b[0;34m)\u001b[0m\u001b[0;34m:\u001b[0m\u001b[0;34m\u001b[0m\u001b[0;34m\u001b[0m\u001b[0m\n",
      "\u001b[0;31mUnboundLocalError\u001b[0m: local variable 'a' referenced before assignment"
     ]
    }
   ],
   "source": [
    "age(1990, 11, 1)"
   ]
  },
  {
   "cell_type": "markdown",
   "metadata": {},
   "source": [
    "OK, so a function can *see* a variable outside its scope in Python, but isn't allowed to change it. This is probably a good idea (for the reasons stated above).\n",
    "\n",
    "It actually is possible to change outside variables inside a function by using the `global` keyword. This is strongly discouraged unless you know what you're doing, but this is how we'd do it:"
   ]
  },
  {
   "cell_type": "code",
   "execution_count": 10,
   "metadata": {},
   "outputs": [],
   "source": [
    "def age(birth_year, birth_month, birth_day):\n",
    "    global a #g ive age access to the global variable a. Generally not a good idea.\n",
    "    today = 13\n",
    "    this_month = 7\n",
    "    this_year = 2016\n",
    "    a = a + 1 # change the variable a\n",
    "    print(\"I can see a! It's\", a)\n",
    "    if (birth_month > this_month) or ((birth_month == this_month) and (birth_day >= today)):\n",
    "        return this_year - birth_year - 1\n",
    "    else:\n",
    "        return this_year - birth_year"
   ]
  },
  {
   "cell_type": "code",
   "execution_count": 11,
   "metadata": {},
   "outputs": [
    {
     "name": "stdout",
     "output_type": "stream",
     "text": [
      "I can see a! It's 8.98\n"
     ]
    },
    {
     "data": {
      "text/plain": [
       "25"
      ]
     },
     "execution_count": 11,
     "metadata": {},
     "output_type": "execute_result"
    }
   ],
   "source": [
    "age(1990, 11, 1)"
   ]
  },
  {
   "cell_type": "markdown",
   "metadata": {},
   "source": [
    "While accessing outside variables in a function is a cool feature, it's not usually considered a good practice. One of the big advantages of using functions is that it *compartmentalizes* your code. Compartmentalization is a technique where large codes are split into smaller chunks and each coded separately. This affords us not only readable code, but each piece of the code can then be reused later on if necessary (as you continue coding, you'll find yourself reusing your old code a lot!). If a function that you wrote requires an outside variable to work, then it becomes more difficult for you (and others) to reuse later. And if your function changes an outside variable, it can very easily lead to unintended consequences when used as part of a larger code (and this becomes a real pain to debug). If your function needs information from outside, simply write that function to take that information in as an argument, and if your function needs to change something on the outside, write it as an output."
   ]
  },
  {
   "cell_type": "markdown",
   "metadata": {},
   "source": [
    "## Keyword Arguments"
   ]
  },
  {
   "cell_type": "markdown",
   "metadata": {},
   "source": [
    "We've seen how to specify which inputs a function needs in order to operate, and how they are handled by the function. There are times, however, when we may want to specify a default value for one or more of the function inputs. A default value is simply a value for a variable that is automatically stored there in the event the user doesn't specify an input. In Python, we define default values by creating *keyword arguments*. I'll give some examples of when this is a good idea, but first, let's look at how we do this. \n",
    "\n",
    "Here's a function that creates a list of points between two numbers. A third input defines the number of points to be in the list."
   ]
  },
  {
   "cell_type": "code",
   "execution_count": 12,
   "metadata": {},
   "outputs": [],
   "source": [
    "def linspace(a=0, b=1, n=11):  # create a list of n points starting at a and ending at b\n",
    "    \n",
    "    # The size of each step\n",
    "    dx = (b - a) / (n - 1)\n",
    "    \n",
    "    # The answer to return\n",
    "    answer = []\n",
    "    \n",
    "    # Our loop\n",
    "    for i in range(n):\n",
    "        \n",
    "        # Append correct answer to the list\n",
    "        answer.append(a + dx * i)\n",
    "        \n",
    "    # Return our answer\n",
    "    return answer"
   ]
  },
  {
   "cell_type": "markdown",
   "metadata": {},
   "source": [
    "We can see the definition of the keyword arguments in the first line. When we define the function arguments, `a`, `b`, and `n`, we also provide default values. If the user (the person calling the function) doesn't input one or more of these values, the function will still work, and simply use the default value. When defining a function, any number of variables can have default values. We can even have some arguments with default values and some without. The only rule is that the keyword arguments must appear *after* the arguments without default values. So \n",
    "\n",
    "```python\n",
    "def linspace(a=0, b, n=11):\n",
    "```\n",
    "would not work, but \n",
    "```python\n",
    "def linspace(a, b=1, n=11):\n",
    "```\n",
    "would be fine.\n",
    "\n",
    "Because our `linspace` function has a default value for all of its parameters, we can acually call this function without inputs, and it will use all the default values provided:"
   ]
  },
  {
   "cell_type": "code",
   "execution_count": 13,
   "metadata": {},
   "outputs": [
    {
     "data": {
      "text/plain": [
       "[0.0,\n",
       " 0.1,\n",
       " 0.2,\n",
       " 0.30000000000000004,\n",
       " 0.4,\n",
       " 0.5,\n",
       " 0.6000000000000001,\n",
       " 0.7000000000000001,\n",
       " 0.8,\n",
       " 0.9,\n",
       " 1.0]"
      ]
     },
     "execution_count": 13,
     "metadata": {},
     "output_type": "execute_result"
    }
   ],
   "source": [
    "linspace()"
   ]
  },
  {
   "cell_type": "markdown",
   "metadata": {},
   "source": [
    "We can specify only the first input, or the first two inputs, like this:"
   ]
  },
  {
   "cell_type": "code",
   "execution_count": 14,
   "metadata": {},
   "outputs": [
    {
     "data": {
      "text/plain": [
       "[-1.0,\n",
       " -0.8,\n",
       " -0.6,\n",
       " -0.3999999999999999,\n",
       " -0.19999999999999996,\n",
       " 0.0,\n",
       " 0.20000000000000018,\n",
       " 0.40000000000000013,\n",
       " 0.6000000000000001,\n",
       " 0.8,\n",
       " 1.0]"
      ]
     },
     "execution_count": 14,
     "metadata": {},
     "output_type": "execute_result"
    }
   ],
   "source": [
    "linspace(-1) # Will give 11 points from -1 to 1"
   ]
  },
  {
   "cell_type": "code",
   "execution_count": 15,
   "metadata": {},
   "outputs": [
    {
     "data": {
      "text/plain": [
       "[0.0, 10.0, 20.0, 30.0, 40.0, 50.0, 60.0, 70.0, 80.0, 90.0, 100.0]"
      ]
     },
     "execution_count": 15,
     "metadata": {},
     "output_type": "execute_result"
    }
   ],
   "source": [
    "linspace(0, 100) # will give 11 points from 0 to 100"
   ]
  },
  {
   "cell_type": "markdown",
   "metadata": {},
   "source": [
    "So it's ok to specify `a` and `b`, and leave `n` unspecified, but what if we want to specify `n`, but not `b`. You might try this:"
   ]
  },
  {
   "cell_type": "code",
   "execution_count": 16,
   "metadata": {},
   "outputs": [
    {
     "ename": "SyntaxError",
     "evalue": "invalid syntax (<ipython-input-16-b60c426e4ff3>, line 1)",
     "output_type": "error",
     "traceback": [
      "\u001b[0;36m  File \u001b[0;32m\"<ipython-input-16-b60c426e4ff3>\"\u001b[0;36m, line \u001b[0;32m1\u001b[0m\n\u001b[0;31m    linspace(0, , 21) # create a list of 21 numbers from 0 to 1?\u001b[0m\n\u001b[0m                ^\u001b[0m\n\u001b[0;31mSyntaxError\u001b[0m\u001b[0;31m:\u001b[0m invalid syntax\n"
     ]
    }
   ],
   "source": [
    "linspace(0, , 21) # create a list of 21 numbers from 0 to 1?"
   ]
  },
  {
   "cell_type": "markdown",
   "metadata": {},
   "source": [
    "Unfortunately, Python doesn't understand like this. Up to now, Python has been interpreting the arguments based on their position. But if we want to miss out one or more of the arguments, we can no longer do this. Instead, we must specify the arguments by name:"
   ]
  },
  {
   "cell_type": "code",
   "execution_count": 17,
   "metadata": {},
   "outputs": [
    {
     "data": {
      "text/plain": [
       "[0.0,\n",
       " 0.05,\n",
       " 0.1,\n",
       " 0.15000000000000002,\n",
       " 0.2,\n",
       " 0.25,\n",
       " 0.30000000000000004,\n",
       " 0.35000000000000003,\n",
       " 0.4,\n",
       " 0.45,\n",
       " 0.5,\n",
       " 0.55,\n",
       " 0.6000000000000001,\n",
       " 0.65,\n",
       " 0.7000000000000001,\n",
       " 0.75,\n",
       " 0.8,\n",
       " 0.8500000000000001,\n",
       " 0.9,\n",
       " 0.9500000000000001,\n",
       " 1.0]"
      ]
     },
     "execution_count": 17,
     "metadata": {},
     "output_type": "execute_result"
    }
   ],
   "source": [
    "linspace(a=0, n=21) # set linspace's a to 0 and n to 21, but use the default for b"
   ]
  },
  {
   "cell_type": "markdown",
   "metadata": {},
   "source": [
    "This is pretty flexible, and we could even pass in the arguments in a completely different order if we feel like it:"
   ]
  },
  {
   "cell_type": "code",
   "execution_count": 18,
   "metadata": {},
   "outputs": [
    {
     "data": {
      "text/plain": [
       "[0.0,\n",
       " 0.2,\n",
       " 0.4,\n",
       " 0.6000000000000001,\n",
       " 0.8,\n",
       " 1.0,\n",
       " 1.2000000000000002,\n",
       " 1.4000000000000001,\n",
       " 1.6,\n",
       " 1.8,\n",
       " 2.0,\n",
       " 2.2,\n",
       " 2.4000000000000004,\n",
       " 2.6,\n",
       " 2.8000000000000003,\n",
       " 3.0,\n",
       " 3.2,\n",
       " 3.4000000000000004,\n",
       " 3.6,\n",
       " 3.8000000000000003,\n",
       " 4.0]"
      ]
     },
     "execution_count": 18,
     "metadata": {},
     "output_type": "execute_result"
    }
   ],
   "source": [
    "linspace(n=21, a=0, b=4) "
   ]
  },
  {
   "cell_type": "markdown",
   "metadata": {},
   "source": [
    "We can also mix up passing in arguments by position and by name:"
   ]
  },
  {
   "cell_type": "code",
   "execution_count": 19,
   "metadata": {},
   "outputs": [
    {
     "data": {
      "text/plain": [
       "[0.0,\n",
       " 0.05,\n",
       " 0.1,\n",
       " 0.15000000000000002,\n",
       " 0.2,\n",
       " 0.25,\n",
       " 0.30000000000000004,\n",
       " 0.35000000000000003,\n",
       " 0.4,\n",
       " 0.45,\n",
       " 0.5,\n",
       " 0.55,\n",
       " 0.6000000000000001,\n",
       " 0.65,\n",
       " 0.7000000000000001,\n",
       " 0.75,\n",
       " 0.8,\n",
       " 0.8500000000000001,\n",
       " 0.9,\n",
       " 0.9500000000000001,\n",
       " 1.0]"
      ]
     },
     "execution_count": 19,
     "metadata": {},
     "output_type": "execute_result"
    }
   ],
   "source": [
    "linspace(0, n=21) # pass in a and n, but use the default value for b"
   ]
  },
  {
   "cell_type": "markdown",
   "metadata": {},
   "source": [
    "When is this useful? Maybe you're writing a code that is very technical, but you want everyday people to be able to use it. Maybe the average person doesn't need to be able to specify everything, but a more informed user would like the ability to be more specific. For example, you could have used a default parameter for the Caeser shift cypher code you wrote yesterday. If you put the default shift at 5, then most users could simply write encrypt('message') and decrypt('message'), but someone who wants more control over the function could specify their own shift."
   ]
  },
  {
   "cell_type": "markdown",
   "metadata": {},
   "source": [
    "A common use of default parameters is to define boolean arguments, and use these to control what the function does or doesn't do. For example, what if we wanted our linspace function to print its variable dx, but only sometimes? We could introduce a boolean keyword argument to do this. "
   ]
  },
  {
   "cell_type": "code",
   "execution_count": 20,
   "metadata": {},
   "outputs": [],
   "source": [
    "def linspace(a=0, b=1, n=11, print_dx=False):\n",
    "    \n",
    "    # Make sure everything is the correct type\n",
    "    a = float(a)\n",
    "    b = float(b)\n",
    "    n = int(n)\n",
    "    \n",
    "    # The size of each step\n",
    "    dx = (b - a)/(n - 1)\n",
    "    \n",
    "    #print dx if the user wants to\n",
    "    if print_dx:\n",
    "        print(\"dx =\", dx)\n",
    "    \n",
    "    # The answer to return\n",
    "    answer = []\n",
    "    \n",
    "    # Our loop\n",
    "    for i in range(n):\n",
    "        \n",
    "        # Append correct answer to the list\n",
    "        answer.append(a + dx * i)\n",
    "        \n",
    "    # Return our answer\n",
    "    return answer"
   ]
  },
  {
   "cell_type": "code",
   "execution_count": 21,
   "metadata": {},
   "outputs": [
    {
     "data": {
      "text/plain": [
       "[0.0,\n",
       " 0.05,\n",
       " 0.1,\n",
       " 0.15000000000000002,\n",
       " 0.2,\n",
       " 0.25,\n",
       " 0.30000000000000004,\n",
       " 0.35000000000000003,\n",
       " 0.4,\n",
       " 0.45,\n",
       " 0.5,\n",
       " 0.55,\n",
       " 0.6000000000000001,\n",
       " 0.65,\n",
       " 0.7000000000000001,\n",
       " 0.75,\n",
       " 0.8,\n",
       " 0.8500000000000001,\n",
       " 0.9,\n",
       " 0.9500000000000001,\n",
       " 1.0]"
      ]
     },
     "execution_count": 21,
     "metadata": {},
     "output_type": "execute_result"
    }
   ],
   "source": [
    "linspace(0, 1, 21) # the default behavior"
   ]
  },
  {
   "cell_type": "code",
   "execution_count": 22,
   "metadata": {},
   "outputs": [
    {
     "name": "stdout",
     "output_type": "stream",
     "text": [
      "dx = 0.05\n"
     ]
    },
    {
     "data": {
      "text/plain": [
       "[0.0,\n",
       " 0.05,\n",
       " 0.1,\n",
       " 0.15000000000000002,\n",
       " 0.2,\n",
       " 0.25,\n",
       " 0.30000000000000004,\n",
       " 0.35000000000000003,\n",
       " 0.4,\n",
       " 0.45,\n",
       " 0.5,\n",
       " 0.55,\n",
       " 0.6000000000000001,\n",
       " 0.65,\n",
       " 0.7000000000000001,\n",
       " 0.75,\n",
       " 0.8,\n",
       " 0.8500000000000001,\n",
       " 0.9,\n",
       " 0.9500000000000001,\n",
       " 1.0]"
      ]
     },
     "execution_count": 22,
     "metadata": {},
     "output_type": "execute_result"
    }
   ],
   "source": [
    "linspace(0, 1, 21, print_dx=True) # this time print dx"
   ]
  },
  {
   "cell_type": "markdown",
   "metadata": {},
   "source": [
    "## Recursion"
   ]
  },
  {
   "cell_type": "markdown",
   "metadata": {},
   "source": [
    "We've already learned one way to repeat a piece of code over and over again: loops. Specifically while loops and for loops. Let's introduce another way of doing this called *recursion*. A recursive function is one that calls itself. \n",
    "\n",
    "Let's seee how that works by converting a function that uses a for loop into a recursive function."
   ]
  },
  {
   "cell_type": "markdown",
   "metadata": {},
   "source": [
    "The following function uses a for loop to print powers of 2. It takes a nonnegative integer n, which is the highest power of 2 that it will print."
   ]
  },
  {
   "cell_type": "code",
   "execution_count": 23,
   "metadata": {},
   "outputs": [],
   "source": [
    "def powers(n):\n",
    "    for i in range(n + 1):\n",
    "        print(2**i)"
   ]
  },
  {
   "cell_type": "code",
   "execution_count": 24,
   "metadata": {},
   "outputs": [
    {
     "name": "stdout",
     "output_type": "stream",
     "text": [
      "1\n",
      "2\n",
      "4\n",
      "8\n",
      "16\n",
      "32\n",
      "64\n"
     ]
    }
   ],
   "source": [
    "powers(6) # print the first 7 powers of 2 (including 2**0)"
   ]
  },
  {
   "cell_type": "markdown",
   "metadata": {},
   "source": [
    "Another way to do this is with recursion. Here's how this function would look with recursion:"
   ]
  },
  {
   "cell_type": "code",
   "execution_count": 25,
   "metadata": {},
   "outputs": [],
   "source": [
    "def powers(n):\n",
    "    if n == 0 :\n",
    "        print(1)      # Handle the n == 0 case EXPLICITLY\n",
    "    else:\n",
    "        powers(n - 1) # this is where the recursive magic happens\n",
    "        print(2**n)"
   ]
  },
  {
   "cell_type": "code",
   "execution_count": 26,
   "metadata": {},
   "outputs": [
    {
     "name": "stdout",
     "output_type": "stream",
     "text": [
      "1\n",
      "2\n",
      "4\n",
      "8\n",
      "16\n",
      "32\n",
      "64\n"
     ]
    }
   ],
   "source": [
    "powers(6)"
   ]
  },
  {
   "cell_type": "markdown",
   "metadata": {},
   "source": [
    "Let's take a look at how recursion works. The first step is identifying the *base-case* problem. This is the problem in our loop where we want to the recursion to stop, and often has a simple solution. For our problem, the base case is when $n = 0$. For this we print $2^0 = 1$.\n",
    "\n",
    "Next is the tricky part. We need to work out how to go from the iterations of our loop to the base case. For our problem, we can see that if we start with $n$ and keep subtracting 1 from it, we will eventually reach 0, the base case. This is what we do in the `else` block when we call `powers(n-1)`. "
   ]
  },
  {
   "cell_type": "markdown",
   "metadata": {},
   "source": [
    "So what happens when we call `powers(6)`? When it's calls `powers(5)`, which calls `powers(4)`, and so on until `powers(1)` calls `powers(0)`. `powers(0)` now satisfies the condition `n == 0`, so instead of calling `powers(-1)`, it simply prints the number 1 then hands control back to `powers(1)`. `powers(1`) prints $2^1$, and then hands control back to `powers(2)`, and so on. Once control gets handed back to `powers(6)`, it prints $2^6$ and the function ends.\n",
    "\n",
    "\n",
    "When writing recursive functions, it's easy to accidentally create infinite loops. This will happen if you forget to create a base case or if your code gets sidetracked somehow and never manages to reach the base case (e.g. imagine we accidentally wrote `powers(n+1)` in the code above - `n` would keep increasing and never reach 0, so the function would keep calling itself forever). "
   ]
  },
  {
   "cell_type": "markdown",
   "metadata": {},
   "source": [
    "Let's see what happens if we call our function with a negative number (thereby creating an infinite loop):"
   ]
  },
  {
   "cell_type": "code",
   "execution_count": 27,
   "metadata": {},
   "outputs": [
    {
     "ename": "RecursionError",
     "evalue": "maximum recursion depth exceeded in comparison",
     "output_type": "error",
     "traceback": [
      "\u001b[0;31m---------------------------------------------------------------------------\u001b[0m",
      "\u001b[0;31mRecursionError\u001b[0m                            Traceback (most recent call last)",
      "\u001b[0;32m<ipython-input-27-c3d515ee1ab6>\u001b[0m in \u001b[0;36m<module>\u001b[0;34m\u001b[0m\n\u001b[0;32m----> 1\u001b[0;31m \u001b[0mpowers\u001b[0m\u001b[0;34m(\u001b[0m\u001b[0;34m-\u001b[0m\u001b[0;36m2\u001b[0m\u001b[0;34m)\u001b[0m\u001b[0;34m\u001b[0m\u001b[0;34m\u001b[0m\u001b[0m\n\u001b[0m",
      "\u001b[0;32m<ipython-input-25-8c8e73c450a0>\u001b[0m in \u001b[0;36mpowers\u001b[0;34m(n)\u001b[0m\n\u001b[1;32m      3\u001b[0m         \u001b[0mprint\u001b[0m\u001b[0;34m(\u001b[0m\u001b[0;36m1\u001b[0m\u001b[0;34m)\u001b[0m      \u001b[0;31m# Handle the n == 0 case EXPLICITLY\u001b[0m\u001b[0;34m\u001b[0m\u001b[0;34m\u001b[0m\u001b[0m\n\u001b[1;32m      4\u001b[0m     \u001b[0;32melse\u001b[0m\u001b[0;34m:\u001b[0m\u001b[0;34m\u001b[0m\u001b[0;34m\u001b[0m\u001b[0m\n\u001b[0;32m----> 5\u001b[0;31m         \u001b[0mpowers\u001b[0m\u001b[0;34m(\u001b[0m\u001b[0mn\u001b[0m \u001b[0;34m-\u001b[0m \u001b[0;36m1\u001b[0m\u001b[0;34m)\u001b[0m \u001b[0;31m# this is where the recursive magic happens\u001b[0m\u001b[0;34m\u001b[0m\u001b[0;34m\u001b[0m\u001b[0m\n\u001b[0m\u001b[1;32m      6\u001b[0m         \u001b[0mprint\u001b[0m\u001b[0;34m(\u001b[0m\u001b[0;36m2\u001b[0m\u001b[0;34m**\u001b[0m\u001b[0mn\u001b[0m\u001b[0;34m)\u001b[0m\u001b[0;34m\u001b[0m\u001b[0;34m\u001b[0m\u001b[0m\n",
      "... last 1 frames repeated, from the frame below ...\n",
      "\u001b[0;32m<ipython-input-25-8c8e73c450a0>\u001b[0m in \u001b[0;36mpowers\u001b[0;34m(n)\u001b[0m\n\u001b[1;32m      3\u001b[0m         \u001b[0mprint\u001b[0m\u001b[0;34m(\u001b[0m\u001b[0;36m1\u001b[0m\u001b[0;34m)\u001b[0m      \u001b[0;31m# Handle the n == 0 case EXPLICITLY\u001b[0m\u001b[0;34m\u001b[0m\u001b[0;34m\u001b[0m\u001b[0m\n\u001b[1;32m      4\u001b[0m     \u001b[0;32melse\u001b[0m\u001b[0;34m:\u001b[0m\u001b[0;34m\u001b[0m\u001b[0;34m\u001b[0m\u001b[0m\n\u001b[0;32m----> 5\u001b[0;31m         \u001b[0mpowers\u001b[0m\u001b[0;34m(\u001b[0m\u001b[0mn\u001b[0m \u001b[0;34m-\u001b[0m \u001b[0;36m1\u001b[0m\u001b[0;34m)\u001b[0m \u001b[0;31m# this is where the recursive magic happens\u001b[0m\u001b[0;34m\u001b[0m\u001b[0;34m\u001b[0m\u001b[0m\n\u001b[0m\u001b[1;32m      6\u001b[0m         \u001b[0mprint\u001b[0m\u001b[0;34m(\u001b[0m\u001b[0;36m2\u001b[0m\u001b[0;34m**\u001b[0m\u001b[0mn\u001b[0m\u001b[0;34m)\u001b[0m\u001b[0;34m\u001b[0m\u001b[0;34m\u001b[0m\u001b[0m\n",
      "\u001b[0;31mRecursionError\u001b[0m: maximum recursion depth exceeded in comparison"
     ]
    }
   ],
   "source": [
    "powers(-2)"
   ]
  },
  {
   "cell_type": "markdown",
   "metadata": {},
   "source": [
    "You might have guessed that this would run forever. Fortunately Python helps prevent this from happening by limiting how far down into a recursive function you can go. If you exceed that number, it quits. If it did not do this, then this function would have kept running until our computer ran out of memory and crashed. \n",
    "\n",
    "When we ran powers(-2), it called powers(-3), which called powers(-4), and so on. It never reached the base case of 0, so it eventually reached the maximum recursion depth, and printed an error."
   ]
  },
  {
   "cell_type": "markdown",
   "metadata": {},
   "source": [
    "Almost any loop can be written using recursion instead. In fact, there's a whole branch of programming (*functional programming*) based around recursion. Examples of functional programming languages include Haskell, Scala, OCaml and Lisp."
   ]
  },
  {
   "cell_type": "code",
   "execution_count": 28,
   "metadata": {},
   "outputs": [],
   "source": [
    "def sillystring(mystring):\n",
    "    # we actually have two base cases: when the length of the string is 1 or 0.\n",
    "    # Luckily we can cover both of these cases with a single condition\n",
    "    if len(mystring) < 2:\n",
    "        return mystring # If the length of the string is 1 or 0, do nothing\n",
    "    else:\n",
    "        # in this block we're guaranteed to be working with a string of 2 or more characters\n",
    "        # Let's just look at the first 2 characters of our string and make the\n",
    "        # necessary modification\n",
    "        \n",
    "        # We leave the first character intact, attach an underscore,\n",
    "        # and then call sillystring on the rest of mystring\n",
    "        return mystring[0] + \"_\" + sillystring(mystring[2:])\n",
    "    "
   ]
  },
  {
   "cell_type": "code",
   "execution_count": 29,
   "metadata": {},
   "outputs": [
    {
     "data": {
      "text/plain": [
       "'I_l_k_ _o_a_o_s_'"
      ]
     },
     "execution_count": 29,
     "metadata": {},
     "output_type": "execute_result"
    }
   ],
   "source": [
    "sillystring(\"I like potatoes.\")"
   ]
  },
  {
   "cell_type": "markdown",
   "metadata": {},
   "source": [
    "## Practice Problems"
   ]
  },
  {
   "cell_type": "markdown",
   "metadata": {},
   "source": [
    "Write a function called `factorial` with an argument `n` as input, which returns the production of the first `n` positive integers starting from 1. Use a for loop to implement the function.\n",
    "\n",
    "**Example:** $5! = 5*4*3*2*1 = 120$, $2! = 2*1 = 2$"
   ]
  },
  {
   "cell_type": "code",
   "execution_count": 1,
   "metadata": {},
   "outputs": [
    {
     "data": {
      "text/plain": [
       "120"
      ]
     },
     "execution_count": 1,
     "metadata": {},
     "output_type": "execute_result"
    }
   ],
   "source": [
    "def factorial(n):\n",
    "    num = 1\n",
    "    for i in range(1,n+1):\n",
    "        num *= i\n",
    "    return num\n",
    "\n",
    "factorial(5)"
   ]
  },
  {
   "cell_type": "markdown",
   "metadata": {},
   "source": [
    "Now implement a recursive version of the factorial function"
   ]
  },
  {
   "cell_type": "code",
   "execution_count": 2,
   "metadata": {},
   "outputs": [
    {
     "data": {
      "text/plain": [
       "120"
      ]
     },
     "execution_count": 2,
     "metadata": {},
     "output_type": "execute_result"
    }
   ],
   "source": [
    "def factorial_recursive(n):\n",
    "    if n == 1:\n",
    "        return 1\n",
    "    return n * factorial_recursive(n - 1)\n",
    "\n",
    "factorial_recursive(5)"
   ]
  },
  {
   "cell_type": "markdown",
   "metadata": {},
   "source": [
    "Implement a recursive function to calculate $f(x) = 3x$."
   ]
  },
  {
   "cell_type": "code",
   "execution_count": 3,
   "metadata": {},
   "outputs": [
    {
     "data": {
      "text/plain": [
       "15"
      ]
     },
     "execution_count": 3,
     "metadata": {},
     "output_type": "execute_result"
    }
   ],
   "source": [
    "def f(x):\n",
    "    if x == 0:\n",
    "        return 0\n",
    "    return 3 + f(x - 1)\n",
    "\n",
    "f(5)"
   ]
  },
  {
   "cell_type": "markdown",
   "metadata": {},
   "source": [
    "Implement a recursive function to calculate the sum of the first `n` positive integers."
   ]
  },
  {
   "cell_type": "code",
   "execution_count": 9,
   "metadata": {},
   "outputs": [
    {
     "data": {
      "text/plain": [
       "15"
      ]
     },
     "execution_count": 9,
     "metadata": {},
     "output_type": "execute_result"
    }
   ],
   "source": [
    "def f(x):\n",
    "    if x == 0:\n",
    "        return 0\n",
    "    return x + f(x - 1)\n",
    "\n",
    "f(5)"
   ]
  },
  {
   "cell_type": "markdown",
   "metadata": {},
   "source": [
    "The Fibonacci sequence is given by: \n",
    "\n",
    "$0,1,1,2,3,5,8,13,21,34,55,89, \\dots$ \n",
    "\n",
    "The Fibonacci sequence is defined by the following formula: \n",
    "$$F_{n} = F_{n-1} + F_{n-2}$$\n",
    "with $F_{0} = 0$ and $F_{1} = 1$.\n",
    "\n",
    "Implement a recursive function to generate the $n$th number in the Fibonacci sequence, then use this to print the first $n$ numbers in the sequence."
   ]
  },
  {
   "cell_type": "code",
   "execution_count": 14,
   "metadata": {},
   "outputs": [],
   "source": [
    "def fib(x):\n",
    "    if x == 0:\n",
    "        return 0\n",
    "    if x == 1:\n",
    "        return 1\n",
    "    \n",
    "    return fib(x - 1) + fib(x - 2)"
   ]
  },
  {
   "cell_type": "code",
   "execution_count": 13,
   "metadata": {},
   "outputs": [
    {
     "data": {
      "text/plain": [
       "1"
      ]
     },
     "execution_count": 13,
     "metadata": {},
     "output_type": "execute_result"
    }
   ],
   "source": [
    "fib(2)"
   ]
  },
  {
   "cell_type": "code",
   "execution_count": 21,
   "metadata": {},
   "outputs": [
    {
     "name": "stdout",
     "output_type": "stream",
     "text": [
      "0 1 1 2 3 5 8 13 21 34 "
     ]
    }
   ],
   "source": [
    "def print_fib(x):\n",
    "    for i in range(x):\n",
    "        print(fib(i), end=\" \")\n",
    "        \n",
    "print_fib(10)"
   ]
  },
  {
   "cell_type": "markdown",
   "metadata": {},
   "source": [
    "## Advanced Problems"
   ]
  },
  {
   "cell_type": "markdown",
   "metadata": {},
   "source": [
    "Write a recursive function which implements Pascal's triangle: (http://mathforum.org/dr.math/faq/faq.pascal.triangle.html)"
   ]
  },
  {
   "cell_type": "code",
   "execution_count": 4,
   "metadata": {},
   "outputs": [
    {
     "name": "stdout",
     "output_type": "stream",
     "text": [
      "[1]\n",
      "[1, 1]\n",
      "[1, 2, 1]\n",
      "[1, 3, 3, 1]\n",
      "[1, 4, 6, 4, 1]\n",
      "[1, 5, 10, 10, 5, 1]\n",
      "[1, 6, 15, 20, 15, 6, 1]\n",
      "[1, 7, 21, 35, 35, 21, 7, 1]\n",
      "[1, 8, 28, 56, 70, 56, 28, 8, 1]\n",
      "[1, 9, 36, 84, 126, 126, 84, 36, 9, 1]\n"
     ]
    }
   ],
   "source": [
    "def pascal(n):\n",
    "    if n == 1:\n",
    "        print(\"1\")\n",
    "        return [1]\n",
    "    if n == 2:\n",
    "        previous = pascal(1)\n",
    "        print(\"1 1\")\n",
    "        return [1, 1]\n",
    "    \n",
    "    previous = pascal(n - 1)\n",
    "    new = [1] + [previous[i] + previous[i + 1] for i in range(len(previous) - 1)] + [1]\n",
    "    print(\" \".join([str(i) for i in new[:]]))\n",
    "    return new\n",
    "\n",
    "\n",
    "def pascal_old(n):\n",
    "    if n == 1:\n",
    "        print([1])\n",
    "        return [1]\n",
    "    if n == 2:\n",
    "        previous = pascal_old(1)\n",
    "        print([1, 1])\n",
    "        return [1, 1]\n",
    "    \n",
    "    previous = pascal_old(n-1)\n",
    "    new = [1]\n",
    "    for i in range(len(previous)-1):\n",
    "        new.append(previous[i] + previous[i + 1])\n",
    "    new.append(1)\n",
    "    print(new)\n",
    "    return new\n",
    "\n",
    "pascal_old(10);"
   ]
  },
  {
   "cell_type": "markdown",
   "metadata": {},
   "source": []
  }
 ],
 "metadata": {
  "kernelspec": {
   "display_name": "Python 3",
   "language": "python",
   "name": "python3"
  },
  "language_info": {
   "codemirror_mode": {
    "name": "ipython",
    "version": 3
   },
   "file_extension": ".py",
   "mimetype": "text/x-python",
   "name": "python",
   "nbconvert_exporter": "python",
   "pygments_lexer": "ipython3",
   "version": "3.6.7"
  }
 },
 "nbformat": 4,
 "nbformat_minor": 2
}
