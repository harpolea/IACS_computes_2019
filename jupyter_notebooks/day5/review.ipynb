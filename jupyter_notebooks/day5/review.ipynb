{
 "cells": [
  {
   "cell_type": "markdown",
   "metadata": {},
   "source": [
    "# Day 4 Review\n",
    "\n",
    "Yesterday we looked at functions and I/O."
   ]
  },
  {
   "cell_type": "markdown",
   "metadata": {},
   "source": [
    "## Functions"
   ]
  },
  {
   "cell_type": "code",
   "execution_count": 1,
   "metadata": {},
   "outputs": [],
   "source": [
    "# define a function that prints greetings\n",
    "def greetings(name):\n",
    "    print(\"Hi {}! How are you today?\".format(name))"
   ]
  },
  {
   "cell_type": "code",
   "execution_count": 2,
   "metadata": {},
   "outputs": [
    {
     "name": "stdout",
     "output_type": "stream",
     "text": [
      "Hi Dora! How are you today?\n"
     ]
    }
   ],
   "source": [
    "# call this function \n",
    "greetings(\"Dora\")"
   ]
  },
  {
   "cell_type": "code",
   "execution_count": 3,
   "metadata": {},
   "outputs": [],
   "source": [
    "# define a function that returns something \n",
    "def am_i_odd(number):\n",
    "    if number % 2 == 0:\n",
    "        return False\n",
    "    else:\n",
    "        return True"
   ]
  },
  {
   "cell_type": "code",
   "execution_count": 4,
   "metadata": {},
   "outputs": [
    {
     "name": "stdout",
     "output_type": "stream",
     "text": [
      "True\n",
      "False\n"
     ]
    }
   ],
   "source": [
    "print(am_i_odd(5))\n",
    "print(am_i_odd(81726))"
   ]
  },
  {
   "cell_type": "markdown",
   "metadata": {},
   "source": [
    "## Input/output"
   ]
  },
  {
   "cell_type": "code",
   "execution_count": 5,
   "metadata": {},
   "outputs": [
    {
     "name": "stdin",
     "output_type": "stream",
     "text": [
      "Hi! What is your name?  Luna\n"
     ]
    }
   ],
   "source": [
    "# get input from a user\n",
    "name = input(\"Hi! What is your name? \")"
   ]
  },
  {
   "cell_type": "code",
   "execution_count": 6,
   "metadata": {},
   "outputs": [
    {
     "name": "stdout",
     "output_type": "stream",
     "text": [
      "TOP SECRET BROWNIES RECIPE\n",
      "\n",
      "Yield: 25-30 brownies \n",
      "\n",
      "Ingredients\n",
      "\n",
      "1 cup + 2 tbsp milk \n",
      "1/2 cup + 3 tbsp oil\n",
      "1 tbsp pure vanilla extract\n",
      "1 cup all purpose flour\n",
      "1 cup unsweetened cacao or cocoa powder\n",
      "1/4 tsp + 1/8 tsp salt\n",
      "1/2 tsp baking powder\n",
      "1/2 cup brown sugar\n",
      "1/3 cup white sugar\n",
      "2 tbsp cornstarch \n",
      "\n",
      "Instructions\n",
      "\n",
      "Whisk together the first 3 ingredients, then set aside. Preheat oven to 330F. \n",
      "Grease a 9×13 pan (or 8×8 for thick brownies), or line with parchment paper, \n",
      "and set aside. In a large mixing bowl,thoroughly combine all dry ingredients. \n",
      "Stir wet into dry. Pour into the prepared pan. Smooth down. Bake 16 minutes, \n",
      "or 24 if using an 8×8. The brownies will look a little underdone when they \n",
      "come out, but that’s okay! Refrigerate – they start to firm up after a few \n",
      "hours and are nice and cut-able by the next day, and the taste is much better \n",
      "the next day as well. Store in the refrigerator for up to 4 days, or freeze.\n",
      "\n",
      "https://bit.ly/2k9AGI9\n",
      "\n"
     ]
    }
   ],
   "source": [
    "# read from a file \n",
    "with open('secret_message.txt', 'r') as my_file:\n",
    "    print(my_file.read())"
   ]
  },
  {
   "cell_type": "code",
   "execution_count": 7,
   "metadata": {},
   "outputs": [],
   "source": [
    "# Write to a file\n",
    "message = \"\"\"\n",
    "Hi Gran!\n",
    "\n",
    "Thanks for the brownies recipe. I'm sure that these are \n",
    "going to sell great at the bake sale this weekend!\n",
    "\n",
    "Love,\n",
    "Tess\n",
    "\"\"\"\n",
    "\n",
    "with open(\"my_reply.txt\", 'w') as output_file:\n",
    "    output_file.write(message)"
   ]
  },
  {
   "cell_type": "code",
   "execution_count": null,
   "metadata": {},
   "outputs": [],
   "source": []
  }
 ],
 "metadata": {
  "kernelspec": {
   "display_name": "Python 3",
   "language": "python",
   "name": "python3"
  },
  "language_info": {
   "codemirror_mode": {
    "name": "ipython",
    "version": 3
   },
   "file_extension": ".py",
   "mimetype": "text/x-python",
   "name": "python",
   "nbconvert_exporter": "python",
   "pygments_lexer": "ipython3",
   "version": "3.7.3"
  }
 },
 "nbformat": 4,
 "nbformat_minor": 2
}
