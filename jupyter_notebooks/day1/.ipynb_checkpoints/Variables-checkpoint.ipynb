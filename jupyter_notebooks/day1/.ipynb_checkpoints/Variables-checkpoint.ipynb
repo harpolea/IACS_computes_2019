{
 "cells": [
  {
   "cell_type": "markdown",
   "metadata": {},
   "source": [
    "# Variables"
   ]
  },
  {
   "cell_type": "markdown",
   "metadata": {},
   "source": [
    "In Python, we can assign names to values. For example, here we assign the name `my_number` to a number. We can then refer to this number by our new name rather than by the value - we do this here by calling `print` using this new name. "
   ]
  },
  {
   "cell_type": "code",
   "execution_count": 1,
   "metadata": {},
   "outputs": [
    {
     "name": "stdout",
     "output_type": "stream",
     "text": [
      "5\n"
     ]
    }
   ],
   "source": [
    "my_number = 5\n",
    "print(my_number)"
   ]
  },
  {
   "cell_type": "markdown",
   "metadata": {},
   "source": [
    "Assigning names to quantities in a code is called *defining variables*. You can think of a *variable* as a human-readable label (i.e. a nickname) for a bit of data in the computer's memory. When we use the variable name in our code, the program knows that we are really referring the data. \n",
    "\n",
    "In Python, variable names can be made up of lower case letters, UPPER CASE LETTERS, numbers and `_underscores_`. They cannot start with numbers or contain spaces. Although there are not really any other rules for variable names, there are certain *conventions* that Python programmers tend to follow to keep their code readable and organized. It's standard practice to start variable names with a lower case letter and to seperate words with underscores, e.g. `my_awesome_variable_name`. \n",
    "\n",
    "A slightly more complex example is calculating the area of a rectangle:"
   ]
  },
  {
   "cell_type": "code",
   "execution_count": 2,
   "metadata": {},
   "outputs": [
    {
     "data": {
      "text/plain": [
       "84"
      ]
     },
     "execution_count": 2,
     "metadata": {},
     "output_type": "execute_result"
    }
   ],
   "source": [
    "length = 7\n",
    "width = 12\n",
    "length * width"
   ]
  },
  {
   "cell_type": "markdown",
   "metadata": {},
   "source": [
    "There are several advantages of using variables in our code.\n",
    "\n",
    "The first is readability. As you continue to code, you'll soon be reading programs written by other people (or your past self). It's way more useful to know what each number is if the person gave that number a (sensible) name. The example written above is a fair example. Anyone reading that code will know that 7 is the length of something and 12 is the width. To be even more informative, we could even write it like this:"
   ]
  },
  {
   "cell_type": "code",
   "execution_count": 3,
   "metadata": {},
   "outputs": [
    {
     "name": "stdout",
     "output_type": "stream",
     "text": [
      "84\n"
     ]
    }
   ],
   "source": [
    "length = 7\n",
    "width = 12\n",
    "area = length * width\n",
    "print(area)"
   ]
  },
  {
   "cell_type": "markdown",
   "metadata": {},
   "source": [
    "Now anyone reading our code knows that we wanted to calculate an area. Also note here that we've defined the variable `area` using two other variables. Because we've already told the computer what `length` and `area` mean, it knows that when we use them to calculate the area, we really mean `area = 7 * 12`. \n",
    "\n",
    "When choosing our variable names, it's important to choose names that are descriptive, so that someone reading our code can work out what it is doing. For example, let's look at the above example again with some different variable names:"
   ]
  },
  {
   "cell_type": "code",
   "execution_count": 4,
   "metadata": {},
   "outputs": [
    {
     "name": "stdout",
     "output_type": "stream",
     "text": [
      "84\n"
     ]
    }
   ],
   "source": [
    "a = 7\n",
    "aa = 12\n",
    "aaa = a * aa\n",
    "print(aaa)"
   ]
  },
  {
   "cell_type": "markdown",
   "metadata": {},
   "source": [
    "Someone reading our code wouldn't have any idea that `a`, `aa` or `aaa` correspond to the length, width and area of a rectangle. This isn't such a big deal for a short program such as this, but for larger programs with 10s or even 100s of different variables, choosing sensible variable names becomes increasingly important to keep a track of what the code is doing!\n",
    "\n",
    "Another advantage of variables is that they allow us to use the same quantity in more than one place. Let's think back to algebra, when we were try to solve a quadratic equation such as:\n",
    "\n",
    "$$2x^2+x-1=0.$$\n",
    "\n",
    "This is a generalization of the quadratic equation\n",
    "\n",
    "$$ax^2+bx+c=0,$$\n",
    "\n",
    "which has solutions found using the well-known formula\n",
    "\n",
    "$$x = \\frac{-b \\pm \\sqrt{b^2 - 4ac}}{2a}.$$\n",
    "\n",
    "Let's write some code that can find x for us."
   ]
  },
  {
   "cell_type": "code",
   "execution_count": 5,
   "metadata": {},
   "outputs": [
    {
     "name": "stdout",
     "output_type": "stream",
     "text": [
      "0.5 -1.0\n"
     ]
    }
   ],
   "source": [
    "from math import sqrt #This allows us to do square roots using sqrt( )\n",
    "a = 2\n",
    "b = 1\n",
    "c = -1\n",
    "\n",
    "x1 = (-b + sqrt(b**2 - 4 * a * c)) / (2 * a)\n",
    "x2 = (-b - sqrt(b**2 - 4 * a * c)) / (2 * a)\n",
    "\n",
    "print(x1, x2)"
   ]
  },
  {
   "cell_type": "markdown",
   "metadata": {},
   "source": [
    "In the above example, if we wanted to solve a different equation, perhaps the following:\n",
    "\n",
    "$$x^2+6x-27=0$$\n",
    "\n",
    "then we can easily just change the values of `a`, `b`, and `c`, and then hit `shift`+`enter`. Python does the rest for us! Without variables, we would have to retype those long formulas all over again, or go through and change all of the values by hand!"
   ]
  },
  {
   "cell_type": "markdown",
   "metadata": {},
   "source": [
    "Now let's take a closer look at some of the things we just did. We've been using `=` to assign values to the variables. This is called the *assignment operator*, and the way it's used is pretty important. \n",
    "\n",
    "In math, the the equals sign states that two quantities are the same. However, in programming this is not the case. The assignment operator `=` is used to tell the computer to *do* something. When we use the assignment operator, we're telling the computer to *assign* the label on the left-hand side of the equals sign to is on the right-hand side. \n",
    "\n",
    "Therefore, the left- and right-hand sides of the equals sign are *not* the same in programming! In the quadratic example above, the computer created a variable called `a`, and then stored the value of 2 in `a`. It then did similarly for `b`, `c`, `x1`, and `x2`. Let's look at some more examples:"
   ]
  },
  {
   "cell_type": "code",
   "execution_count": 6,
   "metadata": {},
   "outputs": [
    {
     "name": "stdout",
     "output_type": "stream",
     "text": [
      "1.5\n"
     ]
    }
   ],
   "source": [
    "price = 1.50\n",
    "print(price)"
   ]
  },
  {
   "cell_type": "code",
   "execution_count": 7,
   "metadata": {},
   "outputs": [
    {
     "name": "stdout",
     "output_type": "stream",
     "text": [
      "1.75\n"
     ]
    }
   ],
   "source": [
    "price = 1.75\n",
    "print(price)"
   ]
  },
  {
   "cell_type": "markdown",
   "metadata": {},
   "source": [
    "The assignment operator is telling the computer: \"Create a variable with this name, and store this value in that variable\". \n",
    "\n",
    "What if we want to *check* the equality of two things? The way we do this in Python is with *two* equals signs, like in the examples below:"
   ]
  },
  {
   "cell_type": "code",
   "execution_count": 8,
   "metadata": {},
   "outputs": [
    {
     "data": {
      "text/plain": [
       "True"
      ]
     },
     "execution_count": 8,
     "metadata": {},
     "output_type": "execute_result"
    }
   ],
   "source": [
    "price == 1.75"
   ]
  },
  {
   "cell_type": "code",
   "execution_count": 9,
   "metadata": {},
   "outputs": [
    {
     "data": {
      "text/plain": [
       "False"
      ]
     },
     "execution_count": 9,
     "metadata": {},
     "output_type": "execute_result"
    }
   ],
   "source": [
    "price == 1.50"
   ]
  },
  {
   "cell_type": "markdown",
   "metadata": {},
   "source": [
    "Play around with the above examples using the price variable until you understand the difference between using a single equals sign and using two equals signs."
   ]
  },
  {
   "cell_type": "markdown",
   "metadata": {},
   "source": [
    "Note that the equals sign treats its left and right sides differently. Let's illustrate this with an example:"
   ]
  },
  {
   "cell_type": "code",
   "execution_count": 10,
   "metadata": {},
   "outputs": [
    {
     "ename": "SyntaxError",
     "evalue": "can't assign to literal (<ipython-input-10-407f9b60ad94>, line 1)",
     "output_type": "error",
     "traceback": [
      "\u001b[0;36m  File \u001b[0;32m\"<ipython-input-10-407f9b60ad94>\"\u001b[0;36m, line \u001b[0;32m1\u001b[0m\n\u001b[0;31m    1.50 = price\u001b[0m\n\u001b[0m                ^\u001b[0m\n\u001b[0;31mSyntaxError\u001b[0m\u001b[0;31m:\u001b[0m can't assign to literal\n"
     ]
    }
   ],
   "source": [
    "1.50 = price"
   ]
  },
  {
   "cell_type": "markdown",
   "metadata": {},
   "source": [
    "What happened above? Python thinks we are trying to assign the value of `price` to a variable called `1.50`. As mentioned above, variables names in Python are not allowed to start with a number and the only punctuation they're allowed to contain are underscores, so when we run this we get a `SyntaxError`. \n",
    "\n",
    "Let's look at some more ways that the assignment operator in Python is different from the equals sign in math:"
   ]
  },
  {
   "cell_type": "code",
   "execution_count": 11,
   "metadata": {},
   "outputs": [
    {
     "name": "stdout",
     "output_type": "stream",
     "text": [
      "6\n"
     ]
    }
   ],
   "source": [
    "a = 6\n",
    "print(a)"
   ]
  },
  {
   "cell_type": "code",
   "execution_count": 12,
   "metadata": {},
   "outputs": [
    {
     "name": "stdout",
     "output_type": "stream",
     "text": [
      "7\n"
     ]
    }
   ],
   "source": [
    "a = a + 1\n",
    "print(a)"
   ]
  },
  {
   "cell_type": "code",
   "execution_count": 13,
   "metadata": {},
   "outputs": [
    {
     "name": "stdout",
     "output_type": "stream",
     "text": [
      "14\n"
     ]
    }
   ],
   "source": [
    "a = a*2\n",
    "print(a)"
   ]
  },
  {
   "cell_type": "markdown",
   "metadata": {},
   "source": [
    "In math, if someone writes\n",
    "\n",
    "$$a = a + 1$$\n",
    "\n",
    "you might be tempted to try to solve for $a$ and then find out that the above statement is impossible! But in programming, we're not interested in solving for $a$, and that's not what the code above does. When Python sees this, it looks at the right hand side and evaluates it. At the time, `a` was 6, so it did `6 + 1` and got 7. It then saw that we wanted to assign that to `a`, so it *reassigned* `a` to be 7 instead of 6. When we printed `a`, it told us `a` was now 7. "
   ]
  },
  {
   "cell_type": "markdown",
   "metadata": {},
   "source": [
    "Variables can be set to be any of the data types we've already talked about. Numbers, strings, and booleans can all be assigned to a variable and then used later. Here are some examples:"
   ]
  },
  {
   "cell_type": "code",
   "execution_count": 14,
   "metadata": {},
   "outputs": [
    {
     "name": "stdout",
     "output_type": "stream",
     "text": [
      "Elizabeth\n",
      "1926\n",
      "True\n"
     ]
    }
   ],
   "source": [
    "name = \"Elizabeth\"\n",
    "print(name)\n",
    "\n",
    "birthyear = 1926\n",
    "print(birthyear)\n",
    "\n",
    "likes_corgies = True\n",
    "print(likes_corgies)"
   ]
  },
  {
   "cell_type": "markdown",
   "metadata": {},
   "source": [
    "A quick word of warning before we move on: although it's *possible* to give your variables all sorts of names, be careful not to use the same name as an existing Python function. For example:"
   ]
  },
  {
   "cell_type": "code",
   "execution_count": 15,
   "metadata": {},
   "outputs": [],
   "source": [
    "print = 67"
   ]
  },
  {
   "cell_type": "markdown",
   "metadata": {},
   "source": [
    "It worked... Now let us try to use the print function."
   ]
  },
  {
   "cell_type": "code",
   "execution_count": 16,
   "metadata": {},
   "outputs": [
    {
     "ename": "TypeError",
     "evalue": "'int' object is not callable",
     "output_type": "error",
     "traceback": [
      "\u001b[0;31m---------------------------------------------------------------------------\u001b[0m",
      "\u001b[0;31mTypeError\u001b[0m                                 Traceback (most recent call last)",
      "\u001b[0;32m<ipython-input-16-753269468413>\u001b[0m in \u001b[0;36m<module>\u001b[0;34m\u001b[0m\n\u001b[0;32m----> 1\u001b[0;31m \u001b[0mprint\u001b[0m\u001b[0;34m(\u001b[0m\u001b[0;34m\"Hi!\"\u001b[0m\u001b[0;34m)\u001b[0m\u001b[0;34m\u001b[0m\u001b[0;34m\u001b[0m\u001b[0m\n\u001b[0m",
      "\u001b[0;31mTypeError\u001b[0m: 'int' object is not callable"
     ]
    }
   ],
   "source": [
    "print(\"Hi!\")"
   ]
  },
  {
   "cell_type": "markdown",
   "metadata": {},
   "source": [
    "## Practice Problems"
   ]
  },
  {
   "cell_type": "markdown",
   "metadata": {},
   "source": [
    "Write some code that creates an integer variable with value between 10 and 99. \n",
    "Add 10 to that variable, then print it."
   ]
  },
  {
   "cell_type": "code",
   "execution_count": 1,
   "metadata": {},
   "outputs": [
    {
     "name": "stdout",
     "output_type": "stream",
     "text": [
      "68\n"
     ]
    }
   ],
   "source": [
    "a = 58\n",
    "a = a + 10 # or a += 10\n",
    "print(a)"
   ]
  },
  {
   "cell_type": "markdown",
   "metadata": {},
   "source": [
    "Write some code that creates an integer variable with value between 10 and 99. Print the quotient and remainder of that integer resulting from division by 7."
   ]
  },
  {
   "cell_type": "code",
   "execution_count": 2,
   "metadata": {},
   "outputs": [
    {
     "name": "stdout",
     "output_type": "stream",
     "text": [
      "Quotient: 7\n",
      "Remainder: 1\n"
     ]
    }
   ],
   "source": [
    "a = 50\n",
    "print(\"Quotient:\", a//7)\n",
    "print(\"Remainder:\", a%7)"
   ]
  },
  {
   "cell_type": "markdown",
   "metadata": {},
   "source": [
    "Write some code that creates a variable and assign to it a string containing your name (e.g. \"Liz\"). Print this string twice. (Guess how to print a string a couple of times!)"
   ]
  },
  {
   "cell_type": "code",
   "execution_count": 3,
   "metadata": {},
   "outputs": [
    {
     "name": "stdout",
     "output_type": "stream",
     "text": [
      "AlenaAlena\n"
     ]
    }
   ],
   "source": [
    "a = \"Alena\"\n",
    "print(a * 2)"
   ]
  },
  {
   "cell_type": "markdown",
   "metadata": {},
   "source": [
    "Write some code that creates two variables, and assign each variable to a string containing an animal (e.g. \"cat\" or \"dog\"). Add these two strings together and print the result."
   ]
  },
  {
   "cell_type": "code",
   "execution_count": 4,
   "metadata": {},
   "outputs": [
    {
     "name": "stdout",
     "output_type": "stream",
     "text": [
      "catdog\n"
     ]
    }
   ],
   "source": [
    "a = \"cat\"\n",
    "b = \"dog\"\n",
    "c = a + b\n",
    "print(c)"
   ]
  },
  {
   "cell_type": "markdown",
   "metadata": {},
   "source": [
    "## Advanced Problems "
   ]
  },
  {
   "cell_type": "markdown",
   "metadata": {},
   "source": [
    "Create two variables, `A` and `B` (booleans). Write a print statement that returns the *exclusive or* for these two variables. Use as many additional variables as necessary.\n",
    "\n",
    "An *exclusive or* returns `True` if only one of `A` and `B` is true, and `False` if `A` and `B` are either both true and both false. The following table summarizes this.\n",
    "\n",
    "$$\n",
    "\\begin{array}{c | c | c}\n",
    "   A & B & Answer \\\\\n",
    "   \\hline\n",
    "   T & T & F \\\\\n",
    "   T & F & T \\\\\n",
    "   F & T & T \\\\\n",
    "   F & F & F\n",
    "\\end{array}\n",
    "$$"
   ]
  },
  {
   "cell_type": "code",
   "execution_count": 5,
   "metadata": {},
   "outputs": [
    {
     "name": "stdout",
     "output_type": "stream",
     "text": [
      "True\n"
     ]
    }
   ],
   "source": [
    "A = True\n",
    "B = False\n",
    "\n",
    "print(not A == B)"
   ]
  },
  {
   "cell_type": "markdown",
   "metadata": {},
   "source": [
    "Write some code that saves a number to the variable `num_minutes`. Convert that number to be read in days:hours:minutes and print this to the screen. Use as many additional variables as necessary. The following table gives you some inputs with the correct outputs so you can test your code's accuracy.\n",
    "\n",
    "$$\n",
    "\\begin{array}{c | c}\n",
    "   Input & Answer \\\\\n",
    "   \\hline\n",
    "   43 & 0 : 0 : 43 \\\\\n",
    "   432 & 0 : 7 : 12 \\\\\n",
    "   4321 & 3 : 0 : 1 \\\\\n",
    "   43219 & 30 : 0 : 19\n",
    "\\end{array}\n",
    "$$\n",
    "\n",
    "Hint: the function `print` can be called with more that one *argument* by separating them with commas:"
   ]
  },
  {
   "cell_type": "code",
   "execution_count": 6,
   "metadata": {},
   "outputs": [
    {
     "name": "stdout",
     "output_type": "stream",
     "text": [
      "4 : 5 : 4\n"
     ]
    }
   ],
   "source": [
    "print(4, \":\", 5, \":\", 4)"
   ]
  },
  {
   "cell_type": "code",
   "execution_count": 7,
   "metadata": {},
   "outputs": [
    {
     "name": "stdout",
     "output_type": "stream",
     "text": [
      "30 : 0 : 19\n"
     ]
    }
   ],
   "source": [
    "minutes = 43219\n",
    "\n",
    "minutes_in_day = 60 * 24\n",
    "days = minutes // minutes_in_day\n",
    "minutes = minutes - days * minutes_in_day\n",
    "hours = minutes // 60\n",
    "minutes = minutes - hours * 60\n",
    "\n",
    "print(days, \":\", hours, \":\", minutes)"
   ]
  },
  {
   "cell_type": "code",
   "execution_count": null,
   "metadata": {},
   "outputs": [],
   "source": []
  }
 ],
 "metadata": {
  "kernelspec": {
   "display_name": "Python 3",
   "language": "python",
   "name": "python3"
  },
  "language_info": {
   "codemirror_mode": {
    "name": "ipython",
    "version": 3
   },
   "file_extension": ".py",
   "mimetype": "text/x-python",
   "name": "python",
   "nbconvert_exporter": "python",
   "pygments_lexer": "ipython3",
   "version": "3.6.7"
  }
 },
 "nbformat": 4,
 "nbformat_minor": 2
}
