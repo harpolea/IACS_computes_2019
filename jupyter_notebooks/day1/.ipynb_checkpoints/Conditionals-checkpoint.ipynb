{
 "cells": [
  {
   "cell_type": "markdown",
   "metadata": {},
   "source": [
    "# Conditionals"
   ]
  },
  {
   "cell_type": "markdown",
   "metadata": {},
   "source": [
    "## If Statements"
   ]
  },
  {
   "cell_type": "markdown",
   "metadata": {},
   "source": [
    "So far, the code we've written has been made up of a set of instructions that the computer works through and executes one-by-one. Sometimes when we're writing code, it's useful to have sections whose behaviour depends on the value of variables calculated earlier on in the program. Instead of the program executing all of the lines in the program in sequence, the program can branch so that if some statement is true it executes one set instructions, and if it's false it executes another set of instructions. \n",
    "\n",
    "Let's start by defining a variable `a`."
   ]
  },
  {
   "cell_type": "code",
   "execution_count": 1,
   "metadata": {},
   "outputs": [
    {
     "name": "stdout",
     "output_type": "stream",
     "text": [
      "1\n"
     ]
    }
   ],
   "source": [
    "a = 1\n",
    "print(a)"
   ]
  },
  {
   "cell_type": "markdown",
   "metadata": {},
   "source": [
    "Let's add 1 to `a` and print out its new value:"
   ]
  },
  {
   "cell_type": "code",
   "execution_count": 2,
   "metadata": {},
   "outputs": [
    {
     "name": "stdout",
     "output_type": "stream",
     "text": [
      "2\n"
     ]
    }
   ],
   "source": [
    "a = a + 1\n",
    "print(a)"
   ]
  },
  {
   "cell_type": "markdown",
   "metadata": {},
   "source": [
    "Now that that cell is executed, let's look at the following piece of code:"
   ]
  },
  {
   "cell_type": "code",
   "execution_count": 3,
   "metadata": {},
   "outputs": [
    {
     "name": "stdout",
     "output_type": "stream",
     "text": [
      "3\n"
     ]
    }
   ],
   "source": [
    "if a < 5:\n",
    "    a = a + 1\n",
    "print(a)"
   ]
  },
  {
   "cell_type": "markdown",
   "metadata": {},
   "source": [
    "The first time you run the above code, you should see the number 3 printed (assuming you've run the previous cells). This code does pretty much what you would expect. First, the computer checks to see if `a` is less than 5. If it is, then it adds 1 to `a`, and stores the result in `a`. Next, it prints `a`. Since `a` was 2, it met the condition of being less than 5, so the computer added 1 to `a`. Then the computer printed `a` (because of the way this is written, the computer will print `a` regardless of its value). `a` is now 3. \n",
    "\n",
    "If you select the cell above and hit `shift`+`enter`, it will run again. What do you think will happen? Try it out! Play with this cell until you understand what is happening. Eventually, `a` will equal 5, and the expression `a < 5` will be `False`. The condition in the if statement will no longer be satisfied, so the program will skip the instruction `a = a + 1` and head straight to the line below. "
   ]
  },
  {
   "cell_type": "markdown",
   "metadata": {},
   "source": [
    "Let's look more closely at that last piece of code. The *if* statement looks for a boolean (something that's either `True` or `False`). If that boolean is `True`, then the following code will run. If that boolean is `False`, then the following code will be skipped.\n",
    "\n",
    "In our code, we used `a < 5`. This statement evaluates to a boolean. If we'd done something instead like `if a + 1`, then this would not have worked as `a + 1` would return an integer. "
   ]
  },
  {
   "cell_type": "markdown",
   "metadata": {},
   "source": [
    "With this knowledge, we can see why stuff like this works:"
   ]
  },
  {
   "cell_type": "code",
   "execution_count": 4,
   "metadata": {},
   "outputs": [
    {
     "name": "stdout",
     "output_type": "stream",
     "text": [
      "9\n"
     ]
    }
   ],
   "source": [
    "if True:\n",
    "    a = a * 3\n",
    "print(a)"
   ]
  },
  {
   "cell_type": "markdown",
   "metadata": {},
   "source": [
    "Since the if statement expects a boolean, we could just put a boolean in there (instead of a statement that evaluates to a boolean). Unfortunately, this isn't particularly useful: `if True` will mean that section of code will always run (so we might as well not have the if statement there at all), and `if False` will never run (so we might as well not have that section of code there at all). "
   ]
  },
  {
   "cell_type": "markdown",
   "metadata": {},
   "source": [
    "Often, we want our if statement to apply to multiple instructions, and not just one. To do this, we indent all the lines that we want to include in the if statement block, like so:"
   ]
  },
  {
   "cell_type": "code",
   "execution_count": 5,
   "metadata": {},
   "outputs": [
    {
     "name": "stdout",
     "output_type": "stream",
     "text": [
      "a is 10\n",
      "b is 2\n"
     ]
    }
   ],
   "source": [
    "b = 3\n",
    "if a < 10:\n",
    "    a = a + 1\n",
    "    b = b - 1\n",
    "print(\"a is\", a)\n",
    "print(\"b is\", b)"
   ]
  },
  {
   "cell_type": "markdown",
   "metadata": {},
   "source": [
    "Note: from now on it will be very important to pay attention to indentation. Indentation is how Python detects what you want to be inside the if block. In the example above, the 3rd and 4th lines are inside the if block, so they will only run if the if statement succeeds. The print statements are outside the if block, so they will always run even if the if statement evaluates to `False`. \n",
    "\n",
    "As you will see later, indentation is used a lot in other Python features to indicate different blocks of code. In other languages, these code blocks are often indicated with brackets instead (e.g. C++, Java, R) or with additional statements indicating the end of the blocks (e.g. Fortran, Ruby). "
   ]
  },
  {
   "cell_type": "markdown",
   "metadata": {},
   "source": [
    "## The Else and Elif Keywords"
   ]
  },
  {
   "cell_type": "markdown",
   "metadata": {},
   "source": [
    "If you want the computer to execute a different piece of code should the if condition fail, you use an `else` statement. Here's an example:"
   ]
  },
  {
   "cell_type": "code",
   "execution_count": 6,
   "metadata": {},
   "outputs": [
    {
     "name": "stdout",
     "output_type": "stream",
     "text": [
      "6\n"
     ]
    }
   ],
   "source": [
    "if a < 5:\n",
    "    a = a + 1\n",
    "else:\n",
    "    a = a - 4\n",
    "\n",
    "print(a)"
   ]
  },
  {
   "cell_type": "markdown",
   "metadata": {},
   "source": [
    "The else statement is partnered with the preceding if statement. In the case that the if evaluates to `False`, the block following the else statement will run instead. Note that else statements are optional (e.g. in the above section we didn't have an else statement, which meant that the code did nothing if the if statement evaluated to `False`), but can be very useful.\n",
    "\n",
    "A common mistake for beginners is to write a condition next to the `else` keyword, like this:"
   ]
  },
  {
   "cell_type": "code",
   "execution_count": 7,
   "metadata": {},
   "outputs": [
    {
     "ename": "SyntaxError",
     "evalue": "invalid syntax (<ipython-input-7-7a7c4efa53f3>, line 3)",
     "output_type": "error",
     "traceback": [
      "\u001b[0;36m  File \u001b[0;32m\"<ipython-input-7-7a7c4efa53f3>\"\u001b[0;36m, line \u001b[0;32m3\u001b[0m\n\u001b[0;31m    else a >= 5:\u001b[0m\n\u001b[0m         ^\u001b[0m\n\u001b[0;31mSyntaxError\u001b[0m\u001b[0;31m:\u001b[0m invalid syntax\n"
     ]
    }
   ],
   "source": [
    "if a < 5:\n",
    "    a = a + 1\n",
    "else a >= 5:\n",
    "    a = a -4\n",
    "\n",
    "print(a)"
   ]
  },
  {
   "cell_type": "markdown",
   "metadata": {},
   "source": [
    "However, this gives an error. This is because the else keyword doesn't require a boolean expression to run. It *automatically* runs in all the cases that the if statement fails. "
   ]
  },
  {
   "cell_type": "markdown",
   "metadata": {},
   "source": [
    "What if we have a long list of conditions, and we want to do something different in each case? We can use the `elif` statement, which is short for *else if* (programmers love missing out letters to so that they can type faster). An example is below."
   ]
  },
  {
   "cell_type": "code",
   "execution_count": 8,
   "metadata": {},
   "outputs": [
    {
     "name": "stdout",
     "output_type": "stream",
     "text": [
      "-4\n"
     ]
    }
   ],
   "source": [
    "if a < 5:\n",
    "    a = a + 1\n",
    "elif a == 5:\n",
    "    a = a * 2\n",
    "else:\n",
    "    a = a - 10\n",
    "\n",
    "print(a)"
   ]
  },
  {
   "cell_type": "markdown",
   "metadata": {},
   "source": [
    "The `elif` statement will only run if none of the preceding statements ran (including the if statement with which it is paired and any other preceding elif statements). You can have as many elif statements as you want following an if statement. The computer will check each statement from top to bottom until one of three things happens:\n",
    "\n",
    "1) a statement evaluates to `True` (thus running the indented code)  \n",
    "2) it hits an else statement, thus running the indented code there  \n",
    "3) It hits the bottom (in the case that there is no else statement)\n",
    "\n",
    "Note that in this `if -> elif -> else` construction, only one set of indented code will ever run."
   ]
  },
  {
   "cell_type": "markdown",
   "metadata": {},
   "source": [
    "Play with the above cell. Try to guess what number the computer will print before you run the cell each time. Think about how the computer goes about choosing which piece of code to run."
   ]
  },
  {
   "cell_type": "markdown",
   "metadata": {},
   "source": [
    "*Note*: in Python, we can also use `else if` instead of `elif`. There is really no difference other than 3 extra characters, so which you use in your code is simply personal preference. "
   ]
  },
  {
   "cell_type": "markdown",
   "metadata": {},
   "source": [
    "## Worked Examples "
   ]
  },
  {
   "cell_type": "markdown",
   "metadata": {},
   "source": [
    "1) Write some code that checks if a number is less than 10, and if it is, print `my_number is less than 10`."
   ]
  },
  {
   "cell_type": "code",
   "execution_count": 9,
   "metadata": {},
   "outputs": [
    {
     "name": "stdout",
     "output_type": "stream",
     "text": [
      "my_number is less than 10\n"
     ]
    }
   ],
   "source": [
    "my_number = 5   # This is the number we are checking the value of\n",
    "\n",
    "# Now to check if my_number is less than 10. if statements always\n",
    "# end with a colon\n",
    "if my_number < 10:   \n",
    "    \n",
    "    # Here we are indented underneath the if statement. All code\n",
    "    # indented here will be executed if the if statement is true\n",
    "    print(\"my_number is less than 10\")"
   ]
  },
  {
   "cell_type": "markdown",
   "metadata": {},
   "source": [
    "In the above code, we used the pound sign (#) to write comments. Python will ignore any text we write on the rest of the line following this sign. This is useful because we can write notes to other programmers (and our future selves) without the computer thinking we're trying to code something (which would result in a ton of errors)."
   ]
  },
  {
   "cell_type": "markdown",
   "metadata": {},
   "source": [
    "Here's the above code without comments:"
   ]
  },
  {
   "cell_type": "code",
   "execution_count": 10,
   "metadata": {},
   "outputs": [
    {
     "name": "stdout",
     "output_type": "stream",
     "text": [
      "my_number is less than 10\n"
     ]
    }
   ],
   "source": [
    "my_number = 5  \n",
    "\n",
    "if my_number < 10:   \n",
    "    print(\"my_number is less than 10\")"
   ]
  },
  {
   "cell_type": "markdown",
   "metadata": {},
   "source": [
    "2) Write some code that checks if a number is less than 10 or less than 20. If it's less than 10, print `my_number is less than 10`. If it's less than 20 but greater than 10, print `my_number is greater than 10 but less than 20`."
   ]
  },
  {
   "cell_type": "code",
   "execution_count": 11,
   "metadata": {},
   "outputs": [
    {
     "name": "stdout",
     "output_type": "stream",
     "text": [
      "my_number is greater than 10 but less than 20\n"
     ]
    }
   ],
   "source": [
    "my_number = 17    # This is the number we are checking the value of\n",
    "\n",
    "# Now to check if my_number is less than 10. if statements always\n",
    "# end with a colon\n",
    "if my_number < 10:\n",
    "    \n",
    "    # Here we are indented underneath the if statement. All code\n",
    "    # indented here will be executed if the if statement is true\n",
    "    print(\"my_number is less than 10\")\n",
    "    \n",
    "# Next we are also checking if my_number is less than 20. Note: we\n",
    "# only check if my_number is less than 20 AFTER checking if its less than 10.\n",
    "# If my_number = 7, then the first if (line 4) would be true, and Python\n",
    "# would not check if this elif statement were true. If we had more elif\n",
    "# statements, they are checked sequentially from top to bottom.\n",
    "elif my_number < 20:\n",
    "    # Here we are indented underneath the elif statement. All code\n",
    "    # indented here will be executed if the elif statement is true\n",
    "    print(\"my_number is greater than 10 but less than 20\")"
   ]
  },
  {
   "cell_type": "markdown",
   "metadata": {},
   "source": [
    "Here's the above code without comments:"
   ]
  },
  {
   "cell_type": "code",
   "execution_count": 12,
   "metadata": {},
   "outputs": [
    {
     "name": "stdout",
     "output_type": "stream",
     "text": [
      "my_number is greater than 10 but less than 20\n"
     ]
    }
   ],
   "source": [
    "my_number = 17    \n",
    "\n",
    "if my_number < 10:\n",
    "    print(\"my_number is less than 10\")\n",
    "elif my_number < 20:\n",
    "    print(\"my_number is greater than 10 but less than 20\")"
   ]
  },
  {
   "cell_type": "markdown",
   "metadata": {},
   "source": [
    "3) Write some code that checks if a number is less than 10 or less than 20. If it's less than 10, print `my_number is less than 10`. If it's less than 20 but greater than 10, print `my_number is greater than 10 but less than 20`. If the number is neither of these, print `my_number is greater than 20`."
   ]
  },
  {
   "cell_type": "code",
   "execution_count": 13,
   "metadata": {},
   "outputs": [
    {
     "name": "stdout",
     "output_type": "stream",
     "text": [
      "my_number is greater than 10 but less than 20\n"
     ]
    }
   ],
   "source": [
    "my_number = 17    # This is the number we are checking the value of\n",
    "\n",
    "# Now to check if my_number is less than 10. if statements always\n",
    "# end with a colon\n",
    "if my_number < 10:\n",
    "    \n",
    "    # Here we are indented underneath the if statement. All code\n",
    "    # indented here will be executed if the if statement is true\n",
    "    print(\"my_number is less than 10\")\n",
    "    \n",
    "# Next we are also checking if my_number is less than 20. Note: we\n",
    "# only check if my_number is less than 20 AFTER checking if its less than 10.\n",
    "# If my_number = 7, then the first if (line 4) would be true, and Python\n",
    "# would not check if this elif statement were true. If we had more elif\n",
    "# statements, they are checked sequentially from top to bottom.\n",
    "elif my_number < 20:\n",
    "    # Here we are indented underneath the elif statement. All code\n",
    "    # indented here will be executed if the elif statement is true\n",
    "    print(\"my_number is greater than 10 but less than 20\")\n",
    "\n",
    "# Next we have an else statement. This captures ALL other cases.\n",
    "# If all of the above if and elif statements are false, then\n",
    "# the else is found to be true and the code indented below is \n",
    "# executed.\n",
    "else:\n",
    "    # Here we are indented underneath the else statement. All code\n",
    "    # indented here will be executed if the else statement is true\n",
    "    print(\"my_number is greater than 20\")"
   ]
  },
  {
   "cell_type": "markdown",
   "metadata": {},
   "source": [
    "Here's the above code without comments:"
   ]
  },
  {
   "cell_type": "code",
   "execution_count": 14,
   "metadata": {},
   "outputs": [
    {
     "name": "stdout",
     "output_type": "stream",
     "text": [
      "my number is greater than 20\n"
     ]
    }
   ],
   "source": [
    "my_number = 34\n",
    "\n",
    "if my_number < 10:\n",
    "    print(\"my_number is less than 10\")\n",
    "elif my_number < 20:\n",
    "    print(\"my_number is greater than 10 but less than 20\")\n",
    "else:\n",
    "    print(\"my number is greater than 20\")"
   ]
  },
  {
   "cell_type": "markdown",
   "metadata": {},
   "source": [
    "## Practice Problems "
   ]
  },
  {
   "cell_type": "markdown",
   "metadata": {},
   "source": [
    "Write some code that creates an variable containing an integer between 10 and 99. If it's less than 50, add 25 to it and print the result. Otherwise, just print the number."
   ]
  },
  {
   "cell_type": "code",
   "execution_count": null,
   "metadata": {},
   "outputs": [],
   "source": []
  },
  {
   "cell_type": "markdown",
   "metadata": {},
   "source": [
    "Write some code that creates a variable containing an integer that's either 1, 2, or 3. Write an `if -> elif -> else` statement that will print the word corresponding to that integer. For example, if that integer is 1, this cell should print the word `one`."
   ]
  },
  {
   "cell_type": "code",
   "execution_count": null,
   "metadata": {},
   "outputs": [],
   "source": []
  },
  {
   "cell_type": "markdown",
   "metadata": {},
   "source": [
    "Write some code that creates a variable and stores an integer there. Use an if statement to print `Even` if the number is even or `Odd` if the number is odd. (If you want to make your program more robust, you can have it print an error message if it receives a non-integer). \n",
    "\n",
    "*Hint*: If a number is even, it will give a remainder of 0 when divided by 2. Recall how the modulus ( % ) is used to give the remainder."
   ]
  },
  {
   "cell_type": "code",
   "execution_count": null,
   "metadata": {},
   "outputs": [],
   "source": []
  },
  {
   "cell_type": "markdown",
   "metadata": {},
   "source": [
    "## Advanced Problem"
   ]
  },
  {
   "cell_type": "markdown",
   "metadata": {},
   "source": [
    "Recall the `type` function. Create a variable that contains a string, an integer, or a float. Check the type of this variable. If it's a string, print `This is a string!`. Otherwise print `This is a number!`. If this is an integer and it is bigger than `10`, print `A large number!`."
   ]
  },
  {
   "cell_type": "code",
   "execution_count": null,
   "metadata": {},
   "outputs": [],
   "source": []
  }
 ],
 "metadata": {
  "kernelspec": {
   "display_name": "Python 3",
   "language": "python",
   "name": "python3"
  },
  "language_info": {
   "codemirror_mode": {
    "name": "ipython",
    "version": 3
   },
   "file_extension": ".py",
   "mimetype": "text/x-python",
   "name": "python",
   "nbconvert_exporter": "python",
   "pygments_lexer": "ipython3",
   "version": "3.7.3"
  }
 },
 "nbformat": 4,
 "nbformat_minor": 2
}
