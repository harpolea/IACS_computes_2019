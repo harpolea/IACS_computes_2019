{
 "cells": [
  {
   "cell_type": "markdown",
   "metadata": {},
   "source": [
    "# Day 1 Practice"
   ]
  },
  {
   "cell_type": "markdown",
   "metadata": {},
   "source": [
    "## Exercise 1\n",
    "Let's use Python to do our math homework for us! Solve the following problems by defining some variables and using Python's arithmetic operations:\n",
    "\n",
    "1. How much will my suitcase hold? It's a cuboid with length 81.2 cm, width 46.8 cm and height 14.89 cm - what is its volume?\n",
    "1. I have a strange cubic glass that can hold 783 cm$^3$ of water. How long are its sides?\n",
    "1. I am standing 15.7 m away from a building that is 4.3 m tall. Perched on top of the building directly in front of me I can see a cat, peering over the edge of the roof. How far away is that cat away from me? (Hint: think right angled triangles!)"
   ]
  },
  {
   "cell_type": "code",
   "execution_count": 24,
   "metadata": {},
   "outputs": [
    {
     "name": "stdout",
     "output_type": "stream",
     "text": [
      "my suitcase has a volume of  56584.3824\n"
     ]
    }
   ],
   "source": [
    "volume = 81.2 * 46.8 * 14.89\n",
    "print(\"my suitcase has a volume of \", volume)"
   ]
  },
  {
   "cell_type": "code",
   "execution_count": 25,
   "metadata": {},
   "outputs": [
    {
     "name": "stdout",
     "output_type": "stream",
     "text": [
      "Glass side length =  9.21695047705754\n"
     ]
    }
   ],
   "source": [
    "side_length = 783**(1/3)\n",
    "\n",
    "print(\"Glass side length = \", side_length)"
   ]
  },
  {
   "cell_type": "code",
   "execution_count": 26,
   "metadata": {},
   "outputs": [
    {
     "name": "stdout",
     "output_type": "stream",
     "text": [
      "My cat is 16.27820628939196m away from me\n",
      "My cat is 16.27820628939196m away from me\n"
     ]
    }
   ],
   "source": [
    "from math import sqrt\n",
    "\n",
    "hypotenuse = sqrt(15.7**2 + 4.3**2)\n",
    "\n",
    "print(\"My cat is {}m away from me\".format(hypotenuse))\n",
    "\n",
    "print(f\"My cat is {hypotenuse}m away from me\")"
   ]
  },
  {
   "cell_type": "markdown",
   "metadata": {},
   "source": [
    "## Exercise 2\n",
    "\n",
    "Let's have some fun with while loops and if statements!\n",
    "\n",
    "### Square numbers \n",
    "Use a while loop to print out the first 10 square numbers (i.e. 1, 4, 9...)"
   ]
  },
  {
   "cell_type": "code",
   "execution_count": 27,
   "metadata": {},
   "outputs": [
    {
     "name": "stdout",
     "output_type": "stream",
     "text": [
      "1\n",
      "4\n",
      "9\n",
      "16\n",
      "25\n",
      "36\n",
      "49\n",
      "64\n",
      "81\n",
      "100\n"
     ]
    }
   ],
   "source": [
    "counter = 1\n",
    "\n",
    "while counter <= 10:\n",
    "    print(counter**2)\n",
    "    counter += 1"
   ]
  },
  {
   "cell_type": "markdown",
   "metadata": {},
   "source": [
    "### Triangular numbers \n",
    "From wikipedia:\n",
    "\n",
    "> A triangular number or triangle number counts objects arranged in an equilateral triangle. The $n$th triangular number is the number of dots in the triangular arrangement with $n$ dots on a side, and is equal to the sum of the $n$ natural numbers from 1 to $n$.\n",
    "\n",
    "\n",
    "1. Use a while loop to print out the first 15 triangular numbers. Hint: you may want to keep a variable that contains a running total so that you don't have to repeat calculations!"
   ]
  },
  {
   "cell_type": "code",
   "execution_count": 28,
   "metadata": {},
   "outputs": [
    {
     "name": "stdout",
     "output_type": "stream",
     "text": [
      "1\n",
      "3\n",
      "6\n",
      "10\n",
      "15\n",
      "21\n",
      "28\n",
      "36\n",
      "45\n",
      "55\n",
      "66\n",
      "78\n",
      "91\n",
      "105\n",
      "120\n"
     ]
    }
   ],
   "source": [
    "counter = 1\n",
    "triangular_number = 0\n",
    "\n",
    "while counter <= 15:\n",
    "    triangular_number += counter\n",
    "    counter += 1\n",
    "    \n",
    "    print(triangular_number)"
   ]
  },
  {
   "cell_type": "markdown",
   "metadata": {},
   "source": [
    "2. It turns out that there's a formula for summing up the first $n$ natural numbers:\n",
    "\n",
    "$$ \\sum_n n = \\frac{n (n+1)}{2} $$\n",
    "\n",
    "   Write a second while loop that uses this formula to print the first 15 triangular numbers."
   ]
  },
  {
   "cell_type": "code",
   "execution_count": 29,
   "metadata": {},
   "outputs": [
    {
     "name": "stdout",
     "output_type": "stream",
     "text": [
      "1.0\n",
      "3.0\n",
      "6.0\n",
      "10.0\n",
      "15.0\n",
      "21.0\n",
      "28.0\n",
      "36.0\n",
      "45.0\n",
      "55.0\n",
      "66.0\n",
      "78.0\n",
      "91.0\n",
      "105.0\n",
      "120.0\n"
     ]
    }
   ],
   "source": [
    "counter = 1\n",
    "\n",
    "while counter <= 15:\n",
    "    print(counter * (counter + 1) / 2)\n",
    "    counter += 1"
   ]
  },
  {
   "cell_type": "markdown",
   "metadata": {},
   "source": [
    "### Last divisor standing\n",
    "\n",
    "The following numbers are all powers of 2 that have been multiplied by some prime number (i.e. their unique factors are 2 and the prime number). Use a while loop to find out what that prime number is.\n",
    "\n",
    "*Bonus*: use your while loop to also find out what power of 2 was multiplied by that prime number.\n",
    "\n",
    "- 98304\n",
    "- 212992\n",
    "- 17825792\n",
    "- 2864"
   ]
  },
  {
   "cell_type": "code",
   "execution_count": 31,
   "metadata": {},
   "outputs": [
    {
     "name": "stdout",
     "output_type": "stream",
     "text": [
      "The prime number is 17.0\n"
     ]
    }
   ],
   "source": [
    "# number = 98304\n",
    "# number = 212992\n",
    "number = 17825792\n",
    "# number = 2864\n",
    "\n",
    "while number % 1 == 0:\n",
    "    number /= 2\n",
    "    \n",
    "print(\"The prime number is\", number * 2) # We multiply by 2 here to undo the last division"
   ]
  },
  {
   "cell_type": "code",
   "execution_count": 32,
   "metadata": {},
   "outputs": [
    {
     "name": "stdout",
     "output_type": "stream",
     "text": [
      "The prime number is 179.0 and the power of 2 is 4\n"
     ]
    }
   ],
   "source": [
    "# number = 98304\n",
    "# number = 212992\n",
    "# number = 17825792\n",
    "number = 2864\n",
    "\n",
    "counter = 0\n",
    "\n",
    "while number % 1 == 0:\n",
    "    number /= 2\n",
    "    counter += 1\n",
    "    \n",
    "# here we subtract 1 from the counter to undo the last loop\n",
    "print(\"The prime number is\", number * 2, 'and the power of 2 is', counter - 1) "
   ]
  },
  {
   "cell_type": "code",
   "execution_count": 33,
   "metadata": {},
   "outputs": [
    {
     "data": {
      "text/plain": [
       "2864"
      ]
     },
     "execution_count": 33,
     "metadata": {},
     "output_type": "execute_result"
    }
   ],
   "source": [
    "179 * 2**4"
   ]
  },
  {
   "cell_type": "markdown",
   "metadata": {},
   "source": [
    "### Alliteration is awesome\n",
    "\n",
    "I'm writing a poem about a snake and want to include lots of alliteration for *dramatic effect*. In particular, I'm looking for words that start with the letter 's' (you know, to represent the snake's hissing). Use an if statement to test whether the following words begin with the letter s. If so, print out `<word> begins with an s!`. \n",
    "\n",
    "*Bonus*: I'm really looking to maximize the number of 's's in my poem, so can you think of a way to write a loop to count the number of 's's in a word and print out `<word> contains <n> s's!` if it contains 1 or more 's's?\n",
    "\n",
    "- sand\n",
    "- grass\n",
    "- soil\n",
    "- gravel\n",
    "- swishes\n",
    "- walk\n",
    "- running\n",
    "- slithers"
   ]
  },
  {
   "cell_type": "code",
   "execution_count": 36,
   "metadata": {},
   "outputs": [],
   "source": [
    "# word = 'sand'\n",
    "word = 'grass'\n",
    "# word = 'soil'\n",
    "# word = 'gravel'\n",
    "# word = 'swishes'\n",
    "# word = 'walk'\n",
    "# word = 'running'\n",
    "# word = 'slithers'\n",
    "\n",
    "if word[0] == 's':\n",
    "    print(word, 'begins with an s!')"
   ]
  },
  {
   "cell_type": "code",
   "execution_count": 38,
   "metadata": {},
   "outputs": [
    {
     "name": "stdout",
     "output_type": "stream",
     "text": [
      "grass contains 2 s's!\n"
     ]
    }
   ],
   "source": [
    "# word = 'sand'\n",
    "word = 'grass'\n",
    "# word = 'soil'\n",
    "# word = 'gravel'\n",
    "# word = 'swishes'\n",
    "# word = 'walk'\n",
    "# word = 'running'\n",
    "# word = 'slithers'\n",
    "\n",
    "counter = 0 # counter over the letters\n",
    "s_counter = 0 # count the number s's\n",
    "\n",
    "while counter < len(word):\n",
    "    if word[counter] == 's':\n",
    "        s_counter += 1\n",
    "    counter += 1\n",
    "        \n",
    "if s_counter >= 1:\n",
    "    print(word, 'contains', s_counter, \"s's!\")"
   ]
  },
  {
   "cell_type": "code",
   "execution_count": null,
   "metadata": {},
   "outputs": [],
   "source": []
  }
 ],
 "metadata": {
  "kernelspec": {
   "display_name": "Python 3",
   "language": "python",
   "name": "python3"
  },
  "language_info": {
   "codemirror_mode": {
    "name": "ipython",
    "version": 3
   },
   "file_extension": ".py",
   "mimetype": "text/x-python",
   "name": "python",
   "nbconvert_exporter": "python",
   "pygments_lexer": "ipython3",
   "version": "3.6.7"
  }
 },
 "nbformat": 4,
 "nbformat_minor": 2
}
