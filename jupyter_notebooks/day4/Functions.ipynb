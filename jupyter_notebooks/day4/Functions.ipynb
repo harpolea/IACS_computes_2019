{
 "cells": [
  {
   "cell_type": "markdown",
   "metadata": {},
   "source": [
    "# Practice\n",
    "\n",
    "Write some code that deletes all consonants from the word *omnipotent*."
   ]
  },
  {
   "cell_type": "code",
   "execution_count": 1,
   "metadata": {},
   "outputs": [
    {
     "name": "stdout",
     "output_type": "stream",
     "text": [
      "oioe\n"
     ]
    }
   ],
   "source": [
    "vowels = [\"a\", \"o\", \"i\", \"u\", \"e\"]\n",
    "word = \"omnipotent\"\n",
    "new_string = \"\"\n",
    "\n",
    "for l in word:\n",
    "    if l in vowels:\n",
    "        new_string += l\n",
    "        \n",
    "print(new_string)"
   ]
  },
  {
   "cell_type": "markdown",
   "metadata": {},
   "source": [
    "Now, write some code that deletes all vowels from the word *longitude*."
   ]
  },
  {
   "cell_type": "code",
   "execution_count": 2,
   "metadata": {},
   "outputs": [
    {
     "name": "stdout",
     "output_type": "stream",
     "text": [
      "lngtd\n"
     ]
    }
   ],
   "source": [
    "word = \"longitude\"\n",
    "new_string = \"\"\n",
    "for l in word:\n",
    "    if l not in vowels:\n",
    "        new_string += l\n",
    "\n",
    "print(new_string)"
   ]
  },
  {
   "cell_type": "markdown",
   "metadata": {},
   "source": [
    "As you may have spotted, the above two blocks of code looked more than a little similar.\n",
    "\n",
    "To avoid repeating blocks of similar code, we can create **functions**."
   ]
  },
  {
   "cell_type": "markdown",
   "metadata": {},
   "source": [
    "# Functions"
   ]
  },
  {
   "cell_type": "markdown",
   "metadata": {},
   "source": [
    "Up until now, we've simply been writing code in cells of our notebooks and executing them. This is great if you want to perhaps change one thing and run a sequence of lines of code again with that one thing changed. But what if we want to run the same cell a many times? Or what if we want one cell to be able to run the code that's in another cell? Functions allow us to do these things and really help with the organization (and therefore readability) of our code."
   ]
  },
  {
   "cell_type": "markdown",
   "metadata": {},
   "source": [
    "We've been using several built-in functions up to now, such as `print`, `range`, `lower`, but now it's time for us to write our own functions!"
   ]
  },
  {
   "cell_type": "markdown",
   "metadata": {},
   "source": [
    "Let's begin by writing a function that prints a string a given number of times. To define a function in Python, we use the keyword `def` (short for *define*). "
   ]
  },
  {
   "cell_type": "code",
   "execution_count": 3,
   "metadata": {},
   "outputs": [],
   "source": [
    "def print_string(my_string, n):\n",
    "    for i in range(n):\n",
    "        print(my_string)\n",
    "        \n",
    "def another_print_string(my_string, n):\n",
    "    print((my_string + \"\\n\") * n)"
   ]
  },
  {
   "cell_type": "markdown",
   "metadata": {},
   "source": [
    "**Questions:** What will be the difference in the behavior of these two functions? How would we make them both behave the same?\n",
    "\n",
    "To run the function, we just call it with the necessary arguments."
   ]
  },
  {
   "cell_type": "code",
   "execution_count": 4,
   "metadata": {},
   "outputs": [
    {
     "name": "stdout",
     "output_type": "stream",
     "text": [
      "Hello world!\n",
      "Hello world!\n",
      "Hello world!\n",
      "Hello world!\n",
      "Hello!\n",
      "Hello!\n",
      "Hello!\n",
      "\n"
     ]
    }
   ],
   "source": [
    "print_string(\"Hello world!\", 4)\n",
    "another_print_string(\"Hello!\", 3)"
   ]
  },
  {
   "cell_type": "markdown",
   "metadata": {},
   "source": [
    "*Note*: we can use variable names as the arguments of the functions."
   ]
  },
  {
   "cell_type": "code",
   "execution_count": 5,
   "metadata": {},
   "outputs": [
    {
     "name": "stdout",
     "output_type": "stream",
     "text": [
      "Hello!\n",
      "Hello!\n",
      "Hello!\n",
      "How are you?\n",
      "How are you?\n",
      "How are you?\n"
     ]
    }
   ],
   "source": [
    "strings_to_use = [\"Hello!\", \"How are you?\"]\n",
    "\n",
    "for string in strings_to_use:\n",
    "    print_string(string, 3)"
   ]
  },
  {
   "cell_type": "markdown",
   "metadata": {},
   "source": [
    "We can also define functions without any arguments. For example:"
   ]
  },
  {
   "cell_type": "code",
   "execution_count": 6,
   "metadata": {},
   "outputs": [
    {
     "name": "stdout",
     "output_type": "stream",
     "text": [
      "I used to be an adventurer like you, then I took an arrow in the knee.\n"
     ]
    }
   ],
   "source": [
    "def complain():\n",
    "    print(\"I used to be an adventurer like you, then I took an arrow in the knee.\")\n",
    "    \n",
    "def walk_around():\n",
    "    print(\"I guess I will just go to the market...\")\n",
    "\n",
    "complain()"
   ]
  },
  {
   "cell_type": "markdown",
   "metadata": {},
   "source": [
    "You can call your previously defined functions from within new functions:"
   ]
  },
  {
   "cell_type": "code",
   "execution_count": 7,
   "metadata": {},
   "outputs": [
    {
     "name": "stdout",
     "output_type": "stream",
     "text": [
      "I used to be an adventurer like you, then I took an arrow in the knee.\n"
     ]
    }
   ],
   "source": [
    "def dialogue(player_coming):\n",
    "    if player_coming == True:\n",
    "        complain()\n",
    "    elif player_coming == False:\n",
    "        walk_around()\n",
    "        \n",
    "dialogue(True)"
   ]
  },
  {
   "cell_type": "markdown",
   "metadata": {},
   "source": [
    "Let's recall our ealier example. We used variables to solve it like this:"
   ]
  },
  {
   "cell_type": "code",
   "execution_count": 8,
   "metadata": {},
   "outputs": [],
   "source": [
    "from math import sqrt"
   ]
  },
  {
   "cell_type": "code",
   "execution_count": 9,
   "metadata": {},
   "outputs": [
    {
     "name": "stdout",
     "output_type": "stream",
     "text": [
      "0.5 -1.0\n"
     ]
    }
   ],
   "source": [
    "a = 2\n",
    "b = 1\n",
    "c = -1\n",
    "\n",
    "x1 = (-b + sqrt(b**2 - 4 * a * c)) / (2 * a)\n",
    "x2 = (-b - sqrt(b**2 - 4 * a * c)) / (2 * a)\n",
    "\n",
    "print(x1, x2)"
   ]
  },
  {
   "cell_type": "markdown",
   "metadata": {},
   "source": [
    "If we wish to change `a`, `b` and/or `c`, we could just change the variables and re-run the cell again. However, a better way would be to define a function to do this instead:"
   ]
  },
  {
   "cell_type": "code",
   "execution_count": 10,
   "metadata": {},
   "outputs": [
    {
     "name": "stdout",
     "output_type": "stream",
     "text": [
      "0.5 -1.0\n",
      "3.0 0.0\n"
     ]
    }
   ],
   "source": [
    "def quadratic_solver(a, b, c):\n",
    "    x1 = (-b + sqrt(b**2 - 4 * a * c)) / (2 * a)\n",
    "    x2 = (-b - sqrt(b**2 - 4 * a * c)) / (2 * a)\n",
    "    print(x1, x2)\n",
    "    \n",
    "quadratic_solver(2, 1, -1)\n",
    "quadratic_solver(1, -3, 0)"
   ]
  },
  {
   "cell_type": "markdown",
   "metadata": {},
   "source": [
    "Here's another example of a function. This one takes a birth year, month, and day, and prints out the persons age:"
   ]
  },
  {
   "cell_type": "code",
   "execution_count": 11,
   "metadata": {},
   "outputs": [],
   "source": [
    "def age(birth_year, birth_month, birth_day):\n",
    "    today = 16\n",
    "    this_month = 8\n",
    "    this_year = 2019\n",
    "    if (birth_month > this_month) or ((birth_month == this_month) and (birth_day >= today)):\n",
    "        print(this_year - birth_year - 1)\n",
    "    else:\n",
    "        print(this_year - birth_year)"
   ]
  },
  {
   "cell_type": "code",
   "execution_count": 12,
   "metadata": {},
   "outputs": [
    {
     "name": "stdout",
     "output_type": "stream",
     "text": [
      "7\n"
     ]
    }
   ],
   "source": [
    "age(2012, 1, 7)"
   ]
  },
  {
   "cell_type": "markdown",
   "metadata": {},
   "source": [
    "## Return statements"
   ]
  },
  {
   "cell_type": "markdown",
   "metadata": {},
   "source": [
    "Until now we've had our cells and functions simply *print* output to the screen, but what if we want to do something else with this output (e.g. store it in a list)? It's not very useful to us if it's only printed to the screen. This is where *return statements* come in. With return statements, we can actually use the result of a function in another piece of code. Here's our age function written with a return statement:"
   ]
  },
  {
   "cell_type": "code",
   "execution_count": 13,
   "metadata": {},
   "outputs": [],
   "source": [
    "def new_age(birth_year, birth_month, birth_day):\n",
    "    today = 16\n",
    "    this_month = 8\n",
    "    this_year = 2019\n",
    "    if (birth_month > this_month) or ((birth_month == this_month) and (birth_day >= today)):\n",
    "        return this_year - birth_year - 1\n",
    "    else:\n",
    "        return this_year - birth_year"
   ]
  },
  {
   "cell_type": "markdown",
   "metadata": {},
   "source": [
    "Now let's try calling it."
   ]
  },
  {
   "cell_type": "code",
   "execution_count": 14,
   "metadata": {},
   "outputs": [
    {
     "data": {
      "text/plain": [
       "7"
      ]
     },
     "execution_count": 14,
     "metadata": {},
     "output_type": "execute_result"
    }
   ],
   "source": [
    "new_age(2012, 1, 7)"
   ]
  },
  {
   "cell_type": "markdown",
   "metadata": {},
   "source": [
    "Thanks to the way Jupyter notebooks work, calling `new_age` doesn't look all that different from when we called `age`. Although we didn't tell it to, Jupyter has handily printed out the value returned by the `new_age` function for us. However, we can start to see the advantage of return statements if we assign the output of the `new_age` function to a variable:"
   ]
  },
  {
   "cell_type": "code",
   "execution_count": 15,
   "metadata": {},
   "outputs": [],
   "source": [
    "blue_ivy = new_age(2012, 1, 7)"
   ]
  },
  {
   "cell_type": "markdown",
   "metadata": {},
   "source": [
    "This time it didn't print out the result, as assigning something to a variable does not provide any output. If we try printing our new variable however, we can see that the number returned by our function is now stored in that variable:"
   ]
  },
  {
   "cell_type": "code",
   "execution_count": 16,
   "metadata": {},
   "outputs": [
    {
     "name": "stdout",
     "output_type": "stream",
     "text": [
      "7\n"
     ]
    }
   ],
   "source": [
    "print(blue_ivy)"
   ]
  },
  {
   "cell_type": "markdown",
   "metadata": {},
   "source": [
    "Let's use our function to create a list:"
   ]
  },
  {
   "cell_type": "code",
   "execution_count": 17,
   "metadata": {},
   "outputs": [
    {
     "name": "stdout",
     "output_type": "stream",
     "text": [
      "Jean is 19 years old.\n",
      "Jacob is 18 years old.\n"
     ]
    }
   ],
   "source": [
    "ages = []\n",
    "\n",
    "ages.append(new_age(1999,9,9))\n",
    "ages.append(new_age(2000,12,1))\n",
    "\n",
    "# Now use those variables to do something\n",
    "print(\"Jean is\", ages[0],\"years old.\")\n",
    "print(\"Jacob is\", ages[1],\"years old.\")"
   ]
  },
  {
   "cell_type": "markdown",
   "metadata": {},
   "source": [
    "What will happen if we use the `age` function instead of `new_age`?"
   ]
  },
  {
   "cell_type": "markdown",
   "metadata": {},
   "source": [
    "## Worked Example"
   ]
  },
  {
   "cell_type": "markdown",
   "metadata": {},
   "source": [
    "Let's use our newly learned function writing skills to build a chatbot. This chatbot is not going to be all that smart (for now), but will return some 'opinions' based on the inputs it is given."
   ]
  },
  {
   "cell_type": "code",
   "execution_count": 18,
   "metadata": {},
   "outputs": [],
   "source": [
    "def chatbot(name, animal, state):\n",
    "    print(\"Hello, \" + name + \"!\\n\")\n",
    "    \n",
    "    print(\"Oh, I see you like \" + animal+ \"s...\")\n",
    "    if animal in [\"cat\", \"dog\"]:\n",
    "        print(\"That choice is pretty usual.\\n\")\n",
    "    elif animal in [\"spider\", \"salamander\"]:\n",
    "        print(\"I didn't expect that!\\n\")\n",
    "    else:\n",
    "        print(\"How is it even possible?!\\n\")\n",
    "        \n",
    "    print(\"Wow, you're from \" + state + \".\")\n",
    "    if state in [\"Connecticut\", \"Massachusetts\", \"Rhode Island\", \"New Hampshire\", \"Maine\", \"Vermont\",\n",
    "                 \"New York\", \"Michigan\", \"Wisconsin\", \"Iowa\", \"Minnesota\", \"South Dakota\", \"North Dakota\",\n",
    "                 \"Montana\", \"Idaho\", \"Oregon\", \"Washington\"]:\n",
    "        print(\"Pretty cold there, right?\")\n",
    "    else:\n",
    "        print(\"That's good.\")\n",
    "        \n",
    "    return name + \" from \" + state + \" likes \" + animal + \"s!\""
   ]
  },
  {
   "cell_type": "code",
   "execution_count": 19,
   "metadata": {},
   "outputs": [
    {
     "name": "stdout",
     "output_type": "stream",
     "text": [
      "Hello, Jimmy!\n",
      "\n",
      "Oh, I see you like cats...\n",
      "That choice is pretty usual.\n",
      "\n",
      "Wow, you're from Oregon.\n",
      "Pretty cold there, right?\n"
     ]
    }
   ],
   "source": [
    "jimmy = chatbot(\"Jimmy\", \"cat\", \"Oregon\")"
   ]
  },
  {
   "cell_type": "code",
   "execution_count": 20,
   "metadata": {},
   "outputs": [
    {
     "name": "stdout",
     "output_type": "stream",
     "text": [
      "Jimmy from Oregon likes cats!\n"
     ]
    }
   ],
   "source": [
    "print(jimmy)"
   ]
  },
  {
   "cell_type": "markdown",
   "metadata": {},
   "source": [
    "What happens if we put `return` before some other code in our function?"
   ]
  },
  {
   "cell_type": "code",
   "execution_count": 21,
   "metadata": {},
   "outputs": [],
   "source": [
    "def bad_chatbot(name, animal, state):\n",
    "    \n",
    "    return name + \" from \" + state + \" likes \" + animal + \"s!\"\n",
    "\n",
    "    print(\"Hello, \" + name + \"!\\n\")"
   ]
  },
  {
   "cell_type": "code",
   "execution_count": 22,
   "metadata": {},
   "outputs": [
    {
     "data": {
      "text/plain": [
       "'Alena from New York likes cats!'"
      ]
     },
     "execution_count": 22,
     "metadata": {},
     "output_type": "execute_result"
    }
   ],
   "source": [
    "bad_chatbot(\"Alena\", \"cat\", \"New York\")"
   ]
  },
  {
   "cell_type": "markdown",
   "metadata": {},
   "source": [
    "The function exits and returns the result *as soon as* it hits the return statement, so it never gets to the last line in our function. \n",
    "\n",
    "**Question**: how can we have two `return` statements within the same function definition?"
   ]
  },
  {
   "cell_type": "code",
   "execution_count": 23,
   "metadata": {},
   "outputs": [
    {
     "data": {
      "text/plain": [
       "'Hey'"
      ]
     },
     "execution_count": 23,
     "metadata": {},
     "output_type": "execute_result"
    }
   ],
   "source": [
    "def weird_thing(n):\n",
    "    if n < 0:\n",
    "        return \"Hey\"\n",
    "    else:\n",
    "        return \"Hi\"\n",
    "    \n",
    "weird_thing(-5)"
   ]
  },
  {
   "cell_type": "markdown",
   "metadata": {},
   "source": [
    "## Practice Problems"
   ]
  },
  {
   "cell_type": "markdown",
   "metadata": {},
   "source": [
    "Write a function that takes an integer `n` and prints the first `n` natural numbers."
   ]
  },
  {
   "cell_type": "code",
   "execution_count": null,
   "metadata": {},
   "outputs": [],
   "source": []
  },
  {
   "cell_type": "markdown",
   "metadata": {},
   "source": [
    "Write a function that takes a string and counts how many vowels (a,e,i,o,u) are there in the string. Return the result."
   ]
  },
  {
   "cell_type": "code",
   "execution_count": null,
   "metadata": {},
   "outputs": [],
   "source": []
  },
  {
   "cell_type": "markdown",
   "metadata": {},
   "source": [
    "Now, remember the first thing we did today. Write a function that takes two arguments: `string` and `t`, and returns the version of the string without consonants if the value of `t` is `c`, and removes vowels if the value of the `t` is `v`. Otherwise it returns `False`."
   ]
  },
  {
   "cell_type": "code",
   "execution_count": null,
   "metadata": {},
   "outputs": [],
   "source": []
  },
  {
   "cell_type": "markdown",
   "metadata": {},
   "source": [
    "Write a function that takes 4 arguments: `name`, `year`, `month`, and `day`. It then greets the user and happliy tells them how old they are, before returning ther age."
   ]
  },
  {
   "cell_type": "code",
   "execution_count": null,
   "metadata": {},
   "outputs": [],
   "source": []
  },
  {
   "cell_type": "markdown",
   "metadata": {},
   "source": [
    "Write a function that takes a list of strings and concatenates every string to the strings in front of it in the list. For example, the list [\"cat\", \"dog\", \"fox\",\"pig\"] would return [\"cat\",\"catdog\",\"catdogfox\",\"catdogfoxpig\"]"
   ]
  },
  {
   "cell_type": "code",
   "execution_count": null,
   "metadata": {},
   "outputs": [],
   "source": []
  },
  {
   "cell_type": "markdown",
   "metadata": {},
   "source": [
    "Write a function that takes an integer and returns `True` if that number is prime, and `False` if it isn't. Recall that a positive integer greater than 1 is prime if it can only be divided by 1 and itself."
   ]
  },
  {
   "cell_type": "code",
   "execution_count": null,
   "metadata": {},
   "outputs": [],
   "source": []
  },
  {
   "cell_type": "markdown",
   "metadata": {},
   "source": [
    "Write a function that takes an integer and returns a list of all the factors of the input number."
   ]
  },
  {
   "cell_type": "code",
   "execution_count": null,
   "metadata": {},
   "outputs": [],
   "source": []
  },
  {
   "cell_type": "markdown",
   "metadata": {},
   "source": [
    "## Advanced Problems"
   ]
  },
  {
   "cell_type": "markdown",
   "metadata": {},
   "source": [
    "Create a function that analyzes a password. A good password must contain a lowercase letter, an uppercase letter, a number, and one of the following characters: `.`, `,`, `!`, `?`, `$`, `&`, `^`, `:`, `;`. Also, it must be not shorter than *9* characters.\n",
    "\n",
    "Return `True` if the password is good, and `False` if it is not.\n",
    "\n",
    "Test the following strings:\n",
    "* password_is_strong\n",
    "* myNumberis99:\n",
    "* NuMbErSaReFuN\n",
    "* l33Tn3rd!\n",
    "    "
   ]
  },
  {
   "cell_type": "code",
   "execution_count": null,
   "metadata": {},
   "outputs": [],
   "source": []
  },
  {
   "cell_type": "markdown",
   "metadata": {},
   "source": [
    "By the way, **this advice is wrong**: read [this article](https://www.usatoday.com/story/news/nation-now/2017/08/09/password-expert-says-he-wrong-numbers-capital-letters-and-symbols-useless/552013001/) from *USA today*. People still tend to choose very predictable sequences of numbers, words, and special symbols. A much more secure option is to choose a longer password made up of several random words, e.g. purple tortoise silence cobras -> `purpletortoisesilencecobras`."
   ]
  },
  {
   "cell_type": "markdown",
   "metadata": {},
   "source": [
    "Find all prime factors of an integer `n`."
   ]
  },
  {
   "cell_type": "code",
   "execution_count": null,
   "metadata": {},
   "outputs": [],
   "source": []
  },
  {
   "cell_type": "code",
   "execution_count": null,
   "metadata": {},
   "outputs": [],
   "source": []
  }
 ],
 "metadata": {
  "kernelspec": {
   "display_name": "Python 3",
   "language": "python",
   "name": "python3"
  },
  "language_info": {
   "codemirror_mode": {
    "name": "ipython",
    "version": 3
   },
   "file_extension": ".py",
   "mimetype": "text/x-python",
   "name": "python",
   "nbconvert_exporter": "python",
   "pygments_lexer": "ipython3",
   "version": "3.7.3"
  }
 },
 "nbformat": 4,
 "nbformat_minor": 2
}
