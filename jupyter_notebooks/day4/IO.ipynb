{
 "cells": [
  {
   "cell_type": "markdown",
   "metadata": {},
   "source": [
    "# Input / Output "
   ]
  },
  {
   "cell_type": "markdown",
   "metadata": {},
   "source": [
    "One thing we haven't touched on is how we can get our programs to interact with things outside of our code. In Python, we can write code to read and write to files and take input from the user. "
   ]
  },
  {
   "cell_type": "markdown",
   "metadata": {},
   "source": [
    "### Interact with User"
   ]
  },
  {
   "cell_type": "markdown",
   "metadata": {},
   "source": [
    "A very simple way to demonstrate how to interact with the user is to take input from them using the `input()` function. (Run the cell below)."
   ]
  },
  {
   "cell_type": "code",
   "execution_count": 1,
   "metadata": {},
   "outputs": [
    {
     "name": "stdin",
     "output_type": "stream",
     "text": [
      "What is your name?:  Arthur\n"
     ]
    }
   ],
   "source": [
    "name = input(\"What is your name?: \")"
   ]
  },
  {
   "cell_type": "markdown",
   "metadata": {},
   "source": [
    "You'll notice a few things from this line. \n",
    "\n",
    "First: Python prints out what is inside the string that we passed to the `input()` function. If we had passed nothing, what would we get?"
   ]
  },
  {
   "cell_type": "code",
   "execution_count": 2,
   "metadata": {},
   "outputs": [
    {
     "name": "stdin",
     "output_type": "stream",
     "text": [
      " \n"
     ]
    },
    {
     "data": {
      "text/plain": [
       "''"
      ]
     },
     "execution_count": 2,
     "metadata": {},
     "output_type": "execute_result"
    }
   ],
   "source": [
    "input()"
   ]
  },
  {
   "cell_type": "markdown",
   "metadata": {},
   "source": [
    "It's not very informative when a program puts up an empty box and then idles, waiting for an uninformed user to do something. Its good practice to always provide some kind of prompt as a string input argument to `input()`. \n",
    "\n",
    "The second thing you may notice is Python that outputs our input. What type is our output?"
   ]
  },
  {
   "cell_type": "code",
   "execution_count": 3,
   "metadata": {},
   "outputs": [
    {
     "name": "stdin",
     "output_type": "stream",
     "text": [
      "Give me a number:  42\n"
     ]
    },
    {
     "data": {
      "text/plain": [
       "str"
      ]
     },
     "execution_count": 3,
     "metadata": {},
     "output_type": "execute_result"
    }
   ],
   "source": [
    "# use the type function to determine the type of our output\n",
    "type(input(\"Give me a number: \"))"
   ]
  },
  {
   "cell_type": "markdown",
   "metadata": {},
   "source": [
    "Although I entered a number here, Python interpreted it as a string. That's because everything entered into `input()` gets stored as a string. It is up to the programmer to change the input into the correct data type (this is known by computer scientists as *casting*).  \n",
    "\n",
    "### Casting the data type of input\n",
    "  \n",
    "We can save the input into a variable in the usual way:"
   ]
  },
  {
   "cell_type": "code",
   "execution_count": 4,
   "metadata": {},
   "outputs": [
    {
     "name": "stdin",
     "output_type": "stream",
     "text": [
      "Enter your name:  Arthur\n"
     ]
    }
   ],
   "source": [
    "my_name = input(\"Enter your name: \")"
   ]
  },
  {
   "cell_type": "markdown",
   "metadata": {},
   "source": [
    "You'll notice no output was given here, as it was instead stored inside the variable `my_name`. Lets see what is stored in `my_name`."
   ]
  },
  {
   "cell_type": "code",
   "execution_count": 5,
   "metadata": {},
   "outputs": [
    {
     "name": "stdout",
     "output_type": "stream",
     "text": [
      "Arthur\n"
     ]
    }
   ],
   "source": [
    "print(my_name)"
   ]
  },
  {
   "cell_type": "markdown",
   "metadata": {},
   "source": [
    "Let's try and get a number from the user now:"
   ]
  },
  {
   "cell_type": "code",
   "execution_count": 6,
   "metadata": {},
   "outputs": [
    {
     "name": "stdin",
     "output_type": "stream",
     "text": [
      "What is the answer to life, the universe and everything?  42\n"
     ]
    },
    {
     "name": "stdout",
     "output_type": "stream",
     "text": [
      "<class 'str'>\n",
      "The answer is  42\n",
      "<class 'int'>\n",
      "The answer is  42\n",
      "<class 'str'>\n"
     ]
    }
   ],
   "source": [
    "my_int = input(\"What is the answer to life, the universe and everything? \")  # read input from the user\n",
    "\n",
    "print(type(my_int))                         # print the type of the input from the user\n",
    "print(\"The answer is \" , my_int)            # print the input from the user\n",
    "\n",
    "my_int = int(my_int)                        # change the input to an integer (rather than a string)\n",
    "\n",
    "print(type(my_int))                         # again print the type of my_int (should be an integer)\n",
    "print(\"The answer is \" , my_int)            # again print my_int\n",
    "\n",
    "my_int = str(my_int)\n",
    "print(type(my_int))\n"
   ]
  },
  {
   "cell_type": "markdown",
   "metadata": {},
   "source": [
    "So notice here that we took something that was a string and converted it to an integer. We could do it in one line by doing the following:"
   ]
  },
  {
   "cell_type": "code",
   "execution_count": 7,
   "metadata": {},
   "outputs": [
    {
     "name": "stdin",
     "output_type": "stream",
     "text": [
      "What is the answer to life, the universe and everything?  42\n"
     ]
    },
    {
     "name": "stdout",
     "output_type": "stream",
     "text": [
      "<class 'int'>\n",
      "The answer is  42\n"
     ]
    }
   ],
   "source": [
    "my_int = int(input(\"What is the answer to life, the universe and everything? \"))\n",
    "print(type(my_int))\n",
    "print(\"The answer is \" , my_int)"
   ]
  },
  {
   "cell_type": "markdown",
   "metadata": {},
   "source": [
    "### A bot you can chat to!"
   ]
  },
  {
   "cell_type": "markdown",
   "metadata": {},
   "source": [
    "Remember chat bot example in the last lesson? Now we can make it interactive!"
   ]
  },
  {
   "cell_type": "code",
   "execution_count": 1,
   "metadata": {},
   "outputs": [],
   "source": [
    "def chatbot(name, animal, state):\n",
    "    print(\"Hello, \" + name + \"!\\n\")\n",
    "    \n",
    "    print(\"Oh, I see you like \" + animal + \"s...\")\n",
    "    if animal in [\"cat\", \"dog\"]:\n",
    "        print(\"That choice is pretty usual.\\n\")\n",
    "    elif animal in [\"spider\", \"salamander\"]:\n",
    "        print(\"I didn't expect that!\\n\")\n",
    "    else:\n",
    "        print(\"How is it even possible?!\\n\")\n",
    "        \n",
    "    print(\"Wow, you're from \" + state + \".\")\n",
    "    if state in [\"Connecticut\", \"Massachusetts\", \"Rhode Island\", \"New Hampshire\", \"Maine\", \"Vermont\",\n",
    "                 \"New York\", \"Michigan\", \"Wisconsin\", \"Iowa\", \"Minnesota\", \"South Dakota\", \"North Dakota\",\n",
    "                 \"Montana\", \"Idaho\", \"Oregon\", \"Washington\"]:\n",
    "        print(\"Pretty cold there, huh?\")\n",
    "    else:\n",
    "        print(\"That's good.\")\n",
    "        \n",
    "    return name + \" from \" + state + \" likes \" + animal + \"s!\""
   ]
  },
  {
   "cell_type": "markdown",
   "metadata": {},
   "source": [
    "Write some code that uses this chat bot by feeding user input into the chat bot function's arguments, as opposed to the predetermined answers we've been using."
   ]
  },
  {
   "cell_type": "code",
   "execution_count": 2,
   "metadata": {},
   "outputs": [
    {
     "name": "stdout",
     "output_type": "stream",
     "text": [
      "Hello, Bob!\n",
      "\n",
      "Oh, I see you like cats...\n",
      "That choice is pretty usual.\n",
      "\n",
      "Wow, you're from Iowa.\n",
      "Pretty cold there, huh?\n"
     ]
    },
    {
     "data": {
      "text/plain": [
       "'Bob from Iowa likes cats!'"
      ]
     },
     "execution_count": 2,
     "metadata": {},
     "output_type": "execute_result"
    }
   ],
   "source": [
    "chatbot(\"Bob\", \"cat\", \"Iowa\")"
   ]
  },
  {
   "cell_type": "code",
   "execution_count": 3,
   "metadata": {},
   "outputs": [
    {
     "name": "stdin",
     "output_type": "stream",
     "text": [
      "What is your name?  Alice\n",
      "What is your favorite animal?  cat\n",
      "where are you from?  UK\n"
     ]
    },
    {
     "name": "stdout",
     "output_type": "stream",
     "text": [
      "Hello, Alice!\n",
      "\n",
      "Oh, I see you like cats...\n",
      "That choice is pretty usual.\n",
      "\n",
      "Wow, you're from UK.\n",
      "That's good.\n"
     ]
    },
    {
     "data": {
      "text/plain": [
       "'Alice from UK likes cats!'"
      ]
     },
     "execution_count": 3,
     "metadata": {},
     "output_type": "execute_result"
    }
   ],
   "source": [
    "chatbot(input(\"What is your name? \"),input (\"What is your favorite animal? \"),input(\"where are you from? \"))"
   ]
  },
  {
   "cell_type": "markdown",
   "metadata": {},
   "source": [
    "Let's make our chatbot more chatty:"
   ]
  },
  {
   "cell_type": "code",
   "execution_count": 4,
   "metadata": {},
   "outputs": [],
   "source": [
    "import time\n",
    "\n",
    "def chatbot():\n",
    "    \n",
    "    name = input(\"Hi, I'm RUDY! What's your name? \")\n",
    "    \n",
    "    time.sleep(1)\n",
    "    \n",
    "    print(\"Nice to meet you, \" + name + \"!\\n\")\n",
    "    \n",
    "    animal = input(\"I like turtles. What's your favorite animal? \")\n",
    "    \n",
    "    time.sleep(1)\n",
    "    \n",
    "    print(\"Oh, you like \" + animal + \"s...?\")\n",
    "    \n",
    "    time.sleep(1)\n",
    "    \n",
    "    if animal in [\"cat\", \"dog\"]:\n",
    "        print(\"Boooooring!\\n\")\n",
    "    elif animal in [\"spider\", \"salamander\"]:\n",
    "        print(\"WHOA! You're weird!\\n\")\n",
    "    else:\n",
    "        print(\"What the heck is that?!\\n\")\n",
    "    \n",
    "    time.sleep(1)\n",
    "    \n",
    "    state = input(\"Where are you from? :D \")\n",
    "    \n",
    "    time.sleep(1)\n",
    "    \n",
    "    print(\"Wow, you're from \" + state + \"??\")\n",
    "    \n",
    "    time.sleep(1)\n",
    "    \n",
    "    if state in [\"Connecticut\", \"Massachusetts\", \"Rhode Island\", \"New Hampshire\", \"Maine\", \"Vermont\",\n",
    "                 \"New York\", \"Michigan\", \"Wisconsin\", \"Iowa\", \"Minnesota\", \"South Dakota\", \"North Dakota\",\n",
    "                 \"Montana\", \"Idaho\", \"Oregon\", \"Washington\"]:\n",
    "        print(\"Pretty cold there, huh?\")\n",
    "    else:\n",
    "        print(\"That's good.\")\n",
    "        \n",
    "    return name + \" from \" + state + \" likes \" + animal + \"s!\""
   ]
  },
  {
   "cell_type": "code",
   "execution_count": 5,
   "metadata": {},
   "outputs": [
    {
     "name": "stdin",
     "output_type": "stream",
     "text": [
      "Hi, I'm RUDY! What's your name?  Alice\n"
     ]
    },
    {
     "name": "stdout",
     "output_type": "stream",
     "text": [
      "Nice to meet you, Alice!\n",
      "\n"
     ]
    },
    {
     "name": "stdin",
     "output_type": "stream",
     "text": [
      "I like turtles. What's your favorite animal?  cat\n"
     ]
    },
    {
     "name": "stdout",
     "output_type": "stream",
     "text": [
      "Oh, you like cats...?\n",
      "Boooooring!\n",
      "\n"
     ]
    },
    {
     "name": "stdin",
     "output_type": "stream",
     "text": [
      "Where are you from? :D  UK\n"
     ]
    },
    {
     "name": "stdout",
     "output_type": "stream",
     "text": [
      "Wow, you're from UK??\n",
      "That's good.\n"
     ]
    },
    {
     "data": {
      "text/plain": [
       "'Alice from UK likes cats!'"
      ]
     },
     "execution_count": 5,
     "metadata": {},
     "output_type": "execute_result"
    }
   ],
   "source": [
    "chatbot()"
   ]
  },
  {
   "cell_type": "markdown",
   "metadata": {},
   "source": [
    "### A quick example of control flow"
   ]
  },
  {
   "cell_type": "code",
   "execution_count": 6,
   "metadata": {},
   "outputs": [],
   "source": [
    "def are_we_there_yet():\n",
    "    running = True\n",
    "        \n",
    "    while running:\n",
    "        mom = input(\"Are we there yet? \")\n",
    "\n",
    "        if mom == \"yes\":\n",
    "            running = False"
   ]
  },
  {
   "cell_type": "code",
   "execution_count": 7,
   "metadata": {},
   "outputs": [
    {
     "name": "stdin",
     "output_type": "stream",
     "text": [
      "Are we there yet?  no\n",
      "Are we there yet?  \n",
      "Are we there yet?  not yet\n",
      "Are we there yet?  2983764978263auwfkhgsdkfjsd\n",
      "Are we there yet?  ahdflhw8r\n",
      "Are we there yet?  \n",
      "Are we there yet?  \n",
      "Are we there yet?  yes\n"
     ]
    }
   ],
   "source": [
    "are_we_there_yet()"
   ]
  },
  {
   "cell_type": "markdown",
   "metadata": {},
   "source": [
    "## Read and Write to Files "
   ]
  },
  {
   "cell_type": "markdown",
   "metadata": {},
   "source": [
    "Python can also interact with files already saved on your hard drive or create a new file and write output to that new file. Both commands will require us to open and close a file. That is done as shown here:"
   ]
  },
  {
   "cell_type": "code",
   "execution_count": 14,
   "metadata": {},
   "outputs": [],
   "source": [
    "output_file = open('secret.txt','w')"
   ]
  },
  {
   "cell_type": "markdown",
   "metadata": {},
   "source": [
    "What did we just do? We have opened the file hello.txt in `write` mode (that is what the `'w'` means). We could also have opened in `read only` mode (`'r'`) or `append` mode (`'a'`).  \n",
    "  \n",
    "In `write` mode, the file we name (here its `secret.txt`) is created if it doesn't exist. \n",
    "\n",
    "If it does exist, it is deleted and started from a blank file. Everything written to this file will start at the beginning and follow from there.\n",
    "  \n",
    "In `append` mode (`'a'`), the file named is created if it doesn't exist OR opened if it does exist. Everything written to the file is added at the end (appended, if you will). Anything already written in the file will remain there. New material will simply be appended.\n",
    "  \n",
    "In `read only` mode (`'r'`), the file is simply opened if it exists OR an error is thrown if it doesn't exist.\n",
    "\n",
    "The file we just opened didn't exist, so Python has now kindly created it for us. \n",
    "\n",
    "The variable `output_file` is of a new kind of data type. Let's see what Python says it is:"
   ]
  },
  {
   "cell_type": "code",
   "execution_count": 15,
   "metadata": {},
   "outputs": [
    {
     "data": {
      "text/plain": [
       "_io.TextIOWrapper"
      ]
     },
     "execution_count": 15,
     "metadata": {},
     "output_type": "execute_result"
    }
   ],
   "source": [
    "type(output_file)"
   ]
  },
  {
   "cell_type": "markdown",
   "metadata": {},
   "source": [
    "Think of `output_file` as some kind of interface to the actual file we're interested in,`secret.txt`. `output_file` is *not* the file itself, but through it we can communicate with the file. \n",
    "\n",
    "Anything we want to do with `secret.txt`, we must do through `output_file`. Note that `output_file` is just a variable name. We could have named it anything we wanted.\n",
    "\n",
    "Now let's write something to our file with the write function."
   ]
  },
  {
   "cell_type": "code",
   "execution_count": 16,
   "metadata": {},
   "outputs": [
    {
     "data": {
      "text/plain": [
       "19"
      ]
     },
     "execution_count": 16,
     "metadata": {},
     "output_type": "execute_result"
    }
   ],
   "source": [
    "output_file.write(\"I know your secrets\")"
   ]
  },
  {
   "cell_type": "markdown",
   "metadata": {},
   "source": [
    "This, oddly, printed the number `19` to the screen. This is simply the length of the string that we gave to `write()`. However, `write()` did more than just tell us the length of the string. \n",
    "\n",
    "Let's close our file now that it contains something so we can open it up and look at its contents. We do this just like you'd imagine: using the `close()` function."
   ]
  },
  {
   "cell_type": "code",
   "execution_count": 17,
   "metadata": {},
   "outputs": [],
   "source": [
    "output_file.close()"
   ]
  },
  {
   "cell_type": "markdown",
   "metadata": {},
   "source": [
    "Now, in order to read what's in our file, let's open it up in `read` mode."
   ]
  },
  {
   "cell_type": "code",
   "execution_count": 18,
   "metadata": {},
   "outputs": [],
   "source": [
    "input_file = open('secret.txt', 'r') # the 'r' means read mode"
   ]
  },
  {
   "cell_type": "markdown",
   "metadata": {},
   "source": [
    "Ok, let's read a single line out of our file. We do this with the `readline()` command."
   ]
  },
  {
   "cell_type": "code",
   "execution_count": 19,
   "metadata": {},
   "outputs": [
    {
     "name": "stdout",
     "output_type": "stream",
     "text": [
      "I know your secrets\n"
     ]
    }
   ],
   "source": [
    "# read the next line in our file (which is the first line, since we haven't read any)\n",
    "# and store it in a variable\n",
    "the_line = input_file.readline() \n",
    "\n",
    "print(the_line)"
   ]
  },
  {
   "cell_type": "markdown",
   "metadata": {},
   "source": [
    "Yay! The string we added is in our file. Can we read any more? We didn't add anything else, but let's try."
   ]
  },
  {
   "cell_type": "code",
   "execution_count": 20,
   "metadata": {},
   "outputs": [
    {
     "name": "stdout",
     "output_type": "stream",
     "text": [
      "\n"
     ]
    }
   ],
   "source": [
    "the_second_line = input_file.readline() # read the next line of our file, which is the second line, since we already read the first\n",
    "print(the_second_line)"
   ]
  },
  {
   "cell_type": "markdown",
   "metadata": {},
   "source": [
    "No errors, but nothing seems to have happened. That's because `the_second_line` didn't contain anything (which we expected since we knew our file only had one line.)  \n",
    "  \n",
    "Let's close the file that is `read` only right now, open it in `append`, and then add another line."
   ]
  },
  {
   "cell_type": "code",
   "execution_count": 21,
   "metadata": {},
   "outputs": [],
   "source": [
    "input_file.close()                          # close the file\n",
    "\n",
    "the_file = open('secret.txt', 'a')          # reopen the file in append mode so we can add another line\n",
    "\n",
    "# write two more lines to the file\n",
    "the_file.write(\"I know them all! \")\n",
    "the_file.write(\"Muahaha! \")\n",
    "\n",
    "# now close the file\n",
    "the_file.close()"
   ]
  },
  {
   "cell_type": "markdown",
   "metadata": {},
   "source": [
    "Before we move on, I'm going to quickly introduce something new. \n",
    "\n",
    "You may have noticed that we've been opening and closing the same file a lot. What would happen if we forgot to close our file? If we tried to open it again, our code would break. What if the code broke *before* it reached the `.close()` function? The file would be left open, and again if we tried to re-open it later on, it wouldn't work. These are among the many reasons why it's strongly encouraged to always open files using the `with` keyword:"
   ]
  },
  {
   "cell_type": "code",
   "execution_count": 22,
   "metadata": {},
   "outputs": [],
   "source": [
    "with open('secret.txt', 'w') as the_file:\n",
    "    the_file.write(\"I know them all! \")\n",
    "    the_file.write(\"Muahaha! \")"
   ]
  },
  {
   "cell_type": "markdown",
   "metadata": {},
   "source": [
    "This did exactly the same as the code above: opened the file `secret.txt` in write mode, write two lines to the file, then close the file. Notice we did not need to explicitly close the file ourselves this time: Python did that for us automatically when it exited the `with` block. The great thing about this, is that the file is guaranteed to be closed *regardless of what happens within the block*. So even if the code within the with block causes an error, the file will still be closed when the program exits the with block when the code fails. This is particularly important for complex codes where many different processes may be running at the same time, and although it may be a while before you write anything that complicated, it's good to get in the habit of always opening files using `with open` now!"
   ]
  },
  {
   "cell_type": "markdown",
   "metadata": {},
   "source": [
    "Now let's open this file and read it line by line. We can do this quite easily using this next loop structure."
   ]
  },
  {
   "cell_type": "code",
   "execution_count": 23,
   "metadata": {},
   "outputs": [
    {
     "name": "stdout",
     "output_type": "stream",
     "text": [
      "I know them all! Muahaha! \n"
     ]
    }
   ],
   "source": [
    "with open('secret.txt','r') as the_big_file: # open the file\n",
    "\n",
    "    for line in the_big_file:  # this for loop will go line-by-line until the end of the file, storing each line in the variable \"line\"\n",
    "        print(line)"
   ]
  },
  {
   "cell_type": "markdown",
   "metadata": {},
   "source": [
    "You'll notice that all the lines we printed were put on one single line. Why? "
   ]
  },
  {
   "cell_type": "code",
   "execution_count": 24,
   "metadata": {},
   "outputs": [],
   "source": [
    "with open('secret.txt', 'a') as the_file2:\n",
    "\n",
    "    the_file2.write(\"\\nI know them all!\")        #the \\n adds a new line or \"return\" to our file\n",
    "    the_file2.write(\"\\nMuahaha!\")"
   ]
  },
  {
   "cell_type": "markdown",
   "metadata": {},
   "source": [
    "Now let's print each line of our new file. This is the same code as before."
   ]
  },
  {
   "cell_type": "code",
   "execution_count": 25,
   "metadata": {},
   "outputs": [
    {
     "name": "stdout",
     "output_type": "stream",
     "text": [
      "I know them all! Muahaha! \n",
      "\n",
      "I know them all!\n",
      "\n",
      "Muahaha!\n"
     ]
    }
   ],
   "source": [
    "with open('secret.txt','r') as the_big_file: \n",
    "    for line in the_big_file: \n",
    "        print(line)"
   ]
  },
  {
   "cell_type": "markdown",
   "metadata": {},
   "source": [
    "Woo hoo! That did what we thought it would do. \n",
    "\n",
    "What if we wanted to read the entire file at once?  We can use the `readlines()` function to do that."
   ]
  },
  {
   "cell_type": "code",
   "execution_count": 26,
   "metadata": {},
   "outputs": [
    {
     "name": "stdout",
     "output_type": "stream",
     "text": [
      "['I know them all! Muahaha! \\n', 'I know them all!\\n', 'Muahaha!']\n"
     ]
    }
   ],
   "source": [
    "with open('secret.txt', 'r') as the_whole_file:\n",
    "\n",
    "    everything = the_whole_file.readlines()\n",
    "\n",
    "    print(everything)"
   ]
  },
  {
   "cell_type": "markdown",
   "metadata": {},
   "source": [
    "The `readlines()` function stores all of the lines in a file as strings inside a list. So here we got the whole file, stored in a list of length `3` (the number of non-empty lines in the file). You'll notice we have the special characters `\"\\n\"` explicitly written out here. But look what happens if we try printing them -- they'll magically turn back into new lines!"
   ]
  },
  {
   "cell_type": "code",
   "execution_count": 27,
   "metadata": {},
   "outputs": [
    {
     "name": "stdout",
     "output_type": "stream",
     "text": [
      "I know them all!\n",
      "\n"
     ]
    }
   ],
   "source": [
    "print(everything[1])"
   ]
  },
  {
   "cell_type": "markdown",
   "metadata": {},
   "source": [
    "## Practice Problems"
   ]
  },
  {
   "cell_type": "markdown",
   "metadata": {},
   "source": [
    "Write a function that takes two strings as arguments. \n",
    "\n",
    "Append the first string to a file, and use the second string as the name of the file. \n",
    "\n",
    "Check that your function works by either opening the file manually, or by opening the file in a new cell and printing the content."
   ]
  },
  {
   "cell_type": "code",
   "execution_count": 8,
   "metadata": {},
   "outputs": [],
   "source": [
    "def write_file(string, filename):\n",
    "    with open(filename, 'a') as output_file:\n",
    "        output_file.write(string)\n",
    "        \n",
    "write_file(\"some new text\", 'secret.txt')"
   ]
  },
  {
   "cell_type": "code",
   "execution_count": 9,
   "metadata": {},
   "outputs": [
    {
     "name": "stdout",
     "output_type": "stream",
     "text": [
      "Hello\n",
      "world!some new text\n"
     ]
    }
   ],
   "source": [
    "with open('secret.txt', 'r') as input_file:\n",
    "    print(input_file.read())"
   ]
  },
  {
   "cell_type": "markdown",
   "metadata": {},
   "source": [
    "Write a function with no arguments that prompts the user to enter a random integer between zero and one-hundred. \n",
    "\n",
    "Name your function `get_number` and have it return the number entered. \n",
    "\n",
    "Make sure to cast the number entered as an integer!!\n",
    "\n",
    "*Bonus*: get your function to check that the number is between 1 and 100 before returning. If it's not, ask the user to try inputting a number again!"
   ]
  },
  {
   "cell_type": "code",
   "execution_count": 17,
   "metadata": {},
   "outputs": [],
   "source": [
    "def get_number():\n",
    "    random_int = int(input(\"Enter a random integer between zero and 100: \"))\n",
    "    \n",
    "    while random_int < 0 or random_int > 100:\n",
    "        random_int = int(input(\"That's not between 0 and 100. Please try again: \"))\n",
    "    \n",
    "    return random_int"
   ]
  },
  {
   "cell_type": "code",
   "execution_count": 18,
   "metadata": {},
   "outputs": [
    {
     "name": "stdin",
     "output_type": "stream",
     "text": [
      "Enter a random integer between zero and 100:  287364\n",
      "That's not between 0 and 100. Please try again:  -23847\n",
      "That's not between 0 and 100. Please try again:  324\n",
      "That's not between 0 and 100. Please try again:  32537491\n",
      "That's not between 0 and 100. Please try again:  34\n"
     ]
    }
   ],
   "source": [
    "var = get_number()"
   ]
  },
  {
   "cell_type": "markdown",
   "metadata": {},
   "source": [
    "Write a function that takes a number as its only argument. \n",
    "\n",
    "Have the function prompt the user for another number and store it in a variable. Then, determine if the user's number is greater than, equal to, or less than the input number. \n",
    "\n",
    "Tell the user which case their guess falls into by printing to the screen. \n",
    "\n",
    "Have your function return True if its equal and False otherwise."
   ]
  },
  {
   "cell_type": "code",
   "execution_count": 20,
   "metadata": {},
   "outputs": [],
   "source": [
    "def compare_numbers(n):\n",
    "    m = float(input(\"Please enter a number: \"))\n",
    "    \n",
    "    if m > n:\n",
    "        print(f\"{m} is greater than {n}\")\n",
    "        return False\n",
    "    elif m == n:\n",
    "        print(f\"{m} is equal to {n}\")\n",
    "        return True\n",
    "    elif m < n:\n",
    "        print(f\"{m} is less than {n}\")\n",
    "        return False"
   ]
  },
  {
   "cell_type": "code",
   "execution_count": 22,
   "metadata": {},
   "outputs": [
    {
     "name": "stdin",
     "output_type": "stream",
     "text": [
      "Please enter a number:  5\n"
     ]
    },
    {
     "name": "stdout",
     "output_type": "stream",
     "text": [
      "5.0 is equal to 5\n"
     ]
    },
    {
     "data": {
      "text/plain": [
       "True"
      ]
     },
     "execution_count": 22,
     "metadata": {},
     "output_type": "execute_result"
    }
   ],
   "source": [
    "compare_numbers(5)"
   ]
  },
  {
   "cell_type": "markdown",
   "metadata": {},
   "source": [
    "## Advanced Problem "
   ]
  },
  {
   "cell_type": "markdown",
   "metadata": {},
   "source": [
    "*Guessing Game*: Write a guessing game function that has generates a random integer between 1 and 100 (we will provide the code for this), and then has the user continue to guess until the user guesses the correct number. Each time the user is wrong, the function should tell the user if they were too high or too low."
   ]
  },
  {
   "cell_type": "code",
   "execution_count": 28,
   "metadata": {},
   "outputs": [],
   "source": [
    "# function generating a random number\n",
    "from random import randint\n",
    "\n",
    "def get_rand():\n",
    "    return randint(1,100)\n",
    "\n",
    "def guessing_game():\n",
    "    target = get_rand()\n",
    "    \n",
    "    guess = int(input(\"Guess a number between 1 and 100!\"))\n",
    "    \n",
    "    while guess != target:\n",
    "        if guess < target:\n",
    "            guess = int(input(\"Too low! Try again: \"))\n",
    "        else:\n",
    "            guess = int(input(\"Too high! Try again:\"))\n",
    "            \n",
    "    print(f\"Correct! The number is {target}\")"
   ]
  },
  {
   "cell_type": "code",
   "execution_count": 29,
   "metadata": {},
   "outputs": [
    {
     "name": "stdin",
     "output_type": "stream",
     "text": [
      "Guess a number between 1 and 100! 50\n",
      "Too high! Try again: 25\n",
      "Too high! Try again: 15\n",
      "Too low! Try again:  20\n",
      "Too high! Try again: 18\n",
      "Too high! Try again: 17\n"
     ]
    },
    {
     "name": "stdout",
     "output_type": "stream",
     "text": [
      "Correct! The number is 17\n"
     ]
    }
   ],
   "source": [
    "guessing_game()"
   ]
  },
  {
   "cell_type": "code",
   "execution_count": null,
   "metadata": {},
   "outputs": [],
   "source": []
  }
 ],
 "metadata": {
  "kernelspec": {
   "display_name": "Python 3",
   "language": "python",
   "name": "python3"
  },
  "language_info": {
   "codemirror_mode": {
    "name": "ipython",
    "version": 3
   },
   "file_extension": ".py",
   "mimetype": "text/x-python",
   "name": "python",
   "nbconvert_exporter": "python",
   "pygments_lexer": "ipython3",
   "version": "3.6.7"
  }
 },
 "nbformat": 4,
 "nbformat_minor": 2
}
