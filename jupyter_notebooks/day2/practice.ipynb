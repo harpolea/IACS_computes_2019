{
 "cells": [
  {
   "cell_type": "markdown",
   "metadata": {},
   "source": [
    "# Day 2 practice"
   ]
  },
  {
   "cell_type": "markdown",
   "metadata": {},
   "source": [
    "Let's practice the tools and functions we have looked at the past couple of days. We'll have 2 main probems to solve today: staircase and sentiment analysis."
   ]
  },
  {
   "cell_type": "markdown",
   "metadata": {},
   "source": [
    "### Staircase\n",
    "\n",
    "For a given $n$, print the corresponding staircase made out of hash symbols. For example, if $n=6$, we should get:\n",
    "\n",
    "```\n",
    "#\n",
    "##\n",
    "###\n",
    "####\n",
    "#####\n",
    "######\n",
    "```"
   ]
  },
  {
   "cell_type": "code",
   "execution_count": 1,
   "metadata": {},
   "outputs": [
    {
     "name": "stdout",
     "output_type": "stream",
     "text": [
      "#\n",
      "##\n",
      "###\n",
      "####\n",
      "#####\n",
      "######\n"
     ]
    }
   ],
   "source": [
    "n = 6\n",
    "\n",
    "for i in range(1, n+1):\n",
    "    print('#' * i)"
   ]
  },
  {
   "cell_type": "code",
   "execution_count": 2,
   "metadata": {},
   "outputs": [
    {
     "name": "stdout",
     "output_type": "stream",
     "text": [
      "#\n",
      "##\n",
      "###\n",
      "####\n",
      "#####\n",
      "######\n"
     ]
    }
   ],
   "source": [
    "my_str = \"\"\n",
    "\n",
    "for i in range(n):\n",
    "    my_str += \"#\"\n",
    "    print(my_str)"
   ]
  },
  {
   "cell_type": "markdown",
   "metadata": {},
   "source": [
    "## Data cleaning\n",
    "\n",
    "When scientists perform experiments, the data that they collect needs to be processed before it can be analyzed. Sometimes the detector may not be working, it might be cloudy so the telescope can't see anything, or the scientist may go to get a coffee and miss a reading. Sometimes things interfere with the readings, leading the strange, *anomalous* readings that are far outside the range of expected values. Before any analysis is performed, the data must therefore be *cleaned* to remove any missing or anomalous values.\n",
    "\n",
    "In this exercise, we're going to pretend that we've collected some readings of the brightness of a star that we observed using Mount Stony Brook every evening for four weeks. Unfortunately, on a few of those nights it was cloudy, so no reading was taken. In this case, the brightness is recorded as `0`. On a few other nights, the flood lights at the nearby football stadium were turned on, leading to light contamination which produced anomalously large readings. On one night, an anomalously small reading was recorded (maybe the person taking the reading put the decimal point in the wrong place??). \n",
    "\n",
    "Before we can analyze our data to work out how bright the star is, we will therefore need to clean it. \n",
    "\n",
    "To do this, create a new list which does not contain any values which are 0, or much smaller/larger than would reasonably be expected. Decide for yourself what to consider to be anomalously small/large values. You should create the new list by using a for loop to iterate over the elements of the list, adding any values which satisfy the criteria to your new list. "
   ]
  },
  {
   "cell_type": "code",
   "execution_count": 3,
   "metadata": {},
   "outputs": [],
   "source": [
    "data = [105.77696802, 110.406054  , 106.36737707,  95.02908826,\n",
    "        84.13182033,  0, 0, 101.47121241,\n",
    "       106.07343453,  90.65935074,  93.66283734, 102.19944747,\n",
    "        82.82894661, 102.20360106, 102.29047846, 596.23884439,\n",
    "       104.03586589,  99.09490557,  76.09848805, 114.83901321,\n",
    "        86.5806938 , 497.74438934,  9.891387187, 506.57861168,\n",
    "       101.61619984,  92.62959516,  0,  90.04324646]"
   ]
  },
  {
   "cell_type": "code",
   "execution_count": 5,
   "metadata": {},
   "outputs": [
    {
     "name": "stdout",
     "output_type": "stream",
     "text": [
      "[105.77696802, 110.406054, 106.36737707, 95.02908826, 84.13182033, 101.47121241, 106.07343453, 90.65935074, 93.66283734, 102.19944747, 82.82894661, 102.20360106, 102.29047846, 104.03586589, 99.09490557, 76.09848805, 114.83901321, 86.5806938, 101.61619984, 92.62959516, 90.04324646]\n"
     ]
    }
   ],
   "source": [
    "# create your clean data here\n",
    "\n",
    "# most of the values are around 100, so let's throw out all values that\n",
    "# are not 100 +/- 30\n",
    "\n",
    "clean_data = []\n",
    "\n",
    "for num in data:\n",
    "    if num > 70 and num < 130:\n",
    "        clean_data.append(num)\n",
    "        \n",
    "print(clean_data)"
   ]
  },
  {
   "cell_type": "markdown",
   "metadata": {},
   "source": [
    "Now you have your nice clean data, let's analyze it to deduce how bright this star is. \n",
    "- Calculate the mean of your clean data (this gives an estimate of the true value of the brightness)\n",
    "- *Advanced*: calculate the standard deviation of the clean data (see the advanced problem in the lists - if you did that problem you can reuse your code here!). The standard deviation gives us an estimate of the error in our measurement."
   ]
  },
  {
   "cell_type": "code",
   "execution_count": 7,
   "metadata": {},
   "outputs": [
    {
     "data": {
      "text/plain": [
       "97.52564877523812"
      ]
     },
     "execution_count": 7,
     "metadata": {},
     "output_type": "execute_result"
    }
   ],
   "source": [
    "# calculate the mean\n",
    "mean = sum(clean_data) / len(clean_data)\n",
    "mean"
   ]
  },
  {
   "cell_type": "code",
   "execution_count": 8,
   "metadata": {},
   "outputs": [
    {
     "data": {
      "text/plain": [
       "9.877044386788"
      ]
     },
     "execution_count": 8,
     "metadata": {},
     "output_type": "execute_result"
    }
   ],
   "source": [
    "# calculate the standard deviation\n",
    "sd_sum = 0\n",
    "\n",
    "for num in clean_data:\n",
    "    sd_sum += (num - mean)**2\n",
    "    \n",
    "standard_deviation = (1 / (len(clean_data) - 1) * sd_sum)**0.5\n",
    "\n",
    "standard_deviation"
   ]
  },
  {
   "cell_type": "code",
   "execution_count": 9,
   "metadata": {},
   "outputs": [
    {
     "data": {
      "text/plain": [
       "130.66042345989283"
      ]
     },
     "execution_count": 9,
     "metadata": {},
     "output_type": "execute_result"
    }
   ],
   "source": [
    "# for fun, let's repeat this with our uncleaned data and see how different the results are \n",
    "\n",
    "unclean_mean = sum(data) / len(data)\n",
    "unclean_mean"
   ]
  },
  {
   "cell_type": "code",
   "execution_count": 11,
   "metadata": {},
   "outputs": [
    {
     "data": {
      "text/plain": [
       "147.02447345444045"
      ]
     },
     "execution_count": 11,
     "metadata": {},
     "output_type": "execute_result"
    }
   ],
   "source": [
    "sd_sum = 0\n",
    "\n",
    "for num in data:\n",
    "    sd_sum += (num - unclean_mean)**2\n",
    "    \n",
    "standard_deviation = (1 / (len(data) - 1) * sd_sum)**0.5\n",
    "\n",
    "standard_deviation"
   ]
  },
  {
   "cell_type": "code",
   "execution_count": null,
   "metadata": {},
   "outputs": [],
   "source": [
    "# we can see that with our uncleaned data the mean is much larger (as it is\n",
    "# skewed by the large anomalous values) and the standard deviation is \n",
    "# also much larger (indicating that many of the values in the data are \n",
    "# very far from the mean)."
   ]
  }
 ],
 "metadata": {
  "kernelspec": {
   "display_name": "Python 3",
   "language": "python",
   "name": "python3"
  },
  "language_info": {
   "codemirror_mode": {
    "name": "ipython",
    "version": 3
   },
   "file_extension": ".py",
   "mimetype": "text/x-python",
   "name": "python",
   "nbconvert_exporter": "python",
   "pygments_lexer": "ipython3",
   "version": "3.6.7"
  }
 },
 "nbformat": 4,
 "nbformat_minor": 2
}
