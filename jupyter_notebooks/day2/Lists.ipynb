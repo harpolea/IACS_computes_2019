{
 "cells": [
  {
   "cell_type": "markdown",
   "metadata": {},
   "source": [
    "# Lists"
   ]
  },
  {
   "cell_type": "markdown",
   "metadata": {},
   "source": [
    "We've learned how to assign names to variables and store things in them like numbers or strings. But sometimes, it's advantageous to use the same name to refer to a bunch of numbers or strings. For example, let's say you want to do some calculations with a some student test scores. Here's one way you could store those as variables:"
   ]
  },
  {
   "cell_type": "code",
   "execution_count": 1,
   "metadata": {},
   "outputs": [],
   "source": [
    "score1 = 89\n",
    "score2 = 77\n",
    "score3 = 100\n",
    "score4 = 95\n",
    "score5 = 88"
   ]
  },
  {
   "cell_type": "markdown",
   "metadata": {},
   "source": [
    "This is only 5 test scores, and it took a lot of typing to store them into variables. Can you imagine what it would be like with a class of 30 students? And then what if you wanted to calculate the average of these scores? It would take longer to do that than simply not using variables at all. Fortunately there is a better, faster way. \n",
    "\n",
    "Instead of assigning each number to a single variable, we can combine each of the scores into a single *list* of numbers and assign this `list` to a single variable called `scores`. "
   ]
  },
  {
   "cell_type": "code",
   "execution_count": 2,
   "metadata": {},
   "outputs": [],
   "source": [
    "scores = [89, 77, 100, 95, 88]"
   ]
  },
  {
   "cell_type": "markdown",
   "metadata": {},
   "source": [
    "We can also print all of the test scores at once by printing this variable:"
   ]
  },
  {
   "cell_type": "code",
   "execution_count": 3,
   "metadata": {},
   "outputs": [
    {
     "name": "stdout",
     "output_type": "stream",
     "text": [
      "[89, 77, 100, 95, 88]\n"
     ]
    }
   ],
   "source": [
    "print(scores)"
   ]
  },
  {
   "cell_type": "markdown",
   "metadata": {},
   "source": [
    "You can put any kind of variable in a list, such as strings or booleans:"
   ]
  },
  {
   "cell_type": "code",
   "execution_count": 4,
   "metadata": {},
   "outputs": [
    {
     "name": "stdout",
     "output_type": "stream",
     "text": [
      "['Billy', 'Matthew', 'Shannon', 'Kristen', 'Taylor']\n"
     ]
    }
   ],
   "source": [
    "names = [\"Billy\", \"Matthew\", \"Shannon\", \"Kristen\", \"Taylor\"]\n",
    "print(names)"
   ]
  },
  {
   "cell_type": "code",
   "execution_count": 5,
   "metadata": {},
   "outputs": [
    {
     "name": "stdout",
     "output_type": "stream",
     "text": [
      "[True, False, False, True, False]\n"
     ]
    }
   ],
   "source": [
    "key = [True, False, False, True, False]\n",
    "print(key)"
   ]
  },
  {
   "cell_type": "markdown",
   "metadata": {},
   "source": [
    "An important aspect of lists is that they are *ordered*. This means that the list `[1,2,3]` is different from the list `[2,1,3]`. This can work to our advantage, because each element of a list is uniquely identified by its position in the list."
   ]
  },
  {
   "cell_type": "markdown",
   "metadata": {},
   "source": [
    "Lists wouldn't be very useful if we couldn't access the individual components. To do this, we use square brackets `[ ]`. Inside the square brackets we put the position of the number (or string or boolean, etc.) that we want to use."
   ]
  },
  {
   "cell_type": "code",
   "execution_count": 6,
   "metadata": {},
   "outputs": [
    {
     "name": "stdout",
     "output_type": "stream",
     "text": [
      "89\n",
      "77\n",
      "100\n",
      "95\n",
      "88\n"
     ]
    }
   ],
   "source": [
    "print(scores[0])\n",
    "print(scores[1])\n",
    "print(scores[2])\n",
    "print(scores[3])\n",
    "print(scores[4])"
   ]
  },
  {
   "cell_type": "markdown",
   "metadata": {},
   "source": [
    "*Note*: Python begins numbering the elements of the list from 0. The number used to access an element of a list (i.e. the number inside the square brackets) is called an *index*. So the first element of the list is indexed as the 0th element. What happens if we try to access scores with the index 5?"
   ]
  },
  {
   "cell_type": "code",
   "execution_count": 7,
   "metadata": {},
   "outputs": [
    {
     "ename": "IndexError",
     "evalue": "list index out of range",
     "output_type": "error",
     "traceback": [
      "\u001b[0;31m---------------------------------------------------------------------------\u001b[0m",
      "\u001b[0;31mIndexError\u001b[0m                                Traceback (most recent call last)",
      "\u001b[0;32m<ipython-input-7-ad4a294d22ac>\u001b[0m in \u001b[0;36m<module>\u001b[0;34m\u001b[0m\n\u001b[0;32m----> 1\u001b[0;31m \u001b[0mprint\u001b[0m\u001b[0;34m(\u001b[0m\u001b[0mscores\u001b[0m\u001b[0;34m[\u001b[0m\u001b[0;36m5\u001b[0m\u001b[0;34m]\u001b[0m\u001b[0;34m)\u001b[0m\u001b[0;34m\u001b[0m\u001b[0;34m\u001b[0m\u001b[0m\n\u001b[0m",
      "\u001b[0;31mIndexError\u001b[0m: list index out of range"
     ]
    }
   ],
   "source": [
    "print(scores[5])"
   ]
  },
  {
   "cell_type": "markdown",
   "metadata": {},
   "source": [
    "We get an error. This is because we're trying to access an element of a list that doesn't exist."
   ]
  },
  {
   "cell_type": "markdown",
   "metadata": {},
   "source": [
    "While we can't access `scores[5]`, we *can* access `scores[-1]`. When Python encounters a negative index, it starts counting from the *end* of the list and returns the value it finds. So the last element in the list can be accessed with the index -1."
   ]
  },
  {
   "cell_type": "code",
   "execution_count": 8,
   "metadata": {},
   "outputs": [
    {
     "data": {
      "text/plain": [
       "88"
      ]
     },
     "execution_count": 8,
     "metadata": {},
     "output_type": "execute_result"
    }
   ],
   "source": [
    "scores[-1]"
   ]
  },
  {
   "cell_type": "markdown",
   "metadata": {},
   "source": [
    "Note that this only works up until you reach the beginning of the list, so the most negative index that won't return an error is -(length of list). In our example, `scores[-5]` would return 89, the first entry of the list, but `scores[-6]` would give an error."
   ]
  },
  {
   "cell_type": "markdown",
   "metadata": {},
   "source": [
    "When we access an element of a list, it behaves just like the type that is stored in the list. For example, we can add two elements of a list (when that addition makes sense)."
   ]
  },
  {
   "cell_type": "code",
   "execution_count": 9,
   "metadata": {},
   "outputs": [
    {
     "name": "stdout",
     "output_type": "stream",
     "text": [
      "166\n"
     ]
    }
   ],
   "source": [
    "print(scores[0] + scores[1])"
   ]
  },
  {
   "cell_type": "code",
   "execution_count": 10,
   "metadata": {},
   "outputs": [
    {
     "name": "stdout",
     "output_type": "stream",
     "text": [
      "BillyMatthew\n"
     ]
    }
   ],
   "source": [
    "print(names[0] + names[1])"
   ]
  },
  {
   "cell_type": "markdown",
   "metadata": {},
   "source": [
    "We can also make changes to a single element of a list (i.e. we can reassign what is stored at a certain position in the list). For example, let's say we made an error and need to change the third student's score to 79. We can do that like this:"
   ]
  },
  {
   "cell_type": "code",
   "execution_count": 11,
   "metadata": {},
   "outputs": [
    {
     "name": "stdout",
     "output_type": "stream",
     "text": [
      "[89, 77, 79, 95, 88]\n"
     ]
    }
   ],
   "source": [
    "scores[2] = 79 # An index of 2 will give us the 3rd element of the list\n",
    "print(scores)"
   ]
  },
  {
   "cell_type": "markdown",
   "metadata": {},
   "source": [
    "In Python, the elements of a list don't have to be the same type. It's therefore possible for us to do something like this:"
   ]
  },
  {
   "cell_type": "code",
   "execution_count": 12,
   "metadata": {},
   "outputs": [
    {
     "name": "stdout",
     "output_type": "stream",
     "text": [
      "['h', 67, True, 9, 'masonry', [7, 'moon', [3]], False, True]\n"
     ]
    }
   ],
   "source": [
    "randomlist = [\"h\", 67, True, 9, \"masonry\", [7, \"moon\", [3]], False, True]\n",
    "print(randomlist)"
   ]
  },
  {
   "cell_type": "markdown",
   "metadata": {},
   "source": [
    "From this example, we can see that we can even put lists inside of lists (and lists inside those). These are known as *nested lists*. We can access the elements of these nested lists by adding another set of brackets to the right containing the index of the element within the inner list. For example, if we want to print \"moon\" from the above nested list, we'd first access the nested list (which is the 6th element in the list so has index 5), then we'd access the second element (index 1) of *that* inner list:"
   ]
  },
  {
   "cell_type": "code",
   "execution_count": 13,
   "metadata": {},
   "outputs": [
    {
     "name": "stdout",
     "output_type": "stream",
     "text": [
      "moon\n"
     ]
    }
   ],
   "source": [
    "print(randomlist[5][1])"
   ]
  },
  {
   "cell_type": "markdown",
   "metadata": {},
   "source": [
    "## Some functions we can call on lists"
   ]
  },
  {
   "cell_type": "markdown",
   "metadata": {},
   "source": [
    "There are some useful built-in functions we can call on lists to help us manipulate them. A *function* is a named block of code that we can run by typing its name. We've already seen a few functions: `type` and `print` are functions that are built in to the main Python library. When we call a function, we often (but not always!) give it one or more inputs. These inputs are known as the function's *arguments*. Again, we've already seen this, as when we called the `print` function, we write its name followed by a set of parentheses containing what we want to the function to print for us (i.e. the `print` function's argument). \n",
    "\n",
    "The `len` function (short for length) tells us how many items are in a list."
   ]
  },
  {
   "cell_type": "code",
   "execution_count": 14,
   "metadata": {},
   "outputs": [
    {
     "data": {
      "text/plain": [
       "5"
      ]
     },
     "execution_count": 14,
     "metadata": {},
     "output_type": "execute_result"
    }
   ],
   "source": [
    "len(scores)"
   ]
  },
  {
   "cell_type": "markdown",
   "metadata": {},
   "source": [
    "This is useful if you want to use a loop to perform the same action for all the items in a list.\n",
    "\n",
    "Say we decided to add 5 points to the score of every student. We can do so like this:"
   ]
  },
  {
   "cell_type": "code",
   "execution_count": 15,
   "metadata": {},
   "outputs": [
    {
     "name": "stdout",
     "output_type": "stream",
     "text": [
      "[89, 77, 79, 95, 88]\n"
     ]
    }
   ],
   "source": [
    "print(scores) # For reference, let's see what scores is right now"
   ]
  },
  {
   "cell_type": "code",
   "execution_count": 16,
   "metadata": {},
   "outputs": [],
   "source": [
    "i = 0\n",
    "while i < len(scores):\n",
    "    scores[i] = scores[i] + 5  # add 5 to the ith element of scores\n",
    "    i = i + 1                  # don't forget to increment i"
   ]
  },
  {
   "cell_type": "code",
   "execution_count": 17,
   "metadata": {},
   "outputs": [
    {
     "name": "stdout",
     "output_type": "stream",
     "text": [
      "[94, 82, 84, 100, 93]\n"
     ]
    }
   ],
   "source": [
    "print(scores)"
   ]
  },
  {
   "cell_type": "markdown",
   "metadata": {},
   "source": [
    "We can use the append function to add another student's score to the list."
   ]
  },
  {
   "cell_type": "code",
   "execution_count": 18,
   "metadata": {},
   "outputs": [
    {
     "name": "stdout",
     "output_type": "stream",
     "text": [
      "[94, 82, 84, 100, 93]\n",
      "[94, 82, 84, 100, 93, 85]\n"
     ]
    }
   ],
   "source": [
    "print(scores)      # again, print beforehand for reference\n",
    "scores.append(85)  # This is a special function that uses a period to act on something. Note the syntax.\n",
    "print(scores)"
   ]
  },
  {
   "cell_type": "markdown",
   "metadata": {},
   "source": [
    "The append function is very useful for building up a list from scratch (e.g. inside a loop). One very useful technique is starting an empty list and appending to it later. Accumulating elements of a list in a loop like this is very common.\n",
    "\n",
    "*Note*: if you are working with very large loops and very long lists, then appending items to the end of the list can be very slow and should be avoided. Instead, you should create a list with the required number of elements before you enter the loop, then in the body of the loop update the elements to their correct values. Of course, this means that you need to have some idea of what the final length of the list should be, which is not always possible. In these cases, `append` can still be necessary."
   ]
  },
  {
   "cell_type": "code",
   "execution_count": 19,
   "metadata": {},
   "outputs": [],
   "source": [
    "mylist = [] # Make an empty list "
   ]
  },
  {
   "cell_type": "markdown",
   "metadata": {},
   "source": [
    "The code below will now put the first 8 even numbers into `mylist`."
   ]
  },
  {
   "cell_type": "code",
   "execution_count": 20,
   "metadata": {},
   "outputs": [
    {
     "name": "stdout",
     "output_type": "stream",
     "text": [
      "[0, 2, 4, 6, 8, 10, 12, 14]\n"
     ]
    }
   ],
   "source": [
    "i = 0\n",
    "while i < 8:\n",
    "    mylist.append(2*i)  #i runs from 0 to 7, so 2*i for each i will give us the first 8 evens\n",
    "    i = i + 1\n",
    "print(mylist)"
   ]
  },
  {
   "cell_type": "markdown",
   "metadata": {},
   "source": [
    "The `del` function removes the element of the list at the index specified. For example, this code deletes the last element of scores."
   ]
  },
  {
   "cell_type": "code",
   "execution_count": 21,
   "metadata": {},
   "outputs": [
    {
     "name": "stdout",
     "output_type": "stream",
     "text": [
      "[94, 82, 84, 100, 93, 85]\n",
      "[94, 82, 84, 100, 93]\n"
     ]
    }
   ],
   "source": [
    "print(scores)\n",
    "del scores[-1]\n",
    "print(scores)"
   ]
  },
  {
   "cell_type": "markdown",
   "metadata": {},
   "source": [
    "A note of caution: be careful using the `del` function in loops, as it's easy to lose track of how long your list is. This can understandably cause many errors."
   ]
  },
  {
   "cell_type": "markdown",
   "metadata": {},
   "source": [
    "So far we have seen how to add single elements to a list. But how can we append another list to a given list?"
   ]
  },
  {
   "cell_type": "code",
   "execution_count": 22,
   "metadata": {},
   "outputs": [
    {
     "name": "stdout",
     "output_type": "stream",
     "text": [
      "[1, 2, 3, 4, 5, 6, 7, 8, 9, 10]\n"
     ]
    }
   ],
   "source": [
    "a = [1,2,3,4,5]\n",
    "b = [6,7,8,9,10]\n",
    "\n",
    "i = 0\n",
    "while(i < len(b)):\n",
    "    a.append(b[i])\n",
    "    i = i + 1\n",
    "print(a)"
   ]
  },
  {
   "cell_type": "markdown",
   "metadata": {},
   "source": [
    "There is much simpler way to append a list into another list by using the in built Python function `extend`."
   ]
  },
  {
   "cell_type": "code",
   "execution_count": 23,
   "metadata": {},
   "outputs": [
    {
     "name": "stdout",
     "output_type": "stream",
     "text": [
      "[1, 2, 3, 4, 5, 6, 7, 8, 9, 10]\n"
     ]
    }
   ],
   "source": [
    "a = [1,2,3,4,5]\n",
    "b = [6,7,8,9,10]\n",
    "\n",
    "a.extend(b)\n",
    "print(a)"
   ]
  },
  {
   "cell_type": "markdown",
   "metadata": {},
   "source": [
    "We can test to see if a list contains some element using the keyword `in`. This will return a boolean (`True` or `False`)."
   ]
  },
  {
   "cell_type": "code",
   "execution_count": 24,
   "metadata": {},
   "outputs": [
    {
     "name": "stdout",
     "output_type": "stream",
     "text": [
      "True\n",
      "False\n"
     ]
    }
   ],
   "source": [
    "print(1 in a)\n",
    "print(13 in a)"
   ]
  },
  {
   "cell_type": "markdown",
   "metadata": {},
   "source": [
    "We can use the function `sorted` to sort a list."
   ]
  },
  {
   "cell_type": "code",
   "execution_count": 25,
   "metadata": {},
   "outputs": [
    {
     "name": "stdout",
     "output_type": "stream",
     "text": [
      "a : [98, 43, 56, 38, 99, 17, 22]\n",
      "sorted a: [17, 22, 38, 43, 56, 98, 99]\n"
     ]
    }
   ],
   "source": [
    "a = [98, 43, 56, 38, 99, 17, 22]\n",
    "sorted_a = sorted(a)\n",
    "print(\"a :\", a)\n",
    "print(\"sorted a:\", sorted_a)"
   ]
  },
  {
   "cell_type": "markdown",
   "metadata": {},
   "source": [
    "## Slicing\n",
    "\n",
    "What if we want to select more than one element in our list? For this, we can use *slicing*. Let's first define a list `a`."
   ]
  },
  {
   "cell_type": "code",
   "execution_count": 26,
   "metadata": {},
   "outputs": [],
   "source": [
    "a = [98, 43, 56, 38, 99, 17, 22]"
   ]
  },
  {
   "cell_type": "markdown",
   "metadata": {},
   "source": [
    "To define a slice from elements between indexes `1` and `5`, we would write `[1:5]`:"
   ]
  },
  {
   "cell_type": "code",
   "execution_count": 27,
   "metadata": {},
   "outputs": [
    {
     "name": "stdout",
     "output_type": "stream",
     "text": [
      "[43, 56, 38, 99]\n"
     ]
    }
   ],
   "source": [
    "print(a[1:5])"
   ]
  },
  {
   "cell_type": "markdown",
   "metadata": {},
   "source": [
    "But that only printed 4 numbers??!! In Python, a slice will return you the elements starting with the first index in the slice, up to *but not including* the last element. So `a[1:5]` returned the elements with indices 1, 2, 3, 4 but *not* 5. \n",
    "\n",
    "If we leave out the index before the colon, then Python will start the slice with the 0th element:"
   ]
  },
  {
   "cell_type": "code",
   "execution_count": 28,
   "metadata": {},
   "outputs": [
    {
     "name": "stdout",
     "output_type": "stream",
     "text": [
      "[98, 43]\n"
     ]
    }
   ],
   "source": [
    "print(a[:2])"
   ]
  },
  {
   "cell_type": "markdown",
   "metadata": {},
   "source": [
    "Similarly, if we leave out the index after the colon, then the slice will go from the first index up to the end of the list:"
   ]
  },
  {
   "cell_type": "code",
   "execution_count": 29,
   "metadata": {},
   "outputs": [
    {
     "name": "stdout",
     "output_type": "stream",
     "text": [
      "[38, 99, 17, 22]\n"
     ]
    }
   ],
   "source": [
    "print(a[3:])"
   ]
  },
  {
   "cell_type": "markdown",
   "metadata": {},
   "source": [
    "As you may have guessed, if we leave out both indices, then we will get the full list. In this case, `a[:]` is just the same as writing `a`."
   ]
  },
  {
   "cell_type": "code",
   "execution_count": 30,
   "metadata": {},
   "outputs": [
    {
     "name": "stdout",
     "output_type": "stream",
     "text": [
      "[98, 43, 56, 38, 99, 17, 22]\n"
     ]
    }
   ],
   "source": [
    "print(a[:])"
   ]
  },
  {
   "cell_type": "markdown",
   "metadata": {},
   "source": [
    "We can use the negative indices we saw before to access elements at the end of the list. For example, we can get the last two elements of the list by writing"
   ]
  },
  {
   "cell_type": "code",
   "execution_count": 31,
   "metadata": {},
   "outputs": [
    {
     "name": "stdout",
     "output_type": "stream",
     "text": [
      "[17, 22]\n"
     ]
    }
   ],
   "source": [
    "print(a[-2:])"
   ]
  },
  {
   "cell_type": "markdown",
   "metadata": {},
   "source": [
    "What if we want to miss out elements? We can define a *step* size, that will allow us to access every $n$th element. For example, if we want to access the 1st, 3rd and 5th elements in our list, we would define a slice with step size 2:"
   ]
  },
  {
   "cell_type": "code",
   "execution_count": 32,
   "metadata": {},
   "outputs": [
    {
     "name": "stdout",
     "output_type": "stream",
     "text": [
      "[43, 38, 17]\n"
     ]
    }
   ],
   "source": [
    "print(a[1:6:2])"
   ]
  },
  {
   "cell_type": "markdown",
   "metadata": {},
   "source": [
    "We can also use negative step sizes in order to print the list backwards:"
   ]
  },
  {
   "cell_type": "code",
   "execution_count": 33,
   "metadata": {},
   "outputs": [
    {
     "name": "stdout",
     "output_type": "stream",
     "text": [
      "[22, 17, 99, 38, 56, 43, 98]\n"
     ]
    }
   ],
   "source": [
    "print(a[::-1])"
   ]
  },
  {
   "cell_type": "markdown",
   "metadata": {},
   "source": [
    "The indexing can get a little tricky here. For example, what would we write if we wanted to print the list backwards without the last element? You may think that it would be `a[:-1:-1]`, but that just gives us an empty list:"
   ]
  },
  {
   "cell_type": "code",
   "execution_count": 34,
   "metadata": {},
   "outputs": [
    {
     "name": "stdout",
     "output_type": "stream",
     "text": [
      "[]\n"
     ]
    }
   ],
   "source": [
    "print(a[:-1:-1])"
   ]
  },
  {
   "cell_type": "markdown",
   "metadata": {},
   "source": [
    "In fact, to do this we'd write "
   ]
  },
  {
   "cell_type": "code",
   "execution_count": 35,
   "metadata": {},
   "outputs": [
    {
     "name": "stdout",
     "output_type": "stream",
     "text": [
      "[17, 99, 38, 56, 43, 98]\n"
     ]
    }
   ],
   "source": [
    "print(a[-2::-1])"
   ]
  },
  {
   "cell_type": "markdown",
   "metadata": {},
   "source": [
    "What's going on here??? We can understand this by imagining that Python starts of by reversing our list, but keeping the indices of the elements the same. The second-to-last element which we wish to begin our new reversed list therefore still has the index -2. We therefore use this index as the starting point for our slice. As we haven't provided an index to the right of the first colon, Python will then print the rest of the elements after this one in the reversed list. "
   ]
  },
  {
   "cell_type": "markdown",
   "metadata": {},
   "source": [
    "## Tuples\n",
    "\n",
    "Before we move on to some examples, let's briefly look at *tuples*. Tuples are very similar to lists, however they are computer scientists call *immutable* (un-changeable). This means that once we have defined a tuple, we cannot go back and change its elements (as we did with lists). We define a tuple in Python by using parentheses instead of square brackets. "
   ]
  },
  {
   "cell_type": "code",
   "execution_count": 36,
   "metadata": {},
   "outputs": [],
   "source": [
    "my_tuple = (5, 7, 1, 8, 2)"
   ]
  },
  {
   "cell_type": "markdown",
   "metadata": {},
   "source": [
    "As you can see, elements of this tuple can be accessed in the same way as the element of a list:"
   ]
  },
  {
   "cell_type": "code",
   "execution_count": 37,
   "metadata": {},
   "outputs": [
    {
     "name": "stdout",
     "output_type": "stream",
     "text": [
      "5\n",
      "(1, 8, 2)\n"
     ]
    }
   ],
   "source": [
    "print(my_tuple[0])\n",
    "print(my_tuple[2:])"
   ]
  },
  {
   "cell_type": "markdown",
   "metadata": {},
   "source": [
    "However, if we try to change one of the elements of the tuple, Python gives us an error:"
   ]
  },
  {
   "cell_type": "code",
   "execution_count": 38,
   "metadata": {},
   "outputs": [
    {
     "ename": "TypeError",
     "evalue": "'tuple' object does not support item assignment",
     "output_type": "error",
     "traceback": [
      "\u001b[0;31m---------------------------------------------------------------------------\u001b[0m",
      "\u001b[0;31mTypeError\u001b[0m                                 Traceback (most recent call last)",
      "\u001b[0;32m<ipython-input-38-0a2170fd1534>\u001b[0m in \u001b[0;36m<module>\u001b[0;34m\u001b[0m\n\u001b[0;32m----> 1\u001b[0;31m \u001b[0mmy_tuple\u001b[0m\u001b[0;34m[\u001b[0m\u001b[0;36m1\u001b[0m\u001b[0;34m]\u001b[0m \u001b[0;34m=\u001b[0m \u001b[0;36m3\u001b[0m\u001b[0;34m\u001b[0m\u001b[0;34m\u001b[0m\u001b[0m\n\u001b[0m",
      "\u001b[0;31mTypeError\u001b[0m: 'tuple' object does not support item assignment"
     ]
    }
   ],
   "source": [
    "my_tuple[1] = 3"
   ]
  },
  {
   "cell_type": "markdown",
   "metadata": {},
   "source": [
    "Due to their limitations, tuples may appear to be just a less useful type of list. However, you will often see them used to pass in arguments to functions and more complex data structures where their unchangeable nature (their immutability) can be very useful. "
   ]
  },
  {
   "cell_type": "markdown",
   "metadata": {},
   "source": [
    "## Worked Examples "
   ]
  },
  {
   "cell_type": "markdown",
   "metadata": {},
   "source": [
    "Given the list below, what is the average of the first, third, and fifth entries?"
   ]
  },
  {
   "cell_type": "code",
   "execution_count": 1,
   "metadata": {},
   "outputs": [
    {
     "name": "stdout",
     "output_type": "stream",
     "text": [
      "84.33333333333333\n"
     ]
    }
   ],
   "source": [
    "# The list holding the entries we want to look at\n",
    "the_list = [98, 43, 56, 38, 99, 17, 22]\n",
    "\n",
    "# Remember, Python starts indexing at 0. So to access\n",
    "# the first entry, we need index 0, to access the\n",
    "# the third entry, we need index 2, and the fifth entry \n",
    "# would be index 4. We want the average, so we need to\n",
    "# add the entries together and divide by the number\n",
    "# of entries. So lets add the entries together.\n",
    "the_average = the_list[0] + the_list[2] + the_list[4]\n",
    "\n",
    "# We have the sum, now we need to divide by the number\n",
    "# of entries.\n",
    "the_average = the_average / 3\n",
    "\n",
    "# We've calculated the average. Now we need to display \n",
    "# it\n",
    "print(the_average)"
   ]
  },
  {
   "cell_type": "markdown",
   "metadata": {},
   "source": [
    "Here's the above code without comments:"
   ]
  },
  {
   "cell_type": "code",
   "execution_count": 4,
   "metadata": {},
   "outputs": [
    {
     "data": {
      "text/plain": [
       "373"
      ]
     },
     "execution_count": 4,
     "metadata": {},
     "output_type": "execute_result"
    }
   ],
   "source": [
    "sum(the_list)"
   ]
  },
  {
   "cell_type": "code",
   "execution_count": 5,
   "metadata": {},
   "outputs": [
    {
     "name": "stdout",
     "output_type": "stream",
     "text": [
      "84.33333333333333\n"
     ]
    }
   ],
   "source": [
    "the_list = [98, 43, 56, 38, 99, 17, 22]\n",
    "\n",
    "the_average = sum(the_list[:5:2])\n",
    "\n",
    "the_average /= 3\n",
    "\n",
    "print(the_average)"
   ]
  },
  {
   "cell_type": "markdown",
   "metadata": {},
   "source": [
    "## Practice Problems"
   ]
  },
  {
   "cell_type": "markdown",
   "metadata": {},
   "source": [
    "Write some code that creates a list that contains 5 seperate entries with value 1. (That is, the list has length 5 and every entry has value 1)"
   ]
  },
  {
   "cell_type": "code",
   "execution_count": 6,
   "metadata": {},
   "outputs": [],
   "source": [
    "ones = [1,1,1,1,1]"
   ]
  },
  {
   "cell_type": "code",
   "execution_count": 7,
   "metadata": {},
   "outputs": [
    {
     "data": {
      "text/plain": [
       "[1, 1, 1, 1, 1]"
      ]
     },
     "execution_count": 7,
     "metadata": {},
     "output_type": "execute_result"
    }
   ],
   "source": [
    "ones"
   ]
  },
  {
   "cell_type": "code",
   "execution_count": 9,
   "metadata": {},
   "outputs": [
    {
     "name": "stdout",
     "output_type": "stream",
     "text": [
      "[1, 1, 1, 1, 1]\n"
     ]
    }
   ],
   "source": [
    "counter = 0\n",
    "\n",
    "ones = []\n",
    "\n",
    "while counter < 5:\n",
    "    ones.append(1)\n",
    "    counter += 1\n",
    "    \n",
    "print(ones)"
   ]
  },
  {
   "cell_type": "code",
   "execution_count": 14,
   "metadata": {},
   "outputs": [],
   "source": [
    "ones = [1] * 5"
   ]
  },
  {
   "cell_type": "code",
   "execution_count": 15,
   "metadata": {},
   "outputs": [
    {
     "data": {
      "text/plain": [
       "[1, 1, 1, 1, 1]"
      ]
     },
     "execution_count": 15,
     "metadata": {},
     "output_type": "execute_result"
    }
   ],
   "source": [
    "ones"
   ]
  },
  {
   "cell_type": "markdown",
   "metadata": {},
   "source": [
    "Write some code that creates a list containing the first 17 odd numbers."
   ]
  },
  {
   "cell_type": "code",
   "execution_count": 18,
   "metadata": {},
   "outputs": [],
   "source": [
    "counter = 0\n",
    "\n",
    "odds = []\n",
    "\n",
    "while counter < 17:\n",
    "    odds.append(2 * counter + 1)\n",
    "    counter += 1"
   ]
  },
  {
   "cell_type": "code",
   "execution_count": 19,
   "metadata": {},
   "outputs": [
    {
     "data": {
      "text/plain": [
       "[1, 3, 5, 7, 9, 11, 13, 15, 17, 19, 21, 23, 25, 27, 29, 31, 33]"
      ]
     },
     "execution_count": 19,
     "metadata": {},
     "output_type": "execute_result"
    }
   ],
   "source": [
    "odds"
   ]
  },
  {
   "cell_type": "code",
   "execution_count": 25,
   "metadata": {},
   "outputs": [
    {
     "data": {
      "text/plain": [
       "[1, 3, 5, 7, 9, 11, 13, 15, 17, 19, 21, 23, 25, 27, 29, 31, 33]"
      ]
     },
     "execution_count": 25,
     "metadata": {},
     "output_type": "execute_result"
    }
   ],
   "source": [
    "list(range(1,18))\n",
    "\n",
    "list(range(2*17))[1::2]"
   ]
  },
  {
   "cell_type": "markdown",
   "metadata": {},
   "source": [
    "Write some code that creates a list of all multiples of 5 less than 100."
   ]
  },
  {
   "cell_type": "code",
   "execution_count": 28,
   "metadata": {},
   "outputs": [
    {
     "name": "stdout",
     "output_type": "stream",
     "text": [
      "[5, 10, 15, 20, 25, 30, 35, 40, 45, 50, 55, 60, 65, 70, 75, 80, 85, 90, 95]\n"
     ]
    }
   ],
   "source": [
    "counter = 5\n",
    "multiples = []\n",
    "\n",
    "while counter < 100:\n",
    "    multiples.append(counter)\n",
    "    counter += 5\n",
    "    \n",
    "print(multiples)"
   ]
  },
  {
   "cell_type": "code",
   "execution_count": 30,
   "metadata": {},
   "outputs": [
    {
     "data": {
      "text/plain": [
       "[5, 10, 15, 20, 25, 30, 35, 40, 45, 50, 55, 60, 65, 70, 75, 80, 85, 90, 95]"
      ]
     },
     "execution_count": 30,
     "metadata": {},
     "output_type": "execute_result"
    }
   ],
   "source": [
    "list(range(100))[5::5]"
   ]
  },
  {
   "cell_type": "markdown",
   "metadata": {},
   "source": [
    "Write some code that sums all the entries of a list."
   ]
  },
  {
   "cell_type": "code",
   "execution_count": 31,
   "metadata": {},
   "outputs": [
    {
     "data": {
      "text/plain": [
       "591098.34"
      ]
     },
     "execution_count": 31,
     "metadata": {},
     "output_type": "execute_result"
    }
   ],
   "source": [
    "random_list = [234,587341,456.34,82,2985]\n",
    "\n",
    "sum(random_list)"
   ]
  },
  {
   "cell_type": "markdown",
   "metadata": {},
   "source": [
    "Write some code that calculates the average of a list of numbers."
   ]
  },
  {
   "cell_type": "code",
   "execution_count": 32,
   "metadata": {},
   "outputs": [
    {
     "data": {
      "text/plain": [
       "118219.66799999999"
      ]
     },
     "execution_count": 32,
     "metadata": {},
     "output_type": "execute_result"
    }
   ],
   "source": [
    "sum(random_list) / len(random_list)"
   ]
  },
  {
   "cell_type": "markdown",
   "metadata": {},
   "source": [
    "Write some code that copies all numbers from the given list below that are not multiples of 2 and puts them in a new list. (Hint: This can be done using a loop with a conditional)."
   ]
  },
  {
   "cell_type": "code",
   "execution_count": 35,
   "metadata": {},
   "outputs": [
    {
     "name": "stdout",
     "output_type": "stream",
     "text": [
      "[1, 9, 25, 49, 81]\n"
     ]
    }
   ],
   "source": [
    "first_list = [ 1, 4, 9, 16, 25, 36, 49, 64, 81, 100]\n",
    "\n",
    "new_list = []\n",
    "counter = 0\n",
    "\n",
    "while counter < len(first_list):\n",
    "    element = first_list[counter]\n",
    "    \n",
    "    if element % 2 != 0:\n",
    "        new_list.append(element)\n",
    "    \n",
    "    counter += 1\n",
    "    \n",
    "print(new_list)"
   ]
  },
  {
   "cell_type": "markdown",
   "metadata": {},
   "source": [
    "## Advanced Problems"
   ]
  },
  {
   "cell_type": "markdown",
   "metadata": {},
   "source": [
    "*Standard Deviation*: Write some code that calculates the standard deviation of a list of numbers. The formula for the standard deviation is  \n",
    "  \n",
    "$$ \\sigma = \\sqrt{\\frac{1}{N-1} \\sum_{i = 1}^N(x_i - \\bar{x})^2}$$  \n",
    "  \n",
    "where $N$ is the number of elements in the list, $x_i$ is a particular element of the list, and $\\bar{x}$ is the average of the list of numbers. (Hint: you will need to calculate the average first).\n",
    "\n",
    "Test your code on the given list. The answer is approximately 31.23."
   ]
  },
  {
   "cell_type": "code",
   "execution_count": 2,
   "metadata": {},
   "outputs": [
    {
     "data": {
      "text/plain": [
       "31.234050875061563"
      ]
     },
     "execution_count": 2,
     "metadata": {},
     "output_type": "execute_result"
    }
   ],
   "source": [
    "test_list = [7, 39, 2, 56, 98, 74, 34, 17, 56, 88, 66, 0, 56, 34]\n",
    "\n",
    "average = sum(test_list) / len(test_list)\n",
    "\n",
    "counter = 0\n",
    "my_sum = 0\n",
    "\n",
    "while counter < len(test_list):\n",
    "    my_sum += (test_list[counter] - average)**2\n",
    "    counter += 1\n",
    "\n",
    "from math import sqrt\n",
    "standard_deviation = sqrt(1 / (len(test_list) - 1) * my_sum)\n",
    "standard_deviation"
   ]
  },
  {
   "cell_type": "markdown",
   "metadata": {},
   "source": [
    "*Median*: Write some code that calculates the median of a list of numbers. The answer for test_list is 47.5."
   ]
  },
  {
   "cell_type": "code",
   "execution_count": 3,
   "metadata": {},
   "outputs": [
    {
     "data": {
      "text/plain": [
       "47.5"
      ]
     },
     "execution_count": 3,
     "metadata": {},
     "output_type": "execute_result"
    }
   ],
   "source": [
    "sorted_list = sorted(test_list)\n",
    "\n",
    "central_index = len(test_list) // 2\n",
    "\n",
    "median = sum(sorted_list[central_index - 1:central_index+1]) / 2\n",
    "\n",
    "median"
   ]
  },
  {
   "cell_type": "markdown",
   "metadata": {},
   "source": [
    "*Mode*: Write some code that calculates the mode of a list of numbers. The answer for test_list is 56."
   ]
  },
  {
   "cell_type": "code",
   "execution_count": 6,
   "metadata": {},
   "outputs": [
    {
     "data": {
      "text/plain": [
       "56"
      ]
     },
     "execution_count": 6,
     "metadata": {},
     "output_type": "execute_result"
    }
   ],
   "source": [
    "# this is tricky without using more complex data structures we haven't seen yet,\n",
    "# so while this solution works in practice it's pretty fiddly and not a great way \n",
    "# of doing this\n",
    "\n",
    "# first sort the list \n",
    "sorted_list = sorted(test_list)\n",
    "\n",
    "# make a variable to keep track of the most common one \n",
    "most_common = -1\n",
    "# variable holding how many times it's repeated \n",
    "most_common_reps = 0\n",
    "# also need a local value to hold number of reps of test values\n",
    "local_reps = 0\n",
    "\n",
    "# now loop over the list \n",
    "counter = 1\n",
    "\n",
    "while counter < len(sorted_list):\n",
    "    # check to see if the element of the list is the same \n",
    "    # as the previous element\n",
    "    if sorted_list[counter] == sorted_list[counter - 1]:\n",
    "        # if so we increment the number of local reps\n",
    "        local_reps += 1\n",
    "        \n",
    "        # check to see if the local number of reps is greater that \n",
    "        # the largest one found so far\n",
    "        if local_reps > most_common_reps:\n",
    "            most_common = sorted_list[counter]\n",
    "            most_common_reps = local_reps\n",
    "            \n",
    "    else:\n",
    "        # reset the number of local reps\n",
    "        local_reps = 0\n",
    "        \n",
    "    counter += 1\n",
    "    \n",
    "most_common"
   ]
  }
 ],
 "metadata": {
  "kernelspec": {
   "display_name": "Python 3",
   "language": "python",
   "name": "python3"
  },
  "language_info": {
   "codemirror_mode": {
    "name": "ipython",
    "version": 3
   },
   "file_extension": ".py",
   "mimetype": "text/x-python",
   "name": "python",
   "nbconvert_exporter": "python",
   "pygments_lexer": "ipython3",
   "version": "3.6.7"
  }
 },
 "nbformat": 4,
 "nbformat_minor": 2
}
